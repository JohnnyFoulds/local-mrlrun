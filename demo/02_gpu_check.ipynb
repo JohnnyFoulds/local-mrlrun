{
 "cells": [
  {
   "cell_type": "markdown",
   "metadata": {},
   "source": [
    "# 02 : GPU Check\n",
    "\n",
    "This is a simple test to see if the GPU is available and working correctly.\n",
    "\n",
    "- https://stackoverflow.com/questions/76581229/is-it-possible-to-check-if-gpu-is-available-without-using-deep-learning-packages\n",
    "- https://docs.mlrun.org/en/v1.7.2/runtimes/configuring-job-resources.html\n",
    "- https://docs.k3s.io/advanced#nvidia-container-runtime"
   ]
  },
  {
   "cell_type": "code",
   "execution_count": 1,
   "metadata": {},
   "outputs": [
    {
     "name": "stdout",
     "output_type": "stream",
     "text": [
      "> 2025-07-28 17:42:52,073 [info] Server and client versions are not the same but compatible: {\"parsed_client_version\":\"Version(major=1, minor=7, patch=2, prerelease=None, build=None)\",\"parsed_server_version\":\"Version(major=1, minor=9, patch=1, prerelease=None, build=None)\"}\n"
     ]
    }
   ],
   "source": [
    "import mlrun"
   ]
  },
  {
   "cell_type": "code",
   "execution_count": 2,
   "metadata": {},
   "outputs": [
    {
     "data": {
      "text/plain": [
       "HTTPRunDB('http://dragon.local:30070')"
      ]
     },
     "execution_count": 2,
     "metadata": {},
     "output_type": "execute_result"
    }
   ],
   "source": [
    "# Show the API server URL\n",
    "mlrun.get_run_db()"
   ]
  },
  {
   "cell_type": "code",
   "execution_count": 3,
   "metadata": {},
   "outputs": [
    {
     "name": "stdout",
     "output_type": "stream",
     "text": [
      "> 2025-07-28 17:42:52,126 [info] Project loaded successfully: {\"project_name\":\"mlrun-demo-johannes\"}\n",
      "Full project name: mlrun-demo-johannes\n"
     ]
    }
   ],
   "source": [
    "# Set the base project name\n",
    "project_name = \"mlrun-demo\"\n",
    "\n",
    "# Initialize the MLRun project object\n",
    "project = mlrun.get_or_create_project(\n",
    "    name=project_name, \n",
    "    context=\"./\",\n",
    "    user_project=True)\n",
    "\n",
    "# Display the current project name\n",
    "project_name = project.metadata.name\n",
    "print(f'Full project name: {project_name}')"
   ]
  },
  {
   "cell_type": "markdown",
   "metadata": {},
   "source": [
    "## Get GPU Function"
   ]
  },
  {
   "cell_type": "code",
   "execution_count": 4,
   "metadata": {},
   "outputs": [
    {
     "name": "stdout",
     "output_type": "stream",
     "text": [
      "Overwriting 02_get_gpu_info.py\n"
     ]
    }
   ],
   "source": [
    "%%writefile 02_get_gpu_info.py\n",
    "\n",
    "import GPUtil\n",
    "import subprocess\n",
    "\n",
    "def get_gpu_info(context):    \n",
    "    gpus = GPUtil.getGPUs()\n",
    "    gpu_info = []\n",
    "    for gpu in gpus:\n",
    "        gpu_info.append({\n",
    "            'id': gpu.id,\n",
    "            'name': gpu.name,\n",
    "            'load': gpu.load,\n",
    "            'memory_total': gpu.memoryTotal,\n",
    "            'memory_free': gpu.memoryFree,\n",
    "            'memory_used': gpu.memoryUsed,\n",
    "        })\n",
    "\n",
    "    print(f\"GPU Info v4: {gpu_info}\")\n",
    "    context.logger.info(f\"GPU Info: {gpu_info}\")\n",
    "\n",
    "    # execute the nvidia-smi command on the cli to get detailed GPU info\n",
    "    try:\n",
    "        nvidia_smi_output = subprocess.check_output(['nvidia-smi'], universal_newlines=True)\n",
    "        print(\"NVIDIA-SMI Output:\")\n",
    "        print(nvidia_smi_output)\n",
    "        context.logger.info(f\"NVIDIA-SMI Output:\\n{nvidia_smi_output}\")\n",
    "    except Exception as e:\n",
    "        error_msg = f\"Error running nvidia-smi: {str(e)}\"\n",
    "        print(error_msg)\n",
    "        context.logger.warning(error_msg)\n",
    "    \n",
    "    return gpu_info"
   ]
  },
  {
   "cell_type": "markdown",
   "metadata": {},
   "source": [
    "## ML Run Function"
   ]
  },
  {
   "cell_type": "code",
   "execution_count": null,
   "metadata": {},
   "outputs": [
    {
     "name": "stdout",
     "output_type": "stream",
     "text": [
      "> 2025-07-28 17:44:51,930 [warning] it is recommended to use k8s secret (specify secret_name), specifying the aws_access_key/aws_secret_key directly is unsafe\n"
     ]
    },
    {
     "name": "stderr",
     "output_type": "stream",
     "text": [
      "The `overwrite_build_params` parameter default will change from 'False' to 'True' in 1.8.0.\n"
     ]
    },
    {
     "name": "stdout",
     "output_type": "stream",
     "text": [
      "> 2025-07-28 17:44:52,206 [info] Started building image: .mlrun/func-mlrun-demo-johannes-gpu-check:latest\n",
      "error checking push permissions -- make sure you entered the correct tag name, and that you are authenticated correctly, and try again: checking push permission for \"dragon:6500/mlrun/func-mlrun-demo-johannes-gpu-check:latest\": creating push check transport for dragon:6500 failed: Get \"https://dragon:6500/v2/\": tls: failed to verify certificate: x509: certificate signed by unknown authority\n"
     ]
    },
    {
     "ename": "MLRunRuntimeError",
     "evalue": "Deploy failed",
     "output_type": "error",
     "traceback": [
      "\u001b[0;31m---------------------------------------------------------------------------\u001b[0m",
      "\u001b[0;31mMLRunRuntimeError\u001b[0m                         Traceback (most recent call last)",
      "Cell \u001b[0;32mIn[6], line 14\u001b[0m\n\u001b[1;32m     11\u001b[0m fn_gpu_check\u001b[38;5;241m.\u001b[39mwith_limits(mem\u001b[38;5;241m=\u001b[39m\u001b[38;5;124m\"\u001b[39m\u001b[38;5;124m2G\u001b[39m\u001b[38;5;124m\"\u001b[39m, cpu\u001b[38;5;241m=\u001b[39m\u001b[38;5;241m2\u001b[39m, gpus\u001b[38;5;241m=\u001b[39m\u001b[38;5;241m1\u001b[39m)  \u001b[38;5;66;03m# upper bound\u001b[39;00m\n\u001b[1;32m     13\u001b[0m \u001b[38;5;66;03m# build the function\u001b[39;00m\n\u001b[0;32m---> 14\u001b[0m \u001b[43mproject\u001b[49m\u001b[38;5;241;43m.\u001b[39;49m\u001b[43mbuild_function\u001b[49m\u001b[43m(\u001b[49m\u001b[43mfunction\u001b[49m\u001b[38;5;241;43m=\u001b[39;49m\u001b[38;5;124;43m'\u001b[39;49m\u001b[38;5;124;43mgpu-check\u001b[39;49m\u001b[38;5;124;43m'\u001b[39;49m\u001b[43m,\u001b[49m\n\u001b[1;32m     15\u001b[0m \u001b[43m                        \u001b[49m\u001b[43mbuilder_env\u001b[49m\u001b[38;5;241;43m=\u001b[39;49m\u001b[43m{\u001b[49m\u001b[38;5;124;43m\"\u001b[39;49m\u001b[38;5;124;43mDOCKER_REGISTRY_INSECURE\u001b[39;49m\u001b[38;5;124;43m\"\u001b[39;49m\u001b[43m:\u001b[49m\u001b[43m \u001b[49m\u001b[38;5;124;43m\"\u001b[39;49m\u001b[38;5;124;43mtrue\u001b[39;49m\u001b[38;5;124;43m\"\u001b[39;49m\u001b[43m}\u001b[49m\u001b[43m)\u001b[49m\n",
      "File \u001b[0;32m/opt/homebrew/Caskroom/miniconda/base/envs/local-mlrun/lib/python3.9/site-packages/mlrun/projects/project.py:3540\u001b[0m, in \u001b[0;36mMlrunProject.build_function\u001b[0;34m(self, function, with_mlrun, skip_deployed, image, base_image, commands, secret_name, requirements, mlrun_version_specifier, builder_env, overwrite_build_params, requirements_file, extra_args, force_build)\u001b[0m\n\u001b[1;32m   3501\u001b[0m \u001b[38;5;28;01mdef\u001b[39;00m\u001b[38;5;250m \u001b[39m\u001b[38;5;21mbuild_function\u001b[39m(\n\u001b[1;32m   3502\u001b[0m     \u001b[38;5;28mself\u001b[39m,\n\u001b[1;32m   3503\u001b[0m     function: typing\u001b[38;5;241m.\u001b[39mUnion[\u001b[38;5;28mstr\u001b[39m, mlrun\u001b[38;5;241m.\u001b[39mruntimes\u001b[38;5;241m.\u001b[39mBaseRuntime],\n\u001b[0;32m   (...)\u001b[0m\n\u001b[1;32m   3516\u001b[0m     force_build: \u001b[38;5;28mbool\u001b[39m \u001b[38;5;241m=\u001b[39m \u001b[38;5;28;01mFalse\u001b[39;00m,\n\u001b[1;32m   3517\u001b[0m ) \u001b[38;5;241m-\u001b[39m\u001b[38;5;241m>\u001b[39m typing\u001b[38;5;241m.\u001b[39mUnion[BuildStatus, PipelineNodeWrapper]:\n\u001b[1;32m   3518\u001b[0m \u001b[38;5;250m    \u001b[39m\u001b[38;5;124;03m\"\"\"deploy ML function, build container with its dependencies\u001b[39;00m\n\u001b[1;32m   3519\u001b[0m \n\u001b[1;32m   3520\u001b[0m \u001b[38;5;124;03m    :param function:            name of the function (in the project) or function object\u001b[39;00m\n\u001b[0;32m   (...)\u001b[0m\n\u001b[1;32m   3538\u001b[0m \u001b[38;5;124;03m    :param force_build:  force building the image, even when no changes were made\u001b[39;00m\n\u001b[1;32m   3539\u001b[0m \u001b[38;5;124;03m    \"\"\"\u001b[39;00m\n\u001b[0;32m-> 3540\u001b[0m     \u001b[38;5;28;01mreturn\u001b[39;00m \u001b[43mbuild_function\u001b[49m\u001b[43m(\u001b[49m\n\u001b[1;32m   3541\u001b[0m \u001b[43m        \u001b[49m\u001b[43mfunction\u001b[49m\u001b[43m,\u001b[49m\n\u001b[1;32m   3542\u001b[0m \u001b[43m        \u001b[49m\u001b[43mwith_mlrun\u001b[49m\u001b[38;5;241;43m=\u001b[39;49m\u001b[43mwith_mlrun\u001b[49m\u001b[43m,\u001b[49m\n\u001b[1;32m   3543\u001b[0m \u001b[43m        \u001b[49m\u001b[43mskip_deployed\u001b[49m\u001b[38;5;241;43m=\u001b[39;49m\u001b[43mskip_deployed\u001b[49m\u001b[43m,\u001b[49m\n\u001b[1;32m   3544\u001b[0m \u001b[43m        \u001b[49m\u001b[43mimage\u001b[49m\u001b[38;5;241;43m=\u001b[39;49m\u001b[43mimage\u001b[49m\u001b[43m,\u001b[49m\n\u001b[1;32m   3545\u001b[0m \u001b[43m        \u001b[49m\u001b[43mbase_image\u001b[49m\u001b[38;5;241;43m=\u001b[39;49m\u001b[43mbase_image\u001b[49m\u001b[43m,\u001b[49m\n\u001b[1;32m   3546\u001b[0m \u001b[43m        \u001b[49m\u001b[43mcommands\u001b[49m\u001b[38;5;241;43m=\u001b[39;49m\u001b[43mcommands\u001b[49m\u001b[43m,\u001b[49m\n\u001b[1;32m   3547\u001b[0m \u001b[43m        \u001b[49m\u001b[43msecret_name\u001b[49m\u001b[38;5;241;43m=\u001b[39;49m\u001b[43msecret_name\u001b[49m\u001b[43m,\u001b[49m\n\u001b[1;32m   3548\u001b[0m \u001b[43m        \u001b[49m\u001b[43mrequirements\u001b[49m\u001b[38;5;241;43m=\u001b[39;49m\u001b[43mrequirements\u001b[49m\u001b[43m,\u001b[49m\n\u001b[1;32m   3549\u001b[0m \u001b[43m        \u001b[49m\u001b[43mrequirements_file\u001b[49m\u001b[38;5;241;43m=\u001b[39;49m\u001b[43mrequirements_file\u001b[49m\u001b[43m,\u001b[49m\n\u001b[1;32m   3550\u001b[0m \u001b[43m        \u001b[49m\u001b[43mmlrun_version_specifier\u001b[49m\u001b[38;5;241;43m=\u001b[39;49m\u001b[43mmlrun_version_specifier\u001b[49m\u001b[43m,\u001b[49m\n\u001b[1;32m   3551\u001b[0m \u001b[43m        \u001b[49m\u001b[43mbuilder_env\u001b[49m\u001b[38;5;241;43m=\u001b[39;49m\u001b[43mbuilder_env\u001b[49m\u001b[43m,\u001b[49m\n\u001b[1;32m   3552\u001b[0m \u001b[43m        \u001b[49m\u001b[43mproject_object\u001b[49m\u001b[38;5;241;43m=\u001b[39;49m\u001b[38;5;28;43mself\u001b[39;49m\u001b[43m,\u001b[49m\n\u001b[1;32m   3553\u001b[0m \u001b[43m        \u001b[49m\u001b[43moverwrite_build_params\u001b[49m\u001b[38;5;241;43m=\u001b[39;49m\u001b[43moverwrite_build_params\u001b[49m\u001b[43m,\u001b[49m\n\u001b[1;32m   3554\u001b[0m \u001b[43m        \u001b[49m\u001b[43mextra_args\u001b[49m\u001b[38;5;241;43m=\u001b[39;49m\u001b[43mextra_args\u001b[49m\u001b[43m,\u001b[49m\n\u001b[1;32m   3555\u001b[0m \u001b[43m        \u001b[49m\u001b[43mforce_build\u001b[49m\u001b[38;5;241;43m=\u001b[39;49m\u001b[43mforce_build\u001b[49m\u001b[43m,\u001b[49m\n\u001b[1;32m   3556\u001b[0m \u001b[43m    \u001b[49m\u001b[43m)\u001b[49m\n",
      "File \u001b[0;32m/opt/homebrew/Caskroom/miniconda/base/envs/local-mlrun/lib/python3.9/site-packages/mlrun/projects/operations.py:344\u001b[0m, in \u001b[0;36mbuild_function\u001b[0;34m(function, with_mlrun, skip_deployed, image, base_image, commands, secret_name, requirements, requirements_file, mlrun_version_specifier, builder_env, project_object, overwrite_build_params, extra_args, force_build)\u001b[0m\n\u001b[1;32m    330\u001b[0m     warnings\u001b[38;5;241m.\u001b[39msimplefilter(\n\u001b[1;32m    331\u001b[0m         \u001b[38;5;124m\"\u001b[39m\u001b[38;5;124mignore\u001b[39m\u001b[38;5;124m\"\u001b[39m, category\u001b[38;5;241m=\u001b[39mmlrun\u001b[38;5;241m.\u001b[39mutils\u001b[38;5;241m.\u001b[39mOverwriteBuildParamsWarning\n\u001b[1;32m    332\u001b[0m     )\n\u001b[1;32m    334\u001b[0m     function\u001b[38;5;241m.\u001b[39mbuild_config(\n\u001b[1;32m    335\u001b[0m         image\u001b[38;5;241m=\u001b[39mimage,\n\u001b[1;32m    336\u001b[0m         base_image\u001b[38;5;241m=\u001b[39mbase_image,\n\u001b[0;32m   (...)\u001b[0m\n\u001b[1;32m    342\u001b[0m         extra_args\u001b[38;5;241m=\u001b[39mextra_args,\n\u001b[1;32m    343\u001b[0m     )\n\u001b[0;32m--> 344\u001b[0m ready \u001b[38;5;241m=\u001b[39m \u001b[43mfunction\u001b[49m\u001b[38;5;241;43m.\u001b[39;49m\u001b[43mdeploy\u001b[49m\u001b[43m(\u001b[49m\n\u001b[1;32m    345\u001b[0m \u001b[43m    \u001b[49m\u001b[43mwatch\u001b[49m\u001b[38;5;241;43m=\u001b[39;49m\u001b[38;5;28;43;01mTrue\u001b[39;49;00m\u001b[43m,\u001b[49m\n\u001b[1;32m    346\u001b[0m \u001b[43m    \u001b[49m\u001b[43mwith_mlrun\u001b[49m\u001b[38;5;241;43m=\u001b[39;49m\u001b[43mwith_mlrun\u001b[49m\u001b[43m,\u001b[49m\n\u001b[1;32m    347\u001b[0m \u001b[43m    \u001b[49m\u001b[43mskip_deployed\u001b[49m\u001b[38;5;241;43m=\u001b[39;49m\u001b[43mskip_deployed\u001b[49m\u001b[43m,\u001b[49m\n\u001b[1;32m    348\u001b[0m \u001b[43m    \u001b[49m\u001b[43mmlrun_version_specifier\u001b[49m\u001b[38;5;241;43m=\u001b[39;49m\u001b[43mmlrun_version_specifier\u001b[49m\u001b[43m,\u001b[49m\n\u001b[1;32m    349\u001b[0m \u001b[43m    \u001b[49m\u001b[43mbuilder_env\u001b[49m\u001b[38;5;241;43m=\u001b[39;49m\u001b[43mbuilder_env\u001b[49m\u001b[43m,\u001b[49m\n\u001b[1;32m    350\u001b[0m \u001b[43m    \u001b[49m\u001b[43mforce_build\u001b[49m\u001b[38;5;241;43m=\u001b[39;49m\u001b[43mforce_build\u001b[49m\u001b[43m,\u001b[49m\n\u001b[1;32m    351\u001b[0m \u001b[43m\u001b[49m\u001b[43m)\u001b[49m\n\u001b[1;32m    352\u001b[0m \u001b[38;5;66;03m# return object with the same outputs as the KFP op (allow using the same pipeline)\u001b[39;00m\n\u001b[1;32m    353\u001b[0m \u001b[38;5;28;01mreturn\u001b[39;00m BuildStatus(ready, {\u001b[38;5;124m\"\u001b[39m\u001b[38;5;124mimage\u001b[39m\u001b[38;5;124m\"\u001b[39m: function\u001b[38;5;241m.\u001b[39mspec\u001b[38;5;241m.\u001b[39mimage}, function\u001b[38;5;241m=\u001b[39mfunction)\n",
      "File \u001b[0;32m/opt/homebrew/Caskroom/miniconda/base/envs/local-mlrun/lib/python3.9/site-packages/mlrun/runtimes/kubejob.py:178\u001b[0m, in \u001b[0;36mKubejobRuntime.deploy\u001b[0;34m(self, watch, with_mlrun, skip_deployed, is_kfp, mlrun_version_specifier, builder_env, show_on_failure, force_build)\u001b[0m\n\u001b[1;32m    174\u001b[0m \u001b[38;5;28;01mif\u001b[39;00m build\u001b[38;5;241m.\u001b[39mbase_image:\n\u001b[1;32m    175\u001b[0m     \u001b[38;5;66;03m# clear the image so build will not be skipped\u001b[39;00m\n\u001b[1;32m    176\u001b[0m     \u001b[38;5;28mself\u001b[39m\u001b[38;5;241m.\u001b[39mspec\u001b[38;5;241m.\u001b[39mimage \u001b[38;5;241m=\u001b[39m \u001b[38;5;124m\"\u001b[39m\u001b[38;5;124m\"\u001b[39m\n\u001b[0;32m--> 178\u001b[0m \u001b[38;5;28;01mreturn\u001b[39;00m \u001b[38;5;28;43mself\u001b[39;49m\u001b[38;5;241;43m.\u001b[39;49m\u001b[43m_build_image\u001b[49m\u001b[43m(\u001b[49m\n\u001b[1;32m    179\u001b[0m \u001b[43m    \u001b[49m\u001b[43mbuilder_env\u001b[49m\u001b[38;5;241;43m=\u001b[39;49m\u001b[43mbuilder_env\u001b[49m\u001b[43m,\u001b[49m\n\u001b[1;32m    180\u001b[0m \u001b[43m    \u001b[49m\u001b[43mforce_build\u001b[49m\u001b[38;5;241;43m=\u001b[39;49m\u001b[43mforce_build\u001b[49m\u001b[43m,\u001b[49m\n\u001b[1;32m    181\u001b[0m \u001b[43m    \u001b[49m\u001b[43mmlrun_version_specifier\u001b[49m\u001b[38;5;241;43m=\u001b[39;49m\u001b[43mmlrun_version_specifier\u001b[49m\u001b[43m,\u001b[49m\n\u001b[1;32m    182\u001b[0m \u001b[43m    \u001b[49m\u001b[43mshow_on_failure\u001b[49m\u001b[38;5;241;43m=\u001b[39;49m\u001b[43mshow_on_failure\u001b[49m\u001b[43m,\u001b[49m\n\u001b[1;32m    183\u001b[0m \u001b[43m    \u001b[49m\u001b[43mskip_deployed\u001b[49m\u001b[38;5;241;43m=\u001b[39;49m\u001b[43mskip_deployed\u001b[49m\u001b[43m,\u001b[49m\n\u001b[1;32m    184\u001b[0m \u001b[43m    \u001b[49m\u001b[43mwatch\u001b[49m\u001b[38;5;241;43m=\u001b[39;49m\u001b[43mwatch\u001b[49m\u001b[43m,\u001b[49m\n\u001b[1;32m    185\u001b[0m \u001b[43m    \u001b[49m\u001b[43mis_kfp\u001b[49m\u001b[38;5;241;43m=\u001b[39;49m\u001b[43mis_kfp\u001b[49m\u001b[43m,\u001b[49m\n\u001b[1;32m    186\u001b[0m \u001b[43m    \u001b[49m\u001b[43mwith_mlrun\u001b[49m\u001b[38;5;241;43m=\u001b[39;49m\u001b[43mwith_mlrun\u001b[49m\u001b[43m,\u001b[49m\n\u001b[1;32m    187\u001b[0m \u001b[43m\u001b[49m\u001b[43m)\u001b[49m\n",
      "File \u001b[0;32m/opt/homebrew/Caskroom/miniconda/base/envs/local-mlrun/lib/python3.9/site-packages/mlrun/runtimes/pod.py:1404\u001b[0m, in \u001b[0;36mKubeResource._build_image\u001b[0;34m(self, builder_env, force_build, mlrun_version_specifier, show_on_failure, skip_deployed, watch, is_kfp, with_mlrun)\u001b[0m\n\u001b[1;32m   1401\u001b[0m     \u001b[38;5;28mself\u001b[39m\u001b[38;5;241m.\u001b[39mstatus\u001b[38;5;241m.\u001b[39mstate \u001b[38;5;241m=\u001b[39m state\n\u001b[1;32m   1403\u001b[0m \u001b[38;5;28;01mif\u001b[39;00m watch \u001b[38;5;129;01mand\u001b[39;00m \u001b[38;5;129;01mnot\u001b[39;00m ready:\n\u001b[0;32m-> 1404\u001b[0m     \u001b[38;5;28;01mraise\u001b[39;00m mlrun\u001b[38;5;241m.\u001b[39merrors\u001b[38;5;241m.\u001b[39mMLRunRuntimeError(\u001b[38;5;124m\"\u001b[39m\u001b[38;5;124mDeploy failed\u001b[39m\u001b[38;5;124m\"\u001b[39m)\n\u001b[1;32m   1405\u001b[0m \u001b[38;5;28;01mreturn\u001b[39;00m ready\n",
      "\u001b[0;31mMLRunRuntimeError\u001b[0m: Deploy failed"
     ]
    }
   ],
   "source": [
    "fn_gpu_check = project.set_function(\n",
    "    func=\"02_get_gpu_info.py\",\n",
    "    name=\"gpu-check\",\n",
    "    tag=\"latest\",\n",
    "    kind=\"job\",\n",
    "    image=\"dragon:6500/mlrun/mlrun-gpu:1.7.2\",\n",
    "    handler=\"get_gpu_info\",\n",
    "    requirements=[\"GPUtil==1.4.0\"])\n",
    "\n",
    "# Then set the GPU resources on the function's spec\n",
    "fn_gpu_check.with_limits(mem=\"2G\", cpu=2, gpus=1)  # upper bound\n",
    "\n",
    "# build the function\n",
    "project.build_function(function='gpu-check')"
   ]
  },
  {
   "cell_type": "code",
   "execution_count": null,
   "metadata": {},
   "outputs": [],
   "source": [
    "# run the function locally\n",
    "fn_gpu_check.run(\n",
    "    local=False,\n",
    "    handler=\"get_gpu_info\",\n",
    "    auto_build=True\n",
    ")"
   ]
  },
  {
   "cell_type": "code",
   "execution_count": null,
   "metadata": {},
   "outputs": [],
   "source": [
    "# Refresh the function from the saved .py file (this is instant)\n",
    "project.set_function(func=\"02_get_gpu_info.py\", name=\"gpu-check\")\n",
    "\n",
    "# run the function again [you can modify the py file and set the function again = this will not rebuild the entire thing] \n",
    "project.run_function(\n",
    "    function='gpu-check',\n",
    "    handler='get_gpu_info'\n",
    ")"
   ]
  }
 ],
 "metadata": {
  "kernelspec": {
   "display_name": "local-mlrun",
   "language": "python",
   "name": "python3"
  },
  "language_info": {
   "codemirror_mode": {
    "name": "ipython",
    "version": 3
   },
   "file_extension": ".py",
   "mimetype": "text/x-python",
   "name": "python",
   "nbconvert_exporter": "python",
   "pygments_lexer": "ipython3",
   "version": "3.9.23"
  }
 },
 "nbformat": 4,
 "nbformat_minor": 2
}
