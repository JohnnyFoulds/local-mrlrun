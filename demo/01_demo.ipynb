{
 "cells": [
  {
   "cell_type": "markdown",
   "metadata": {},
   "source": [
    "# What is MLRun and Why It Matters\n",
    "\n",
    "MLRun is an open-source MLOps orchestration framework that integrates feature stores, model training, deployment, and monitoring into a single, composable environment. It’s Kubernetes-native and designed for real-time and batch ML pipelines with traceability and governance baked in.\n",
    "\n",
    "> MLRun is for what we call AutoMLOps, where the entire operationalization process is automated. MLRun uses serverless function technology: write the code once, using your preferred development environment and simple “local” semantics, and then run it as-is on different platforms and at scale. MLRun automates the build process, execution, data movement, scaling, versioning, parameterization, output tracking, CI/CD integration, deployment to production, monitoring, and more. MLRun provides an open pluggable architecture, so you have the option to use MLFlow (or any other tool) for the development side, and then use MLRun to automate the production distributed training environment without adding glue logic.  \n",
    "> [source](https://www.iguazio.com/blog/kubeflow-vs-mlflow-vs-mlrun/)"
   ]
  },
  {
   "cell_type": "code",
   "execution_count": 1,
   "metadata": {},
   "outputs": [
    {
     "name": "stdout",
     "output_type": "stream",
     "text": [
      "> 2025-08-07 14:42:52,103 [info] Server and client versions are not the same but compatible: {\"parsed_client_version\":\"Version(major=1, minor=7, patch=2, prerelease=None, build=None)\",\"parsed_server_version\":\"Version(major=1, minor=9, patch=1, prerelease=None, build=None)\"}\n"
     ]
    }
   ],
   "source": [
    "import mlrun"
   ]
  },
  {
   "cell_type": "code",
   "execution_count": null,
   "metadata": {},
   "outputs": [],
   "source": [
    "# Show the API server URL\n",
    "mlrun.get_run_db()"
   ]
  },
  {
   "cell_type": "code",
   "execution_count": null,
   "metadata": {},
   "outputs": [],
   "source": [
    "# Set the base project name\n",
    "project_name = \"mlrun-demo\"\n",
    "\n",
    "# Initialize the MLRun project object\n",
    "project = mlrun.get_or_create_project(\n",
    "    name=project_name, \n",
    "    context=\"./\",\n",
    "    user_project=True)\n",
    "\n",
    "# Display the current project name\n",
    "project_name = project.metadata.name\n",
    "print(f'Full project name: {project_name}')"
   ]
  },
  {
   "cell_type": "markdown",
   "metadata": {},
   "source": [
    "## 1. FeatureSet Ingest\n",
    "\n",
    "- https://docs.mlrun.org/en/latest/feature-store/feature-sets.html\n",
    "- https://www.iguazio.com/blog/the-complete-guide-to-using-the-iguazio-feature-store-with-azure-ml-part-2/"
   ]
  },
  {
   "cell_type": "code",
   "execution_count": null,
   "metadata": {},
   "outputs": [],
   "source": [
    "import pandas as pd\n",
    "import mlrun.feature_store as fstore\n",
    "from mlrun.feature_store import FeatureSet\n",
    "from mlrun.datastore import ParquetTarget"
   ]
  },
  {
   "cell_type": "code",
   "execution_count": null,
   "metadata": {},
   "outputs": [],
   "source": [
    "# read the source data from the CSV file\n",
    "df_source = pd.read_csv(\"data/iris.csv\")\n",
    "\n",
    "# create a str primary key for the feature set\n",
    "df_source.reset_index(drop=False, inplace=True)\n",
    "df_source.rename(columns={\"index\": \"id\"}, inplace=True)\n",
    "df_source[\"id\"] = df_source[\"id\"].astype(str)\n",
    "\n",
    "\n",
    "df_source.head()"
   ]
  },
  {
   "cell_type": "code",
   "execution_count": null,
   "metadata": {},
   "outputs": [],
   "source": [
    "# create the feature set\n",
    "fs_iris = FeatureSet(name=\"iris_features\",\n",
    "                     entities=[\"id\"])\n",
    "\n",
    "# # Add a local Parquet target\n",
    "# fs_iris.set_targets([ParquetTarget(path=project.artifact_path)], with_defaults=False)\n",
    "\n",
    "# ingest the source data\n",
    "fs_iris.ingest(df_source)\n",
    "# df_iris = fstore.ingest(featureset=fs_iris,\n",
    "#                         source=df_source)\n",
    "\n",
    "# create the dataset\n",
    "fv_iris = fstore.FeatureVector(name=\"iris_vector\",\n",
    "                                   features=[\"iris_features.*\"], \n",
    "                                   label_feature=\"iris_features.label\",\n",
    "                                   with_indexes=True)\n",
    "fv_iris.save()"
   ]
  },
  {
   "cell_type": "code",
   "execution_count": null,
   "metadata": {},
   "outputs": [],
   "source": [
    "# # Delete a feature set by name and project\n",
    "# fstore.delete_feature_set(name=\"iris_features\",\n",
    "#                           project=project_name,\n",
    "#                           force=True)\n"
   ]
  },
  {
   "cell_type": "code",
   "execution_count": null,
   "metadata": {},
   "outputs": [],
   "source": [
    "## Retrieve the feature set\n",
    "print(f\"Retrieving the feature set from:\\n{fv_iris.uri}\")\n",
    "\n",
    "offline_features = fstore.get_feature_vector(fv_iris.uri).get_offline_features()\n",
    "offline_features.to_dataframe().head()"
   ]
  },
  {
   "cell_type": "markdown",
   "metadata": {},
   "source": [
    "## 2. Register and Run Training\n",
    "\n",
    "- https://www.iguazio.com/blog/the-complete-guide-to-using-the-iguazio-feature-store-with-azure-ml-part-3/"
   ]
  },
  {
   "cell_type": "code",
   "execution_count": null,
   "metadata": {},
   "outputs": [],
   "source": [
    "# create the function for training the model\n",
    "fn_train = project.set_function(\n",
    "    func=\"01_train.py\",\n",
    "    name=\"train\",\n",
    "    kind=\"job\",\n",
    "    image=\"mlrun/mlrun\")"
   ]
  },
  {
   "cell_type": "code",
   "execution_count": null,
   "metadata": {},
   "outputs": [],
   "source": [
    "# run the training function\n",
    "run = fn_train.run(\n",
    "    inputs={\"dataset\": fv_iris.uri},\n",
    "    handler=\"train_model\",\n",
    "    artifact_path=project.artifact_path,\n",
    "    local=True)"
   ]
  }
 ],
 "metadata": {
  "kernelspec": {
   "display_name": "local-mlrun",
   "language": "python",
   "name": "python3"
  },
  "language_info": {
   "codemirror_mode": {
    "name": "ipython",
    "version": 3
   },
   "file_extension": ".py",
   "mimetype": "text/x-python",
   "name": "python",
   "nbconvert_exporter": "python",
   "pygments_lexer": "ipython3",
   "version": "3.9.22"
  }
 },
 "nbformat": 4,
 "nbformat_minor": 2
}
