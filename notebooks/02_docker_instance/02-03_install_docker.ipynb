{
 "cells": [
  {
   "cell_type": "markdown",
   "metadata": {},
   "source": [
    "# 02-03 : Install Docker\n",
    "\n",
    "It is really not going well, attempt to follow this guide: [Install MLRun locally using Docker](https://docs.mlrun.org/en/v1.6.4/install/local-docker.html)\n",
    "\n",
    "## Stop Service Created with `mlsetup`\n",
    "\n",
    "```bash\n",
    "python mlsetup.py uninstall\n",
    "```\n",
    "\n",
    "\n",
    "## Use MLRun with MLRun Jupyter image\n",
    "\n",
    "```bash\n",
    "# get docker compose file\n",
    "cd ~/swan/code/local-mrlrun/notebooks/02_docker_instance\n",
    "\n",
    "wget https://docs.mlrun.org/en/v1.6.4/_downloads/81b45252bbc7dbc4415f310683e48775/compose.with-jupyter.yaml\n",
    "\n",
    "# set environment variables and start the docker containers\n",
    "export HOST_IP=192.168.1.184\n",
    "export SHARED_DIR=~/mlrun-data\n",
    "mkdir -p $SHARED_DIR\n",
    "docker-compose -f compose.with-jupyter.yaml up -d\n",
    "```\n",
    "\n",
    "After the installation, access the Jupyter server (in http://localhost:8888) and run through the [quick-start tutorial](https://docs.mlrun.org/en/v1.6.4/tutorials/01-mlrun-basics.html) and `demos`. You can see the projects, tasks, and artifacts in MLRun UI (in http://localhost:8060).\n",
    "\n",
    "\n",
    "## API Not Accessible\n",
    "\n",
    "Port 8080 simply seems inacessible, in `compose.with-jupyter.yaml` on line `42` and `64` the tag used is `1.6.3` try to change it to `1.7.1`."
   ]
  }
 ],
 "metadata": {
  "kernelspec": {
   "display_name": "local-mlrun",
   "language": "python",
   "name": "python3"
  },
  "language_info": {
   "name": "python",
   "version": "3.9.22"
  }
 },
 "nbformat": 4,
 "nbformat_minor": 2
}
