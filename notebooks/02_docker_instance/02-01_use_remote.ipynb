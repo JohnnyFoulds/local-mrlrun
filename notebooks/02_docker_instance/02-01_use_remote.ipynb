{
 "cells": [
  {
   "cell_type": "markdown",
   "metadata": {},
   "source": [
    "# 02-01 : Use Remote Docker Instance\n",
    "\n",
    "Attempt to use the MLRun deployed with `mlsetup.py` to run a remote docker instance."
   ]
  },
  {
   "cell_type": "code",
   "execution_count": 1,
   "metadata": {},
   "outputs": [],
   "source": [
    "import os"
   ]
  },
  {
   "cell_type": "code",
   "execution_count": 2,
   "metadata": {},
   "outputs": [],
   "source": [
    "import logging\n",
    "\n",
    "# configure log format\n",
    "logging.basicConfig(\n",
    "    level=logging.INFO,\n",
    "    format='%(asctime)s %(levelname)s [%(name)s] %(message)s',\n",
    "    datefmt='%Y-%m-%d %H:%M:%S'\n",
    ")\n",
    "\n",
    "# get the logger\n",
    "logger = logging.getLogger(__name__)"
   ]
  },
  {
   "cell_type": "markdown",
   "metadata": {},
   "source": [
    "## 1. Configuration "
   ]
  },
  {
   "cell_type": "code",
   "execution_count": null,
   "metadata": {},
   "outputs": [
    {
     "name": "stderr",
     "output_type": "stream",
     "text": [
      "2025-05-12 11:49:35 WARNING [urllib3.connectionpool] Retrying (Retry(total=2, connect=None, read=None, redirect=None, status=None)) after connection broken by 'ProtocolError('Connection aborted.', ConnectionResetError(104, 'Connection reset by peer'))': /api/v1/client-spec\n",
      "2025-05-12 11:49:37 WARNING [urllib3.connectionpool] Retrying (Retry(total=1, connect=None, read=None, redirect=None, status=None)) after connection broken by 'ProtocolError('Connection aborted.', ConnectionResetError(104, 'Connection reset by peer'))': /api/v1/client-spec\n",
      "2025-05-12 11:49:41 WARNING [urllib3.connectionpool] Retrying (Retry(total=0, connect=None, read=None, redirect=None, status=None)) after connection broken by 'ProtocolError('Connection aborted.', ConnectionResetError(104, 'Connection reset by peer'))': /api/v1/client-spec\n"
     ]
    },
    {
     "name": "stdout",
     "output_type": "stream",
     "text": [
      "> 2025-05-12 11:49:41,418 [warning] Error during request handling, retrying: {\"exc\":\"HTTPConnectionPool(host='localhost', port=8080): Max retries exceeded with url: /api/v1/client-spec (Caused by ProtocolError('Connection aborted.', ConnectionResetError(104, 'Connection reset by peer')))\",\"method\":\"GET\",\"retry_count\":0,\"url\":\"http://localhost:8080/api/v1/client-spec\"}\n"
     ]
    },
    {
     "name": "stderr",
     "output_type": "stream",
     "text": [
      "2025-05-12 11:49:42 WARNING [urllib3.connectionpool] Retrying (Retry(total=2, connect=None, read=None, redirect=None, status=None)) after connection broken by 'ProtocolError('Connection aborted.', ConnectionResetError(104, 'Connection reset by peer'))': /api/v1/client-spec\n",
      "2025-05-12 11:49:44 WARNING [urllib3.connectionpool] Retrying (Retry(total=1, connect=None, read=None, redirect=None, status=None)) after connection broken by 'ProtocolError('Connection aborted.', ConnectionResetError(104, 'Connection reset by peer'))': /api/v1/client-spec\n"
     ]
    }
   ],
   "source": [
    "# set the api url\n",
    "mlrun_api_server = 'localhost'\n",
    "mlrun_api_port = 8080\n",
    "os.environ[\"MLRUN_DBPATH\"] = f\"http://{mlrun_api_server}:{mlrun_api_port}\"\n",
    "\n",
    "# load the mlrun module\n",
    "import mlrun"
   ]
  },
  {
   "cell_type": "code",
   "execution_count": 4,
   "metadata": {},
   "outputs": [],
   "source": [
    "MLRUN_PROJECT = \"use-remote\"\n",
    "MLRUN_DOCKER_IMAGE = \"mlrun/mlrun\""
   ]
  },
  {
   "cell_type": "markdown",
   "metadata": {},
   "source": [
    "## 2. Set Project"
   ]
  },
  {
   "cell_type": "code",
   "execution_count": null,
   "metadata": {},
   "outputs": [
    {
     "name": "stderr",
     "output_type": "stream",
     "text": [
      "2025-05-12 11:49:16 WARNING [urllib3.connectionpool] Retrying (Retry(total=2, connect=None, read=None, redirect=None, status=None)) after connection broken by 'NewConnectionError('<urllib3.connection.HTTPConnection object at 0x7c203713e730>: Failed to establish a new connection: [Errno 111] Connection refused')': /api/v1/projects/use-remote\n",
      "2025-05-12 11:49:18 WARNING [urllib3.connectionpool] Retrying (Retry(total=1, connect=None, read=None, redirect=None, status=None)) after connection broken by 'NewConnectionError('<urllib3.connection.HTTPConnection object at 0x7c203713e700>: Failed to establish a new connection: [Errno 111] Connection refused')': /api/v1/projects/use-remote\n",
      "2025-05-12 11:49:22 WARNING [urllib3.connectionpool] Retrying (Retry(total=0, connect=None, read=None, redirect=None, status=None)) after connection broken by 'NewConnectionError('<urllib3.connection.HTTPConnection object at 0x7c20370f7970>: Failed to establish a new connection: [Errno 111] Connection refused')': /api/v1/projects/use-remote\n"
     ]
    },
    {
     "name": "stdout",
     "output_type": "stream",
     "text": [
      "> 2025-05-12 11:49:22,871 [warning] Error during request handling, retrying: {\"exc\":\"HTTPConnectionPool(host='192.168.1.184', port=8080): Max retries exceeded with url: /api/v1/projects/use-remote (Caused by NewConnectionError('<urllib3.connection.HTTPConnection object at 0x7c20370f7c70>: Failed to establish a new connection: [Errno 111] Connection refused'))\",\"method\":\"GET\",\"retry_count\":0,\"url\":\"http://192.168.1.184:8080/api/v1/projects/use-remote\"}\n"
     ]
    },
    {
     "name": "stderr",
     "output_type": "stream",
     "text": [
      "2025-05-12 11:49:23 WARNING [urllib3.connectionpool] Retrying (Retry(total=2, connect=None, read=None, redirect=None, status=None)) after connection broken by 'NewConnectionError('<urllib3.connection.HTTPConnection object at 0x7c20370f7d60>: Failed to establish a new connection: [Errno 111] Connection refused')': /api/v1/projects/use-remote\n"
     ]
    }
   ],
   "source": [
    "project = mlrun.get_or_create_project(\n",
    "    name=MLRUN_PROJECT,\n",
    "    context='./',) \n",
    "    \n",
    "project.save()"
   ]
  },
  {
   "cell_type": "markdown",
   "metadata": {},
   "source": [
    "## 3. Create Function"
   ]
  },
  {
   "cell_type": "markdown",
   "metadata": {},
   "source": [
    "### 3.1 Create Function Code File"
   ]
  },
  {
   "cell_type": "code",
   "execution_count": null,
   "metadata": {},
   "outputs": [],
   "source": [
    "%%writefile hello_world.py\n",
    "\n",
    "import mlrun\n",
    "\n",
    "# get the logger\n",
    "import logging\n",
    "logger = logging.getLogger(__name__)\n",
    "\n",
    "def handler(context: mlrun.MLClientCtx = None):\n",
    "    logger.info(\"Hello world\")\n",
    "\n",
    "    context.log_result(\"hello\", \"world\")\n",
    "\n",
    "    return \"Hello world result!\""
   ]
  },
  {
   "cell_type": "markdown",
   "metadata": {},
   "source": [
    "### 3.2 Create Project Function"
   ]
  },
  {
   "cell_type": "code",
   "execution_count": null,
   "metadata": {},
   "outputs": [],
   "source": [
    "hello_world = mlrun.code_to_function(\n",
    "    name='hello-world',\n",
    "    project=MLRUN_PROJECT,\n",
    "    filename='hello_world.py',\n",
    "    handler='handler',\n",
    "    kind='job',\n",
    "    image=MLRUN_DOCKER_IMAGE,\n",
    "    description='Hello world function',\n",
    ")\n",
    "hello_world.save()"
   ]
  },
  {
   "cell_type": "code",
   "execution_count": null,
   "metadata": {},
   "outputs": [],
   "source": [
    "project.build_function(hello_world)"
   ]
  },
  {
   "cell_type": "markdown",
   "metadata": {},
   "source": [
    "## 4. Run Function"
   ]
  },
  {
   "cell_type": "code",
   "execution_count": null,
   "metadata": {},
   "outputs": [],
   "source": [
    "run = hello_world.run(function=hello_world,\n",
    "                      handler='handler',\n",
    "                      image=MLRUN_DOCKER_IMAGE,\n",
    "                      watch=True)"
   ]
  }
 ],
 "metadata": {
  "kernelspec": {
   "display_name": "local-mlrun",
   "language": "python",
   "name": "python3"
  },
  "language_info": {
   "codemirror_mode": {
    "name": "ipython",
    "version": 3
   },
   "file_extension": ".py",
   "mimetype": "text/x-python",
   "name": "python",
   "nbconvert_exporter": "python",
   "pygments_lexer": "ipython3",
   "version": "3.9.22"
  }
 },
 "nbformat": 4,
 "nbformat_minor": 2
}
