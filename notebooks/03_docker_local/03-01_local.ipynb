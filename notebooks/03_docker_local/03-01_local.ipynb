{
 "cells": [
  {
   "cell_type": "markdown",
   "metadata": {},
   "source": [
    "# 03-01 : Local Deploy\n",
    "\n",
    "Run MLRun locally in docker and run a function from hub."
   ]
  },
  {
   "cell_type": "markdown",
   "metadata": {
    "vscode": {
     "languageId": "plaintext"
    }
   },
   "source": [
    "## 1. Perpare Environment"
   ]
  },
  {
   "cell_type": "code",
   "execution_count": 1,
   "metadata": {},
   "outputs": [],
   "source": [
    "import os"
   ]
  },
  {
   "cell_type": "code",
   "execution_count": 2,
   "metadata": {},
   "outputs": [],
   "source": [
    "# delete the mlrun-data directory\n",
    "!rm -rf ~/mlrun-data"
   ]
  },
  {
   "cell_type": "code",
   "execution_count": 3,
   "metadata": {},
   "outputs": [
    {
     "name": "stdout",
     "output_type": "stream",
     "text": [
      "Error response from daemon: get 02_docker_instance_nuclio-platform-config: no such volume\n",
      "Error response from daemon: get 03_docker_local_nuclio-platform-config: no such volume\n",
      "Error response from daemon: get local-mrlrun_nuclio-platform-config: no such volume\n",
      "Error response from daemon: get nuclio-local-storage: no such volume\n",
      "Error response from daemon: get nuclio-nuclio-quick-tutorial-jovyan-serving: no such volume\n"
     ]
    }
   ],
   "source": [
    "# delete docker volumes\n",
    "!docker volume rm 02_docker_instance_nuclio-platform-config\n",
    "!docker volume rm 03_docker_local_nuclio-platform-config\n",
    "!docker volume rm local-mrlrun_nuclio-platform-config\n",
    "!docker volume rm nuclio-local-storage\n",
    "!docker volume rm nuclio-nuclio-quick-tutorial-jovyan-serving"
   ]
  },
  {
   "cell_type": "code",
   "execution_count": 4,
   "metadata": {},
   "outputs": [
    {
     "name": "stdout",
     "output_type": "stream",
     "text": [
      "Server IP: 192.168.1.184\n"
     ]
    }
   ],
   "source": [
    "# get the server (local) IP address to a local variable\n",
    "server_ip = !(hostname -I | awk '{print $1}')\n",
    "server_ip = server_ip[0]\n",
    "print(f\"Server IP: {server_ip}\")\n"
   ]
  },
  {
   "cell_type": "code",
   "execution_count": 5,
   "metadata": {},
   "outputs": [],
   "source": [
    "# create the mlrun environment file\n",
    "with open(\"mlrun.env\", \"w\") as f:\n",
    "    f.write(f\"MLRUN_DBPATH=http://{server_ip}:8080\\n\")"
   ]
  },
  {
   "cell_type": "code",
   "execution_count": 6,
   "metadata": {},
   "outputs": [],
   "source": [
    "# create the config file\n",
    "with open(\"config.env\", \"w\") as f:\n",
    "    f.write(f\"HOST_IP={server_ip}\\n\")\n",
    "    f.write(f\"SHARED_DIR=~/mlrun-data\\n\")"
   ]
  },
  {
   "cell_type": "markdown",
   "metadata": {},
   "source": [
    "## 2. Deploy the MLRun"
   ]
  },
  {
   "cell_type": "code",
   "execution_count": 7,
   "metadata": {},
   "outputs": [
    {
     "name": "stdout",
     "output_type": "stream",
     "text": [
      "\u001b[33mWARN\u001b[0m[0000] a network with name mlrun exists but was not created for project \"03_docker_local\".\n",
      "Set `external: true` to use an existing network \n",
      "\u001b[1A\u001b[1B\u001b[0G\u001b[?25l[+] Running 2/0\n",
      " \u001b[32m✔\u001b[0m Network 03_docker_local_default                  \u001b[32mCreated\u001b[0m                \u001b[34m0.1s \u001b[0m\n",
      " \u001b[32m✔\u001b[0m Volume \"03_docker_local_nuclio-platform-config\"  \u001b[32mCreated\u001b[0m                \u001b[34m0.0s \u001b[0m\n",
      " \u001b[33m⠋\u001b[0m Container 03_docker_local-mlrun-api-1            Creating               \u001b[34m0.0s \u001b[0m\n",
      " \u001b[33m⠋\u001b[0m Container 03_docker_local-mlrun-ui-1             Creating               \u001b[34m0.0s \u001b[0m\n",
      " \u001b[33m⠋\u001b[0m Container 03_docker_local-init_nuclio-1          Creating               \u001b[34m0.0s \u001b[0m\n",
      "\u001b[?25h\u001b[1A\u001b[1A\u001b[1A\u001b[1A\u001b[1A\u001b[1A\u001b[0G\u001b[?25l[+] Running 3/5\n",
      " \u001b[32m✔\u001b[0m Network 03_docker_local_default                  \u001b[32mCreated\u001b[0m                \u001b[34m0.1s \u001b[0m\n",
      " \u001b[32m✔\u001b[0m Volume \"03_docker_local_nuclio-platform-config\"  \u001b[32mCreated\u001b[0m                \u001b[34m0.0s \u001b[0m\n",
      " \u001b[33m⠙\u001b[0m Container 03_docker_local-mlrun-api-1            Starting               \u001b[34m0.1s \u001b[0m\n",
      " \u001b[33m⠙\u001b[0m Container 03_docker_local-mlrun-ui-1             Starting               \u001b[34m0.1s \u001b[0m\n",
      " \u001b[33m⠙\u001b[0m Container 03_docker_local-init_nuclio-1          Starting               \u001b[34m0.1s \u001b[0m\n",
      " \u001b[32m✔\u001b[0m Container 03_docker_local-nuclio-1               \u001b[32mCreated\u001b[0m                \u001b[34m0.0s \u001b[0m\n",
      "\u001b[?25h\u001b[1A\u001b[1A\u001b[1A\u001b[1A\u001b[1A\u001b[1A\u001b[1A\u001b[0G\u001b[?25l[+] Running 3/6\n",
      " \u001b[32m✔\u001b[0m Network 03_docker_local_default                  \u001b[32mCreated\u001b[0m                \u001b[34m0.1s \u001b[0m\n",
      " \u001b[32m✔\u001b[0m Volume \"03_docker_local_nuclio-platform-config\"  \u001b[32mCreated\u001b[0m                \u001b[34m0.0s \u001b[0m\n",
      " \u001b[33m⠹\u001b[0m Container 03_docker_local-mlrun-api-1            Starting               \u001b[34m0.2s \u001b[0m\n",
      " \u001b[33m⠹\u001b[0m Container 03_docker_local-mlrun-ui-1             Starting               \u001b[34m0.2s \u001b[0m\n",
      " \u001b[33m⠹\u001b[0m Container 03_docker_local-init_nuclio-1          Starting               \u001b[34m0.2s \u001b[0m\n",
      " \u001b[32m✔\u001b[0m Container 03_docker_local-nuclio-1               \u001b[32mCreated\u001b[0m                \u001b[34m0.0s \u001b[0m\n",
      "\u001b[?25h\u001b[1A\u001b[1A\u001b[1A\u001b[1A\u001b[1A\u001b[1A\u001b[1A\u001b[0G\u001b[?25l[+] Running 4/6\n",
      " \u001b[32m✔\u001b[0m Network 03_docker_local_default                  \u001b[32mCreated\u001b[0m                \u001b[34m0.1s \u001b[0m\n",
      " \u001b[32m✔\u001b[0m Volume \"03_docker_local_nuclio-platform-config\"  \u001b[32mCreated\u001b[0m                \u001b[34m0.0s \u001b[0m\n",
      " \u001b[33m⠸\u001b[0m Container 03_docker_local-mlrun-api-1            Starting               \u001b[34m0.3s \u001b[0m\n",
      " \u001b[32m✔\u001b[0m Container 03_docker_local-mlrun-ui-1             \u001b[32mStarted\u001b[0m                \u001b[34m0.3s \u001b[0m\n",
      " \u001b[32m✔\u001b[0m Container 03_docker_local-init_nuclio-1          \u001b[32mStarted\u001b[0m                \u001b[34m0.3s \u001b[0m\n",
      " \u001b[33m⠙\u001b[0m Container 03_docker_local-nuclio-1               Starting               \u001b[34m0.3s \u001b[0m\n",
      "\u001b[?25h\u001b[1A\u001b[1A\u001b[1A\u001b[1A\u001b[1A\u001b[1A\u001b[1A\u001b[0G\u001b[?25l[+] Running 5/6\n",
      " \u001b[32m✔\u001b[0m Network 03_docker_local_default                  \u001b[32mCreated\u001b[0m                \u001b[34m0.1s \u001b[0m\n",
      " \u001b[32m✔\u001b[0m Volume \"03_docker_local_nuclio-platform-config\"  \u001b[32mCreated\u001b[0m                \u001b[34m0.0s \u001b[0m\n",
      " \u001b[32m✔\u001b[0m Container 03_docker_local-mlrun-api-1            \u001b[32mStarted\u001b[0m                \u001b[34m0.3s \u001b[0m\n",
      " \u001b[32m✔\u001b[0m Container 03_docker_local-mlrun-ui-1             \u001b[32mStarted\u001b[0m                \u001b[34m0.3s \u001b[0m\n",
      " \u001b[32m✔\u001b[0m Container 03_docker_local-init_nuclio-1          \u001b[32mStarted\u001b[0m                \u001b[34m0.3s \u001b[0m\n",
      " \u001b[33m⠹\u001b[0m Container 03_docker_local-nuclio-1               Starting               \u001b[34m0.4s \u001b[0m\n",
      "\u001b[?25h\u001b[1A\u001b[1A\u001b[1A\u001b[1A\u001b[1A\u001b[1A\u001b[1A\u001b[0G\u001b[?25l\u001b[34m[+] Running 6/6\u001b[0m\n",
      " \u001b[32m✔\u001b[0m Network 03_docker_local_default                  \u001b[32mCreated\u001b[0m                \u001b[34m0.1s \u001b[0m\n",
      " \u001b[32m✔\u001b[0m Volume \"03_docker_local_nuclio-platform-config\"  \u001b[32mCreated\u001b[0m                \u001b[34m0.0s \u001b[0m\n",
      " \u001b[32m✔\u001b[0m Container 03_docker_local-mlrun-api-1            \u001b[32mStarted\u001b[0m                \u001b[34m0.3s \u001b[0m\n",
      " \u001b[32m✔\u001b[0m Container 03_docker_local-mlrun-ui-1             \u001b[32mStarted\u001b[0m                \u001b[34m0.3s \u001b[0m\n",
      " \u001b[32m✔\u001b[0m Container 03_docker_local-init_nuclio-1          \u001b[32mStarted\u001b[0m                \u001b[34m0.3s \u001b[0m\n",
      " \u001b[32m✔\u001b[0m Container 03_docker_local-nuclio-1               \u001b[32mStarted\u001b[0m                \u001b[34m0.4s \u001b[0m\n",
      "\u001b[?25h"
     ]
    }
   ],
   "source": [
    "# deploy the mlrun server\n",
    "!docker-compose -f compose.yaml --env-file config.env up -d"
   ]
  },
  {
   "cell_type": "code",
   "execution_count": 8,
   "metadata": {},
   "outputs": [
    {
     "name": "stdout",
     "output_type": "stream",
     "text": [
      "CONTAINER ID   IMAGE                                   COMMAND                  CREATED                  STATUS                                     PORTS                                                                                                                             NAMES\n",
      "bdf41049b57e   gcr.io/iguazio/alpine:3.20              \"/bin/sh -c '/bin/sl…\"   Less than a second ago   Created                                                                                                                                                                      nuclio-local-storage-reader\n",
      "209105c4fc1d   quay.io/nuclio/dashboard:stable-amd64   \"/docker-entrypoint.…\"   1 second ago             Up Less than a second (health: starting)   80/tcp, 0.0.0.0:8070->8070/tcp, :::8070->8070/tcp                                                                                 03_docker_local-nuclio-1\n",
      "b8c3292a6246   mlrun/mlrun-ui:1.7.2                    \"/docker-entrypoint.…\"   1 second ago             Up Less than a second                      8080/tcp, 0.0.0.0:8060->8090/tcp, [::]:8060->8090/tcp                                                                             03_docker_local-mlrun-ui-1\n",
      "8d6d9a3b2122   mlrun/mlrun-api:1.7.2                   \"tini -- bash ./dock…\"   1 second ago             Up Less than a second                      0.0.0.0:8080->8080/tcp, :::8080->8080/tcp                                                                                         03_docker_local-mlrun-api-1\n",
      "04b090643983   alpine:3.18                             \"/bin/sh -c 'mkdir -…\"   1 second ago             Exited (0) Less than a second ago                                                                                                                                            03_docker_local-init_nuclio-1\n",
      "ecf2a43d3dd5   dockurr/windows                         \"/usr/bin/tini -s /r…\"   2 months ago             Up 4 hours                                 0.0.0.0:3389->3389/tcp, :::3389->3389/tcp, 0.0.0.0:8006->8006/tcp, 0.0.0.0:3389->3389/udp, :::8006->8006/tcp, :::3389->3389/udp   windows\n"
     ]
    }
   ],
   "source": [
    "!docker ps -a"
   ]
  },
  {
   "cell_type": "code",
   "execution_count": 9,
   "metadata": {},
   "outputs": [],
   "source": [
    "# remove deployed containers\n",
    "#!docker-compose -f compose.yaml --env-file config.env down"
   ]
  }
 ],
 "metadata": {
  "kernelspec": {
   "display_name": "local-mlrun",
   "language": "python",
   "name": "python3"
  },
  "language_info": {
   "codemirror_mode": {
    "name": "ipython",
    "version": 3
   },
   "file_extension": ".py",
   "mimetype": "text/x-python",
   "name": "python",
   "nbconvert_exporter": "python",
   "pygments_lexer": "ipython3",
   "version": "3.9.22"
  }
 },
 "nbformat": 4,
 "nbformat_minor": 2
}
