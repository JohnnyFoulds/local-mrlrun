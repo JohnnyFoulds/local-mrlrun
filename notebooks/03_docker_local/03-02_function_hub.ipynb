{
 "cells": [
  {
   "cell_type": "markdown",
   "metadata": {},
   "source": [
    "# 03-02 : Function Hub\n",
    "\n",
    "Attempt a function from MLRun Function Hub."
   ]
  },
  {
   "cell_type": "code",
   "execution_count": 22,
   "metadata": {},
   "outputs": [],
   "source": [
    "import os"
   ]
  },
  {
   "cell_type": "code",
   "execution_count": 23,
   "metadata": {},
   "outputs": [],
   "source": [
    "# set the mlrun api path\n",
    "server_ip = !(hostname -I | awk '{print $1}')\n",
    "server_ip = server_ip[0]\n",
    "\n",
    "os.environ[\"MLRUN_DBPATH\"] = f\"http://{server_ip}:8080\""
   ]
  },
  {
   "cell_type": "code",
   "execution_count": 24,
   "metadata": {},
   "outputs": [],
   "source": [
    "import mlrun"
   ]
  },
  {
   "cell_type": "code",
   "execution_count": 25,
   "metadata": {},
   "outputs": [
    {
     "name": "stdout",
     "output_type": "stream",
     "text": [
      "Artifacts path: /home/johnny/swan/code/local-mrlrun/notebooks/03_docker_local/jobs\n"
     ]
    }
   ],
   "source": [
    "artifact_path = os.path.abspath(\"jobs\")\n",
    "print(f\"Artifacts path: {artifact_path}\")"
   ]
  },
  {
   "cell_type": "code",
   "execution_count": 26,
   "metadata": {},
   "outputs": [
    {
     "name": "stdout",
     "output_type": "stream",
     "text": [
      "> 2025-05-12 16:03:56,012 [info] Project loaded successfully: {\"project_name\":\"hello-function\"}\n"
     ]
    }
   ],
   "source": [
    "project = mlrun.get_or_create_project(\n",
    "    name='hello-function',\n",
    "    context='./',) "
   ]
  },
  {
   "cell_type": "code",
   "execution_count": 27,
   "metadata": {},
   "outputs": [
    {
     "data": {
      "text/plain": [
       "<mlrun.runtimes.kubejob.KubejobRuntime at 0x7c87c428d9d0>"
      ]
     },
     "execution_count": 27,
     "metadata": {},
     "output_type": "execute_result"
    }
   ],
   "source": [
    "project.set_function(\"hub://describe\", \"describe\")"
   ]
  },
  {
   "cell_type": "code",
   "execution_count": 28,
   "metadata": {},
   "outputs": [],
   "source": [
    "my_describe = project.get_function(\"describe\")"
   ]
  },
  {
   "cell_type": "code",
   "execution_count": 29,
   "metadata": {},
   "outputs": [
    {
     "name": "stdout",
     "output_type": "stream",
     "text": [
      "function: describe\n",
      "describe and visualizes dataset stats\n",
      "default handler: analyze\n",
      "entry points:\n",
      "  analyze: The function will output the following artifacts per\n",
      "column within the data frame (based on data types)\n",
      "If the data has more than 500,000 sample we\n",
      "sample randomly 500,000 samples:\n",
      "\n",
      "describe csv\n",
      "histograms\n",
      "scatter-2d\n",
      "violin chart\n",
      "correlation-matrix chart\n",
      "correlation-matrix csv\n",
      "imbalance pie chart\n",
      "imbalance-weights-vec csv\n",
      "    context(MLClientCtx)  - The function context\n",
      "    name(str)  - Key of dataset to database (\"dataset\" for default), default=dataset\n",
      "    table(Union[FeatureSet, DataItem])  - MLRun input pointing to pandas dataframe (csv/parquet file path) or FeatureSet as param, default=None\n",
      "    label_column(str)  - Ground truth column label, default=None\n",
      "    plots_dest(str)  - Destination folder of summary plots (relative to artifact_path) (\"plots\" for default), default=plots\n",
      "    random_state(int)  - When the table has more than 500,000 samples, we sample randomly 500,000 samples, default=1\n",
      "    problem_type(str)  - , default=classification\n",
      "    dask_key(str)  - Key of dataframe in dask client \"datasets\" attribute, default=dask_key\n",
      "    dask_function(str)  - Dask function url (db://..), default=None\n",
      "    dask_client  - Dask client object, default=None\n"
     ]
    }
   ],
   "source": [
    "my_describe.doc()"
   ]
  },
  {
   "cell_type": "code",
   "execution_count": 30,
   "metadata": {},
   "outputs": [
    {
     "data": {
      "text/plain": [
       "<mlrun.runtimes.kubejob.KubejobRuntime at 0x7c87c428d9d0>"
      ]
     },
     "execution_count": 30,
     "metadata": {},
     "output_type": "execute_result"
    }
   ],
   "source": [
    "my_describe"
   ]
  },
  {
   "cell_type": "code",
   "execution_count": 31,
   "metadata": {},
   "outputs": [
    {
     "name": "stderr",
     "output_type": "stream",
     "text": [
      "767.22s - pydevd: Sending message related to process being replaced timed-out after 5 seconds\n"
     ]
    },
    {
     "name": "stdout",
     "output_type": "stream",
     "text": [
      "CONTAINER ID   IMAGE                                   COMMAND                  CREATED          STATUS                    PORTS                                                                                                                             NAMES\n",
      "bdf41049b57e   gcr.io/iguazio/alpine:3.20              \"/bin/sh -c '/bin/sl…\"   32 minutes ago   Up 32 minutes                                                                                                                                               nuclio-local-storage-reader\n",
      "209105c4fc1d   quay.io/nuclio/dashboard:stable-amd64   \"/docker-entrypoint.…\"   32 minutes ago   Up 32 minutes (healthy)   80/tcp, 0.0.0.0:8070->8070/tcp, :::8070->8070/tcp                                                                                 03_docker_local-nuclio-1\n",
      "b8c3292a6246   mlrun/mlrun-ui:1.7.2                    \"/docker-entrypoint.…\"   32 minutes ago   Up 32 minutes             8080/tcp, 0.0.0.0:8060->8090/tcp, [::]:8060->8090/tcp                                                                             03_docker_local-mlrun-ui-1\n",
      "8d6d9a3b2122   mlrun/mlrun-api:1.7.2                   \"tini -- bash ./dock…\"   32 minutes ago   Up 32 minutes             0.0.0.0:8080->8080/tcp, :::8080->8080/tcp                                                                                         03_docker_local-mlrun-api-1\n",
      "ecf2a43d3dd5   dockurr/windows                         \"/usr/bin/tini -s /r…\"   2 months ago     Up 4 hours                0.0.0.0:3389->3389/tcp, :::3389->3389/tcp, 0.0.0.0:8006->8006/tcp, 0.0.0.0:3389->3389/udp, :::8006->8006/tcp, :::3389->3389/udp   windows\n"
     ]
    }
   ],
   "source": [
    "!docker ps"
   ]
  },
  {
   "cell_type": "code",
   "execution_count": null,
   "metadata": {},
   "outputs": [
    {
     "name": "stdout",
     "output_type": "stream",
     "text": [
      "> 2025-05-12 16:04:01,666 [info] Storing function: {\"db\":null,\"name\":\"describe\",\"uid\":\"d9f9f3484fe047b1b24ac40733fa37ba\"}\n",
      "> 2025-05-12 16:04:01,735 [error] Run error, Traceback (most recent call last):\n",
      "  File \"/home/johnny/swan/miniconda3/envs/local-mlrun/lib/python3.9/site-packages/mlrun/runtimes/local.py\", line 304, in _run\n",
      "    fn = self._get_handler(handler, context)\n",
      "  File \"/home/johnny/swan/miniconda3/envs/local-mlrun/lib/python3.9/site-packages/mlrun/runtimes/local.py\", line 239, in _get_handler\n",
      "    return load_module(command, handler, context, embed_in_sys=embed_in_sys)\n",
      "  File \"/home/johnny/swan/miniconda3/envs/local-mlrun/lib/python3.9/site-packages/mlrun/runtimes/local.py\", line 408, in load_module\n",
      "    spec.loader.exec_module(module)\n",
      "  File \"<frozen importlib._bootstrap_external>\", line 850, in exec_module\n",
      "  File \"<frozen importlib._bootstrap>\", line 228, in _call_with_frames_removed\n",
      "  File \"/tmp/tmpn9bl5tat.py\", line 27, in <module>\n",
      "    import plotly.express as px\n",
      "ModuleNotFoundError: No module named 'plotly'\n"
     ]
    },
    {
     "data": {
      "text/html": [
       "<style>\n",
       ".dictlist {\n",
       "  background-color: #4EC64B;\n",
       "  text-align: center;\n",
       "  margin: 4px;\n",
       "  border-radius: 3px; padding: 0px 3px 1px 3px; display: inline-block;}\n",
       ".artifact {\n",
       "  cursor: pointer;\n",
       "  background-color: #4EC64B;\n",
       "  text-align: left;\n",
       "  margin: 4px; border-radius: 3px; padding: 0px 3px 1px 3px; display: inline-block;\n",
       "}\n",
       "div.block.hidden {\n",
       "  display: none;\n",
       "}\n",
       ".clickable {\n",
       "  cursor: pointer;\n",
       "}\n",
       ".ellipsis {\n",
       "  display: inline-block;\n",
       "  max-width: 60px;\n",
       "  white-space: nowrap;\n",
       "  overflow: hidden;\n",
       "  text-overflow: ellipsis;\n",
       "}\n",
       ".master-wrapper {\n",
       "  display: flex;\n",
       "  flex-flow: row nowrap;\n",
       "  justify-content: flex-start;\n",
       "  align-items: stretch;\n",
       "}\n",
       ".master-tbl {\n",
       "  flex: 3\n",
       "}\n",
       ".master-wrapper > div {\n",
       "  margin: 4px;\n",
       "  padding: 10px;\n",
       "}\n",
       "iframe.fileview {\n",
       "  border: 0 none;\n",
       "  height: 100%;\n",
       "  width: 100%;\n",
       "  white-space: pre-wrap;\n",
       "}\n",
       ".pane-header-title {\n",
       "  width: 80%;\n",
       "  font-weight: 500;\n",
       "}\n",
       ".pane-header {\n",
       "  line-height: 1;\n",
       "  background-color: #4EC64B;\n",
       "  padding: 3px;\n",
       "}\n",
       ".pane-header .close {\n",
       "  font-size: 20px;\n",
       "  font-weight: 700;\n",
       "  float: right;\n",
       "  margin-top: -5px;\n",
       "}\n",
       ".master-wrapper .right-pane {\n",
       "  border: 1px inset silver;\n",
       "  width: 40%;\n",
       "  min-height: 300px;\n",
       "  flex: 3\n",
       "  min-width: 500px;\n",
       "}\n",
       ".master-wrapper * {\n",
       "  box-sizing: border-box;\n",
       "}\n",
       "</style><script>\n",
       "function copyToClipboard(fld) {\n",
       "    if (document.queryCommandSupported && document.queryCommandSupported('copy')) {\n",
       "        var textarea = document.createElement('textarea');\n",
       "        textarea.textContent = fld.innerHTML;\n",
       "        textarea.style.position = 'fixed';\n",
       "        document.body.appendChild(textarea);\n",
       "        textarea.select();\n",
       "\n",
       "        try {\n",
       "            return document.execCommand('copy'); // Security exception may be thrown by some browsers.\n",
       "        } catch (ex) {\n",
       "\n",
       "        } finally {\n",
       "            document.body.removeChild(textarea);\n",
       "        }\n",
       "    }\n",
       "}\n",
       "function expandPanel(el) {\n",
       "  const panelName = \"#\" + el.getAttribute('paneName');\n",
       "\n",
       "  // Get the base URL of the current notebook\n",
       "  var baseUrl = window.location.origin;\n",
       "\n",
       "  // Construct the full URL\n",
       "  var fullUrl = new URL(el.title, baseUrl).href;\n",
       "\n",
       "  document.querySelector(panelName + \"-title\").innerHTML = fullUrl\n",
       "  iframe = document.querySelector(panelName + \"-body\");\n",
       "\n",
       "  const tblcss = `<style> body { font-family: Arial, Helvetica, sans-serif;}\n",
       "    #csv { margin-bottom: 15px; }\n",
       "    #csv table { border-collapse: collapse;}\n",
       "    #csv table td { padding: 4px 8px; border: 1px solid silver;} </style>`;\n",
       "\n",
       "  function csvToHtmlTable(str) {\n",
       "    return '<div id=\"csv\"><table><tr><td>' +  str.replace(/[\\n\\r]+$/g, '').replace(/[\\n\\r]+/g, '</td></tr><tr><td>')\n",
       "      .replace(/,/g, '</td><td>') + '</td></tr></table></div>';\n",
       "  }\n",
       "\n",
       "  function reqListener () {\n",
       "    if (fullUrl.endsWith(\".csv\")) {\n",
       "      iframe.setAttribute(\"srcdoc\", tblcss + csvToHtmlTable(this.responseText));\n",
       "    } else {\n",
       "      iframe.setAttribute(\"srcdoc\", this.responseText);\n",
       "    }\n",
       "    console.log(this.responseText);\n",
       "  }\n",
       "\n",
       "  const oReq = new XMLHttpRequest();\n",
       "  oReq.addEventListener(\"load\", reqListener);\n",
       "  oReq.open(\"GET\", fullUrl);\n",
       "  oReq.send();\n",
       "\n",
       "\n",
       "  //iframe.src = fullUrl;\n",
       "  const resultPane = document.querySelector(panelName + \"-pane\");\n",
       "  if (resultPane.classList.contains(\"hidden\")) {\n",
       "    resultPane.classList.remove(\"hidden\");\n",
       "  }\n",
       "}\n",
       "function closePanel(el) {\n",
       "  const panelName = \"#\" + el.getAttribute('paneName')\n",
       "  const resultPane = document.querySelector(panelName + \"-pane\");\n",
       "  if (!resultPane.classList.contains(\"hidden\")) {\n",
       "    resultPane.classList.add(\"hidden\");\n",
       "  }\n",
       "}\n",
       "\n",
       "</script>\n",
       "<div class=\"master-wrapper\">\n",
       "  <div class=\"block master-tbl\"><div>\n",
       "<style scoped>\n",
       "    .dataframe tbody tr th:only-of-type {\n",
       "        vertical-align: middle;\n",
       "    }\n",
       "\n",
       "    .dataframe tbody tr th {\n",
       "        vertical-align: top;\n",
       "    }\n",
       "\n",
       "    .dataframe thead th {\n",
       "        text-align: right;\n",
       "    }\n",
       "</style>\n",
       "<table border=\"1\" class=\"dataframe\">\n",
       "  <thead>\n",
       "    <tr style=\"text-align: right;\">\n",
       "      <th>project</th>\n",
       "      <th>uid</th>\n",
       "      <th>iter</th>\n",
       "      <th>start</th>\n",
       "      <th>state</th>\n",
       "      <th>kind</th>\n",
       "      <th>name</th>\n",
       "      <th>labels</th>\n",
       "      <th>inputs</th>\n",
       "      <th>parameters</th>\n",
       "      <th>results</th>\n",
       "    </tr>\n",
       "  </thead>\n",
       "  <tbody>\n",
       "    <tr>\n",
       "      <td>hello-function</td>\n",
       "      <td><div title=\"d9f9f3484fe047b1b24ac40733fa37ba\"><a href=\"http://localhost:8060/projects/hello-function/jobs/monitor/d9f9f3484fe047b1b24ac40733fa37ba/overview\" target=\"_blank\" >...33fa37ba</a></div></td>\n",
       "      <td>0</td>\n",
       "      <td>May 12 14:04:01</td>\n",
       "      <td><div style=\"color: red;\" title=\"Failed on pre-loading / post-running of the function, caused by: No module named 'plotly'\">error</div></td>\n",
       "      <td>run</td>\n",
       "      <td>describe</td>\n",
       "      <td><div class=\"dictlist\">kind=local</div><div class=\"dictlist\">owner=johnny</div><div class=\"dictlist\">host=dragon</div></td>\n",
       "      <td><div title=\"https://raw.githubusercontent.com/mlrun/demos/master/iris/iris_dataset.csv\">table</div></td>\n",
       "      <td><div class=\"dictlist\">label_column=label</div></td>\n",
       "      <td></td>\n",
       "    </tr>\n",
       "  </tbody>\n",
       "</table>\n",
       "</div></div>\n",
       "  <div id=\"resultff9d4d83-pane\" class=\"right-pane block hidden\">\n",
       "    <div class=\"pane-header\">\n",
       "      <span id=\"resultff9d4d83-title\" class=\"pane-header-title\">Title</span>\n",
       "      <span onclick=\"closePanel(this)\" paneName=\"resultff9d4d83\" class=\"close clickable\">&times;</span>\n",
       "    </div>\n",
       "    <iframe class=\"fileview\" id=\"resultff9d4d83-body\"></iframe>\n",
       "  </div>\n",
       "</div>\n"
      ],
      "text/plain": [
       "<IPython.core.display.HTML object>"
      ]
     },
     "metadata": {},
     "output_type": "display_data"
    },
    {
     "name": "stdout",
     "output_type": "stream",
     "text": [
      "\n"
     ]
    },
    {
     "data": {
      "text/html": [
       "<b> > to track results use the .show() or .logs() methods  or <a href=\"http://localhost:8060/projects/hello-function/jobs/monitor/d9f9f3484fe047b1b24ac40733fa37ba/overview\" target=\"_blank\">click here</a> to open in UI</b>"
      ],
      "text/plain": [
       "<IPython.core.display.HTML object>"
      ]
     },
     "metadata": {},
     "output_type": "display_data"
    },
    {
     "name": "stdout",
     "output_type": "stream",
     "text": [
      "> 2025-05-12 16:04:01,781 [info] Run execution finished: {\"name\":\"describe\",\"status\":\"error\"}\n"
     ]
    },
    {
     "ename": "RunError",
     "evalue": "Failed on pre-loading / post-running of the function, caused by: No module named 'plotly'",
     "output_type": "error",
     "traceback": [
      "\u001b[0;31m---------------------------------------------------------------------------\u001b[0m",
      "\u001b[0;31mRunError\u001b[0m                                  Traceback (most recent call last)",
      "Cell \u001b[0;32mIn[32], line 1\u001b[0m\n\u001b[0;32m----> 1\u001b[0m run \u001b[38;5;241m=\u001b[39m \u001b[43mmy_describe\u001b[49m\u001b[38;5;241;43m.\u001b[39;49m\u001b[43mrun\u001b[49m\u001b[43m(\u001b[49m\n\u001b[1;32m      2\u001b[0m \u001b[43m    \u001b[49m\u001b[43mname\u001b[49m\u001b[38;5;241;43m=\u001b[39;49m\u001b[38;5;124;43m\"\u001b[39;49m\u001b[38;5;124;43mdescribe\u001b[39;49m\u001b[38;5;124;43m\"\u001b[39;49m\u001b[43m,\u001b[49m\n\u001b[1;32m      3\u001b[0m \u001b[43m    \u001b[49m\u001b[43minputs\u001b[49m\u001b[38;5;241;43m=\u001b[39;49m\u001b[43m{\u001b[49m\u001b[38;5;124;43m\"\u001b[39;49m\u001b[38;5;124;43mtable\u001b[39;49m\u001b[38;5;124;43m\"\u001b[39;49m\u001b[43m:\u001b[49m\u001b[43m \u001b[49m\u001b[38;5;124;43m\"\u001b[39;49m\u001b[38;5;124;43mhttps://raw.githubusercontent.com/mlrun/demos/master/iris/iris_dataset.csv\u001b[39;49m\u001b[38;5;124;43m\"\u001b[39;49m\u001b[43m}\u001b[49m\u001b[43m,\u001b[49m\n\u001b[1;32m      4\u001b[0m \u001b[43m    \u001b[49m\u001b[43mparams\u001b[49m\u001b[38;5;241;43m=\u001b[39;49m\u001b[43m{\u001b[49m\u001b[38;5;124;43m\"\u001b[39;49m\u001b[38;5;124;43mlabel_column\u001b[39;49m\u001b[38;5;124;43m\"\u001b[39;49m\u001b[43m:\u001b[49m\u001b[43m \u001b[49m\u001b[38;5;124;43m\"\u001b[39;49m\u001b[38;5;124;43mlabel\u001b[39;49m\u001b[38;5;124;43m\"\u001b[39;49m\u001b[43m}\u001b[49m\u001b[43m,\u001b[49m\n\u001b[1;32m      5\u001b[0m \u001b[43m    \u001b[49m\u001b[43martifact_path\u001b[49m\u001b[38;5;241;43m=\u001b[39;49m\u001b[43martifact_path\u001b[49m\u001b[43m,\u001b[49m\n\u001b[1;32m      6\u001b[0m \u001b[43m    \u001b[49m\u001b[43mlocal\u001b[49m\u001b[38;5;241;43m=\u001b[39;49m\u001b[38;5;28;43;01mTrue\u001b[39;49;00m\u001b[43m,\u001b[49m\n\u001b[1;32m      7\u001b[0m \u001b[43m)\u001b[49m\n",
      "File \u001b[0;32m~/swan/miniconda3/envs/local-mlrun/lib/python3.9/site-packages/mlrun/runtimes/base.py:403\u001b[0m, in \u001b[0;36mBaseRuntime.run\u001b[0;34m(self, runspec, handler, name, project, params, inputs, out_path, workdir, artifact_path, watch, schedule, hyperparams, hyper_param_options, verbose, scrape_metrics, local, local_code_path, auto_build, param_file_secrets, notifications, returns, state_thresholds, reset_on_run, **launcher_kwargs)\u001b[0m\n\u001b[1;32m    343\u001b[0m \u001b[38;5;250m\u001b[39m\u001b[38;5;124;03m\"\"\"\u001b[39;00m\n\u001b[1;32m    344\u001b[0m \u001b[38;5;124;03mRun a local or remote task.\u001b[39;00m\n\u001b[1;32m    345\u001b[0m \n\u001b[0;32m   (...)\u001b[0m\n\u001b[1;32m    398\u001b[0m \u001b[38;5;124;03m:return: Run context object (RunObject) with run metadata, results and status\u001b[39;00m\n\u001b[1;32m    399\u001b[0m \u001b[38;5;124;03m\"\"\"\u001b[39;00m\n\u001b[1;32m    400\u001b[0m launcher \u001b[38;5;241m=\u001b[39m mlrun\u001b[38;5;241m.\u001b[39mlauncher\u001b[38;5;241m.\u001b[39mfactory\u001b[38;5;241m.\u001b[39mLauncherFactory()\u001b[38;5;241m.\u001b[39mcreate_launcher(\n\u001b[1;32m    401\u001b[0m     \u001b[38;5;28mself\u001b[39m\u001b[38;5;241m.\u001b[39m_is_remote, local\u001b[38;5;241m=\u001b[39mlocal, \u001b[38;5;241m*\u001b[39m\u001b[38;5;241m*\u001b[39mlauncher_kwargs\n\u001b[1;32m    402\u001b[0m )\n\u001b[0;32m--> 403\u001b[0m \u001b[38;5;28;01mreturn\u001b[39;00m \u001b[43mlauncher\u001b[49m\u001b[38;5;241;43m.\u001b[39;49m\u001b[43mlaunch\u001b[49m\u001b[43m(\u001b[49m\n\u001b[1;32m    404\u001b[0m \u001b[43m    \u001b[49m\u001b[43mruntime\u001b[49m\u001b[38;5;241;43m=\u001b[39;49m\u001b[38;5;28;43mself\u001b[39;49m\u001b[43m,\u001b[49m\n\u001b[1;32m    405\u001b[0m \u001b[43m    \u001b[49m\u001b[43mtask\u001b[49m\u001b[38;5;241;43m=\u001b[39;49m\u001b[43mrunspec\u001b[49m\u001b[43m,\u001b[49m\n\u001b[1;32m    406\u001b[0m \u001b[43m    \u001b[49m\u001b[43mhandler\u001b[49m\u001b[38;5;241;43m=\u001b[39;49m\u001b[43mhandler\u001b[49m\u001b[43m,\u001b[49m\n\u001b[1;32m    407\u001b[0m \u001b[43m    \u001b[49m\u001b[43mname\u001b[49m\u001b[38;5;241;43m=\u001b[39;49m\u001b[43mname\u001b[49m\u001b[43m,\u001b[49m\n\u001b[1;32m    408\u001b[0m \u001b[43m    \u001b[49m\u001b[43mproject\u001b[49m\u001b[38;5;241;43m=\u001b[39;49m\u001b[43mproject\u001b[49m\u001b[43m,\u001b[49m\n\u001b[1;32m    409\u001b[0m \u001b[43m    \u001b[49m\u001b[43mparams\u001b[49m\u001b[38;5;241;43m=\u001b[39;49m\u001b[43mparams\u001b[49m\u001b[43m,\u001b[49m\n\u001b[1;32m    410\u001b[0m \u001b[43m    \u001b[49m\u001b[43minputs\u001b[49m\u001b[38;5;241;43m=\u001b[39;49m\u001b[43minputs\u001b[49m\u001b[43m,\u001b[49m\n\u001b[1;32m    411\u001b[0m \u001b[43m    \u001b[49m\u001b[43mout_path\u001b[49m\u001b[38;5;241;43m=\u001b[39;49m\u001b[43mout_path\u001b[49m\u001b[43m,\u001b[49m\n\u001b[1;32m    412\u001b[0m \u001b[43m    \u001b[49m\u001b[43mworkdir\u001b[49m\u001b[38;5;241;43m=\u001b[39;49m\u001b[43mworkdir\u001b[49m\u001b[43m,\u001b[49m\n\u001b[1;32m    413\u001b[0m \u001b[43m    \u001b[49m\u001b[43martifact_path\u001b[49m\u001b[38;5;241;43m=\u001b[39;49m\u001b[43martifact_path\u001b[49m\u001b[43m,\u001b[49m\n\u001b[1;32m    414\u001b[0m \u001b[43m    \u001b[49m\u001b[43mwatch\u001b[49m\u001b[38;5;241;43m=\u001b[39;49m\u001b[43mwatch\u001b[49m\u001b[43m,\u001b[49m\n\u001b[1;32m    415\u001b[0m \u001b[43m    \u001b[49m\u001b[43mschedule\u001b[49m\u001b[38;5;241;43m=\u001b[39;49m\u001b[43mschedule\u001b[49m\u001b[43m,\u001b[49m\n\u001b[1;32m    416\u001b[0m \u001b[43m    \u001b[49m\u001b[43mhyperparams\u001b[49m\u001b[38;5;241;43m=\u001b[39;49m\u001b[43mhyperparams\u001b[49m\u001b[43m,\u001b[49m\n\u001b[1;32m    417\u001b[0m \u001b[43m    \u001b[49m\u001b[43mhyper_param_options\u001b[49m\u001b[38;5;241;43m=\u001b[39;49m\u001b[43mhyper_param_options\u001b[49m\u001b[43m,\u001b[49m\n\u001b[1;32m    418\u001b[0m \u001b[43m    \u001b[49m\u001b[43mverbose\u001b[49m\u001b[38;5;241;43m=\u001b[39;49m\u001b[43mverbose\u001b[49m\u001b[43m,\u001b[49m\n\u001b[1;32m    419\u001b[0m \u001b[43m    \u001b[49m\u001b[43mscrape_metrics\u001b[49m\u001b[38;5;241;43m=\u001b[39;49m\u001b[43mscrape_metrics\u001b[49m\u001b[43m,\u001b[49m\n\u001b[1;32m    420\u001b[0m \u001b[43m    \u001b[49m\u001b[43mlocal_code_path\u001b[49m\u001b[38;5;241;43m=\u001b[39;49m\u001b[43mlocal_code_path\u001b[49m\u001b[43m,\u001b[49m\n\u001b[1;32m    421\u001b[0m \u001b[43m    \u001b[49m\u001b[43mauto_build\u001b[49m\u001b[38;5;241;43m=\u001b[39;49m\u001b[43mauto_build\u001b[49m\u001b[43m,\u001b[49m\n\u001b[1;32m    422\u001b[0m \u001b[43m    \u001b[49m\u001b[43mparam_file_secrets\u001b[49m\u001b[38;5;241;43m=\u001b[39;49m\u001b[43mparam_file_secrets\u001b[49m\u001b[43m,\u001b[49m\n\u001b[1;32m    423\u001b[0m \u001b[43m    \u001b[49m\u001b[43mnotifications\u001b[49m\u001b[38;5;241;43m=\u001b[39;49m\u001b[43mnotifications\u001b[49m\u001b[43m,\u001b[49m\n\u001b[1;32m    424\u001b[0m \u001b[43m    \u001b[49m\u001b[43mreturns\u001b[49m\u001b[38;5;241;43m=\u001b[39;49m\u001b[43mreturns\u001b[49m\u001b[43m,\u001b[49m\n\u001b[1;32m    425\u001b[0m \u001b[43m    \u001b[49m\u001b[43mstate_thresholds\u001b[49m\u001b[38;5;241;43m=\u001b[39;49m\u001b[43mstate_thresholds\u001b[49m\u001b[43m,\u001b[49m\n\u001b[1;32m    426\u001b[0m \u001b[43m    \u001b[49m\u001b[43mreset_on_run\u001b[49m\u001b[38;5;241;43m=\u001b[39;49m\u001b[43mreset_on_run\u001b[49m\u001b[43m,\u001b[49m\n\u001b[1;32m    427\u001b[0m \u001b[43m\u001b[49m\u001b[43m)\u001b[49m\n",
      "File \u001b[0;32m~/swan/miniconda3/envs/local-mlrun/lib/python3.9/site-packages/mlrun/launcher/local.py:126\u001b[0m, in \u001b[0;36mClientLocalLauncher.launch\u001b[0;34m(self, runtime, task, handler, name, project, params, inputs, out_path, workdir, artifact_path, watch, schedule, hyperparams, hyper_param_options, verbose, scrape_metrics, local_code_path, auto_build, param_file_secrets, notifications, returns, state_thresholds, reset_on_run)\u001b[0m\n\u001b[1;32m    106\u001b[0m run \u001b[38;5;241m=\u001b[39m \u001b[38;5;28mself\u001b[39m\u001b[38;5;241m.\u001b[39m_enrich_run(\n\u001b[1;32m    107\u001b[0m     runtime\u001b[38;5;241m=\u001b[39mruntime,\n\u001b[1;32m    108\u001b[0m     run\u001b[38;5;241m=\u001b[39mrun,\n\u001b[0;32m   (...)\u001b[0m\n\u001b[1;32m    123\u001b[0m     state_thresholds\u001b[38;5;241m=\u001b[39mstate_thresholds,\n\u001b[1;32m    124\u001b[0m )\n\u001b[1;32m    125\u001b[0m \u001b[38;5;28mself\u001b[39m\u001b[38;5;241m.\u001b[39m_validate_runtime(runtime, run)\n\u001b[0;32m--> 126\u001b[0m result \u001b[38;5;241m=\u001b[39m \u001b[38;5;28;43mself\u001b[39;49m\u001b[38;5;241;43m.\u001b[39;49m\u001b[43m_execute\u001b[49m\u001b[43m(\u001b[49m\n\u001b[1;32m    127\u001b[0m \u001b[43m    \u001b[49m\u001b[43mruntime\u001b[49m\u001b[38;5;241;43m=\u001b[39;49m\u001b[43mruntime\u001b[49m\u001b[43m,\u001b[49m\n\u001b[1;32m    128\u001b[0m \u001b[43m    \u001b[49m\u001b[43mrun\u001b[49m\u001b[38;5;241;43m=\u001b[39;49m\u001b[43mrun\u001b[49m\u001b[43m,\u001b[49m\n\u001b[1;32m    129\u001b[0m \u001b[43m\u001b[49m\u001b[43m)\u001b[49m\n\u001b[1;32m    131\u001b[0m \u001b[38;5;28;01mreturn\u001b[39;00m result\n",
      "File \u001b[0;32m~/swan/miniconda3/envs/local-mlrun/lib/python3.9/site-packages/mlrun/launcher/local.py:206\u001b[0m, in \u001b[0;36mClientLocalLauncher._execute\u001b[0;34m(self, runtime, run)\u001b[0m\n\u001b[1;32m    203\u001b[0m \u001b[38;5;66;03m# run post run hooks\u001b[39;00m\n\u001b[1;32m    204\u001b[0m runtime\u001b[38;5;241m.\u001b[39m_post_run(result, execution)  \u001b[38;5;66;03m# hook for runtime specific cleanup\u001b[39;00m\n\u001b[0;32m--> 206\u001b[0m \u001b[38;5;28;01mreturn\u001b[39;00m \u001b[38;5;28;43mself\u001b[39;49m\u001b[38;5;241;43m.\u001b[39;49m\u001b[43m_wrap_run_result\u001b[49m\u001b[43m(\u001b[49m\u001b[43mruntime\u001b[49m\u001b[43m,\u001b[49m\u001b[43m \u001b[49m\u001b[43mresult\u001b[49m\u001b[43m,\u001b[49m\u001b[43m \u001b[49m\u001b[43mrun\u001b[49m\u001b[43m,\u001b[49m\u001b[43m \u001b[49m\u001b[43merr\u001b[49m\u001b[38;5;241;43m=\u001b[39;49m\u001b[43mlast_err\u001b[49m\u001b[43m)\u001b[49m\n",
      "File \u001b[0;32m~/swan/miniconda3/envs/local-mlrun/lib/python3.9/site-packages/mlrun/launcher/base.py:415\u001b[0m, in \u001b[0;36mBaseLauncher._wrap_run_result\u001b[0;34m(self, runtime, result, run, schedule, err)\u001b[0m\n\u001b[1;32m    409\u001b[0m         \u001b[38;5;28;01mif\u001b[39;00m runtime\u001b[38;5;241m.\u001b[39m_is_remote \u001b[38;5;129;01mand\u001b[39;00m \u001b[38;5;129;01mnot\u001b[39;00m runtime\u001b[38;5;241m.\u001b[39mis_child:\n\u001b[1;32m    410\u001b[0m             logger\u001b[38;5;241m.\u001b[39merror(\n\u001b[1;32m    411\u001b[0m                 \u001b[38;5;124m\"\u001b[39m\u001b[38;5;124mRun did not finish successfully\u001b[39m\u001b[38;5;124m\"\u001b[39m,\n\u001b[1;32m    412\u001b[0m                 state\u001b[38;5;241m=\u001b[39mrun\u001b[38;5;241m.\u001b[39mstatus\u001b[38;5;241m.\u001b[39mstate,\n\u001b[1;32m    413\u001b[0m                 status\u001b[38;5;241m=\u001b[39mrun\u001b[38;5;241m.\u001b[39mstatus\u001b[38;5;241m.\u001b[39mto_dict(),\n\u001b[1;32m    414\u001b[0m             )\n\u001b[0;32m--> 415\u001b[0m         \u001b[38;5;28;01mraise\u001b[39;00m mlrun\u001b[38;5;241m.\u001b[39mruntimes\u001b[38;5;241m.\u001b[39mutils\u001b[38;5;241m.\u001b[39mRunError(run\u001b[38;5;241m.\u001b[39merror)\n\u001b[1;32m    416\u001b[0m     \u001b[38;5;28;01mreturn\u001b[39;00m run\n\u001b[1;32m    418\u001b[0m \u001b[38;5;28;01mreturn\u001b[39;00m \u001b[38;5;28;01mNone\u001b[39;00m\n",
      "\u001b[0;31mRunError\u001b[0m: Failed on pre-loading / post-running of the function, caused by: No module named 'plotly'"
     ]
    }
   ],
   "source": [
    "run = my_describe.run(\n",
    "    name=\"describe\",\n",
    "    inputs={\"table\": \"https://raw.githubusercontent.com/mlrun/demos/master/iris/iris_dataset.csv\"},\n",
    "    params={\"label_column\": \"label\"},\n",
    "    artifact_path=artifact_path,\n",
    "    local=False,\n",
    ")"
   ]
  },
  {
   "cell_type": "code",
   "execution_count": null,
   "metadata": {},
   "outputs": [
    {
     "name": "stdout",
     "output_type": "stream",
     "text": [
      "CONTAINER ID   IMAGE                                   COMMAND                  CREATED          STATUS                      PORTS                                                                                                                             NAMES\n",
      "bdf41049b57e   gcr.io/iguazio/alpine:3.20              \"/bin/sh -c '/bin/sl…\"   21 minutes ago   Up 21 minutes                                                                                                                                                 nuclio-local-storage-reader\n",
      "209105c4fc1d   quay.io/nuclio/dashboard:stable-amd64   \"/docker-entrypoint.…\"   21 minutes ago   Up 21 minutes (healthy)     80/tcp, 0.0.0.0:8070->8070/tcp, :::8070->8070/tcp                                                                                 03_docker_local-nuclio-1\n",
      "b8c3292a6246   mlrun/mlrun-ui:1.7.2                    \"/docker-entrypoint.…\"   21 minutes ago   Up 21 minutes               8080/tcp, 0.0.0.0:8060->8090/tcp, [::]:8060->8090/tcp                                                                             03_docker_local-mlrun-ui-1\n",
      "8d6d9a3b2122   mlrun/mlrun-api:1.7.2                   \"tini -- bash ./dock…\"   21 minutes ago   Up 21 minutes               0.0.0.0:8080->8080/tcp, :::8080->8080/tcp                                                                                         03_docker_local-mlrun-api-1\n",
      "04b090643983   alpine:3.18                             \"/bin/sh -c 'mkdir -…\"   21 minutes ago   Exited (0) 21 minutes ago                                                                                                                                     03_docker_local-init_nuclio-1\n",
      "ecf2a43d3dd5   dockurr/windows                         \"/usr/bin/tini -s /r…\"   2 months ago     Up 4 hours                  0.0.0.0:3389->3389/tcp, :::3389->3389/tcp, 0.0.0.0:8006->8006/tcp, 0.0.0.0:3389->3389/udp, :::8006->8006/tcp, :::3389->3389/udp   windows\n"
     ]
    }
   ],
   "source": [
    "!docker ps -a"
   ]
  }
 ],
 "metadata": {
  "kernelspec": {
   "display_name": "local-mlrun",
   "language": "python",
   "name": "python3"
  },
  "language_info": {
   "codemirror_mode": {
    "name": "ipython",
    "version": 3
   },
   "file_extension": ".py",
   "mimetype": "text/x-python",
   "name": "python",
   "nbconvert_exporter": "python",
   "pygments_lexer": "ipython3",
   "version": "3.9.22"
  }
 },
 "nbformat": 4,
 "nbformat_minor": 2
}
