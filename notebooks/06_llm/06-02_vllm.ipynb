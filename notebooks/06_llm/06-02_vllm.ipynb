{
 "cells": [
  {
   "cell_type": "markdown",
   "metadata": {},
   "source": [
    "# 06-02 : vLLM Ofline Batch Inference\n",
    "\n",
    "## References\n",
    "\n",
    "- [Quickstart](https://docs.vllm.ai/en/stable/getting_started/quickstart.html#offline-batched-inference)\n",
    "- [Deploying an LLM using MLRun](https://docs.mlrun.org/en/v1.9.1/tutorials/genai_01_basic_tutorial.html)\n",
    "- [Function hub](https://docs.mlrun.org/en/latest/runtimes/load-from-hub.html)\n",
    "- [Functions hub Repo](https://github.com/mlrun/functions)\n",
    "- [Building a docker image using a Dockerfile and then using it](https://docs.mlrun.org/en/v1.9.1/runtimes/images.html#building-a-docker-image-using-a-dockerfile-and-then-using-it)\n",
    "- [MLRun runtime images](https://docs.mlrun.org/en/v1.9.1/runtimes/images.html#mlrun-runtime-images)\n",
    "- [MLRun Images](https://github.com/mlrun/mlrun/tree/development/dockerfiles)\n",
    "- https://github.com/yaronha/mlrun/blob/36049e1f748e277bf380d44043129d408581a893/docs/runtimes/configuring-job-resources.md#cpu-gpu-and-memory-limits-for-user-jobs\n",
    "- [Select OpenAI or Ollama](https://github.com/liranbg/mlrun/blob/d61b4e2f37215ae9564aeb1dbbeee08c7f0c9d2c/docs/genai/development/working-with-rag.ipynb#L202)\n",
    "- [gpt-oss vLLM Usage Guide](https://docs.vllm.ai/projects/recipes/en/latest/OpenAI/GPT-OSS.html)\n",
    "- https://docs.vllm.ai/en/stable/models/extensions/runai_model_streamer.html\n",
    "- https://github.com/run-ai/runai-model-streamer/blob/master/examples/stream_safetensors_from_s3.ipynb"
   ]
  },
  {
   "cell_type": "code",
   "execution_count": null,
   "metadata": {},
   "outputs": [],
   "source": [
    "import mlrun"
   ]
  },
  {
   "cell_type": "code",
   "execution_count": null,
   "metadata": {},
   "outputs": [],
   "source": [
    "# Show the API server URL\n",
    "mlrun.get_run_db()"
   ]
  },
  {
   "cell_type": "markdown",
   "metadata": {},
   "source": [
    "## 1. Configuration"
   ]
  },
  {
   "cell_type": "code",
   "execution_count": null,
   "metadata": {},
   "outputs": [],
   "source": [
    "#MODEL_ID = \"deepseek-ai/DeepSeek-R1-Distill-Qwen-14B\"\n",
    "MODEL_ID = \"casperhansen/deepseek-r1-distill-qwen-14b-awq\"\n",
    "#MODEL_ID = \"openai/gpt-oss-20b\"\n",
    "project_name = \"llm-batch\" # the project name"
   ]
  },
  {
   "cell_type": "markdown",
   "metadata": {},
   "source": [
    "### 1.1 Create The Project"
   ]
  },
  {
   "cell_type": "code",
   "execution_count": null,
   "metadata": {},
   "outputs": [],
   "source": [
    "project = mlrun.get_or_create_project(\n",
    "    name=project_name,\n",
    "    user_project=True)\n",
    "\n",
    "# Display the current project name\n",
    "project_name = project.metadata.name\n",
    "print(f'Full project name: {project_name}')"
   ]
  },
  {
   "cell_type": "markdown",
   "metadata": {},
   "source": [
    "### 1.2 Model Cache Directory"
   ]
  },
  {
   "cell_type": "code",
   "execution_count": null,
   "metadata": {},
   "outputs": [],
   "source": [
    "# the cache directory for the model\n",
    "CACHE_DIR = mlrun.mlconf.artifact_path\n",
    "CACHE_DIR = (\n",
    "    CACHE_DIR.replace(\"v3io://\", \"/v3io\").replace(\"{{run.project}}\", project.name)\n",
    "    + \"/cache\"\n",
    ")\n",
    "print(f\"Cache directory: {CACHE_DIR}\")"
   ]
  },
  {
   "cell_type": "markdown",
   "metadata": {},
   "source": [
    "## 2. vLLM Docker Image"
   ]
  },
  {
   "cell_type": "markdown",
   "metadata": {},
   "source": [
    "### Manual Test\n",
    "\n",
    "```vllm-pod.yaml\n",
    "apiVersion: v1\n",
    "kind: Pod\n",
    "metadata:\n",
    "  name: vllm-shell\n",
    "  namespace: mlrun\n",
    "spec:\n",
    "  restartPolicy: Never\n",
    "  runtimeClassName: nvidia\n",
    "  containers:\n",
    "  - name: vllm-container\n",
    "    image: registry-service.mlrun.svc.cluster.local/vllm-batch:0.0.1\n",
    "    command: [\"/bin/bash\"]\n",
    "    stdin: true\n",
    "    tty: true\n",
    "    resources:\n",
    "      limits:\n",
    "        nvidia.com/gpu: \"1\"\n",
    "    imagePullPolicy: Always\n",
    "  imagePullSecrets:\n",
    "  - name: registry-credentials\n",
    "```\n",
    "Now, run the following commands in your terminal:\n",
    "\n",
    "```bash\n",
    "# Apply the YAML file to create the pod\n",
    "sudo kubectl apply -f vllm-pod.yaml\n",
    "\n",
    "# Attach to the running pod to get your interactive shell\n",
    "sudo kubectl attach -n mlrun -it vllm-shell\n",
    "\n",
    "# test in pod\n",
    "nvidia-smi\n",
    "python3 -c 'import torch; print(torch.__version__); print(torch.version.cuda)'\n",
    "```"
   ]
  },
  {
   "cell_type": "markdown",
   "metadata": {},
   "source": [
    "### Manage Remote Registry\n",
    "\n",
    "https://stackoverflow.com/questions/25436742/how-to-delete-images-from-a-private-docker-registry\n",
    "\n",
    "```bash\n",
    "# list repositories\n",
    "curl -s dragon:30500/v2/_catalog -u mlrun:mlpass | jq\n",
    "```\n",
    "\n",
    "Delete a repository:\n",
    "\n",
    "```bash\n",
    "REPO=\"vllm-batch\"\n",
    "REG=\"dragon:30500\"\n",
    "AUTH=\"mlrun:mlpass\"\n",
    "\n",
    "for tag in $(curl -s -u $AUTH http://$REG/v2/$REPO/tags/list | jq -r '.tags[]'); do\n",
    "  digest=$(curl -sI -H \"Accept: application/vnd.docker.distribution.manifest.v2+json\" \\\n",
    "    -u $AUTH http://$REG/v2/$REPO/manifests/$tag | awk -F': ' '/Docker-Content-Digest/ {print $2}' | tr -d $'\\r')\n",
    "  echo \"Deleting $REPO:$tag -> $digest\"\n",
    "  curl -s -X DELETE -u $AUTH http://$REG/v2/$REPO/manifests/$digest\n",
    "done\n",
    "```\n",
    "\n",
    "\n",
    "Garbage collect the registry:\n",
    "\n",
    "```bash\n",
    "docker run --rm \\\n",
    "  -v /home/johnny/swan/opt/registry:/var/lib/registry \\\n",
    "  registry:3 \\\n",
    "  sh -c 'printf \"%s\\n\" \\\n",
    "\"version: 0.1\" \\\n",
    "\"storage:\" \\\n",
    "\"  delete:\" \\\n",
    "\"    enabled: true\" \\\n",
    "\"  filesystem:\" \\\n",
    "\"    rootdirectory: /var/lib/registry\" \\\n",
    "| tee /tmp/c.yml && registry garbage-collect /tmp/c.yml'\n",
    "\n",
    "\n",
    "\n",
    "docker run --rm \\\n",
    "  -v /home/johnny/swan/opt/registry:/var/lib/registry \\\n",
    "  registry:3 \\\n",
    "  sh -c 'printf \"%s\\n\" \\\n",
    "\"version: 0.1\" \\\n",
    "\"storage:\" \\\n",
    "\"  delete:\" \\\n",
    "\"    enabled: true\" \\\n",
    "\"  filesystem:\" \\\n",
    "\"    rootdirectory: /var/lib/registry\" \\\n",
    "| tee /tmp/c.yml && registry garbage-collect -m /tmp/c.yml'\n",
    "```"
   ]
  },
  {
   "cell_type": "markdown",
   "metadata": {},
   "source": [
    "### 2.1 Dockerfile"
   ]
  },
  {
   "cell_type": "code",
   "execution_count": null,
   "metadata": {},
   "outputs": [],
   "source": [
    "%%writefile Dockerfile\n",
    "\n",
    "FROM dragon:30500/mlrun/mlrun:1.9.1\n",
    "\n",
    "RUN pip install --upgrade pip \\\n",
    " && pip install --no-cache-dir --force-reinstall \\\n",
    "      numpy==1.26.4 \\\n",
    "      pandas==2.1.4 \\\n",
    "      mlrun==1.9.1 \\\n",
    "      vllm==0.10.0 \n",
    "      \n",
    "# RUN pip install --no-cache-dir \\\n",
    "#     torch==2.7.1 \\\n",
    "#     torchvision==2.7.1 \\\n",
    "#     torchaudio==0.22.1 \\\n",
    "#     --index-url https://download.pytorch.org/whl/cu124\n",
    "    \n",
    "# RUN pip install --no-cache-dir \\\n",
    "#     vllm==0.10.0 \n",
    "\n",
    "RUN touch /tmp/.vllm_ready"
   ]
  },
  {
   "cell_type": "markdown",
   "metadata": {},
   "source": [
    "### 2.2 Build the Docker Image"
   ]
  },
  {
   "cell_type": "code",
   "execution_count": null,
   "metadata": {},
   "outputs": [],
   "source": [
    "!docker build -t dragon:30500/vllm-batch:0.0.1 -f Dockerfile ."
   ]
  },
  {
   "cell_type": "code",
   "execution_count": null,
   "metadata": {},
   "outputs": [],
   "source": [
    "#docker run -it --rm --gpus all dragon:30500/vllm-batch:0.0.1 /bin/bash\n",
    "\n",
    "# sudo ctr image pull --plain-http=true --user \"mlrun:mlpass\" dragon:30500/vllm-batch:0.0.1\n",
    "\n",
    "# sudo ctr run --rm --runtime io.containerd.runc.v2 --runc-binary /usr/bin/nvidia-container-runtime \\\n",
    "#  dragon:30500/vllm-batch:0.0.1 test-gpu \\\n",
    "#  bash -c \"nvidia-smi\"\n",
    "\n",
    "\n",
    "# sudo ctr run --rm -t \\\n",
    "#   --runc-binary=/usr/bin/nvidia-container-runtime \\\n",
    "#   --env NVIDIA_VISIBLE_DEVICES=all \\\n",
    "#   dragon:30500/vllm-batch:0.0.1 test-gpu \\\n",
    "#   sh -c \"nvidia-smi\""
   ]
  },
  {
   "cell_type": "markdown",
   "metadata": {},
   "source": [
    "### 2.3 Push the Docker Image"
   ]
  },
  {
   "cell_type": "code",
   "execution_count": null,
   "metadata": {},
   "outputs": [],
   "source": [
    "!docker push dragon:30500/vllm-batch:0.0.1"
   ]
  },
  {
   "cell_type": "markdown",
   "metadata": {},
   "source": [
    "## 3. Batch Function"
   ]
  },
  {
   "cell_type": "code",
   "execution_count": null,
   "metadata": {},
   "outputs": [],
   "source": [
    "def create_llm_function():\n",
    "    global project, MODEL_ID, CACHE_DIR\n",
    "\n",
    "    image = \"registry-service.mlrun.svc.cluster.local/vllm-batch:0.0.1\"\n",
    "\n",
    "    llm_func = project.set_function(\n",
    "        func=\"src/06-02_vllm.py\",\n",
    "        name=\"llm-batch\",\n",
    "        kind=\"job\",\n",
    "        image=image,\n",
    "        handler=\"vllm_batch\",\n",
    "        tag=\"v0.0.1\",\n",
    "    )\n",
    "\n",
    "    llm_func.with_limits(gpus=1, gpu_type='nvidia.com/gpu')\n",
    "\n",
    "    llm_func.set_envs({\n",
    "        \"MODEL_ID\": MODEL_ID,\n",
    "        \"CACHE_DIR\": CACHE_DIR,\n",
    "        \"VLLM_CACHE_ROOT\": CACHE_DIR,\n",
    "    })\n",
    "    \n",
    "    llm_func.save()\n",
    "\n",
    "    return llm_func\n",
    "\n",
    "## create the function\n",
    "llm_func = create_llm_function()"
   ]
  },
  {
   "cell_type": "code",
   "execution_count": null,
   "metadata": {},
   "outputs": [],
   "source": [
    "# build the function\n",
    "project.build_function(function='llm-batch', force_build=True)"
   ]
  },
  {
   "cell_type": "markdown",
   "metadata": {},
   "source": [
    "## 4. Run the function"
   ]
  },
  {
   "cell_type": "code",
   "execution_count": null,
   "metadata": {},
   "outputs": [],
   "source": [
    "event = {\n",
    "    \n",
    "}"
   ]
  },
  {
   "cell_type": "markdown",
   "metadata": {},
   "source": [
    "### 4.1 Initial Test"
   ]
  },
  {
   "cell_type": "code",
   "execution_count": null,
   "metadata": {},
   "outputs": [],
   "source": [
    "# apply code changes\n",
    "llm_func = create_llm_function() \n",
    "\n",
    "# run the function\n",
    "project.run_function(\n",
    "    function='llm-batch',\n",
    "    params={\n",
    "        \"event\": event\n",
    "    },\n",
    "    watch=True\n",
    ")"
   ]
  }
 ],
 "metadata": {
  "kernelspec": {
   "display_name": "local-mlrun",
   "language": "python",
   "name": "python3"
  },
  "language_info": {
   "codemirror_mode": {
    "name": "ipython",
    "version": 3
   },
   "file_extension": ".py",
   "mimetype": "text/x-python",
   "name": "python",
   "nbconvert_exporter": "python",
   "pygments_lexer": "ipython3",
   "version": "3.9.23"
  }
 },
 "nbformat": 4,
 "nbformat_minor": 2
}
