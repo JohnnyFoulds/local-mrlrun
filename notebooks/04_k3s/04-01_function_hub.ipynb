{
 "cells": [
  {
   "cell_type": "markdown",
   "metadata": {},
   "source": [
    "# 04-02 : Function Hub\n",
    "\n",
    "Attempt a function from MLRun Function Hub.\n",
    "\n",
    "> ❗️❗️PLEASE NOTE: The credentials created during the setup are a problem. Rather do the following now to resolve this issue.\n",
    "\n",
    "```bash\n",
    "# log into docker locally\n",
    "docker login -u shambi\n",
    "\n",
    "# delete the existing secret\n",
    "sudo kubectl --namespace mlrun delete secret registry-credentials\n",
    "\n",
    "# create a new secret\n",
    "sudo kubectl --namespace mlrun create secret docker-registry registry-credentials \\\n",
    "    --from-file=/home/johnny/.docker/config.json\n",
    "```\n",
    "\n",
    "\n",
    "## References\n",
    "\n",
    "- https://docs.mlrun.org/en/latest/runtimes/image-build.html"
   ]
  },
  {
   "cell_type": "code",
   "execution_count": 1,
   "metadata": {},
   "outputs": [],
   "source": [
    "import os"
   ]
  },
  {
   "cell_type": "markdown",
   "metadata": {},
   "source": [
    "## 1. Configuration "
   ]
  },
  {
   "cell_type": "code",
   "execution_count": 2,
   "metadata": {},
   "outputs": [
    {
     "name": "stdout",
     "output_type": "stream",
     "text": [
      "MLRUN_DBPATH: http://192.168.1.184:30070\n"
     ]
    }
   ],
   "source": [
    "# set the mlrun api path\n",
    "mlrun_api_ip = !(hostname -I | awk '{print $1}')\n",
    "mlrun_api_ip = mlrun_api_ip[0]\n",
    "mlrun_api_port = 30070\n",
    "\n",
    "os.environ[\"MLRUN_DBPATH\"] = f\"http://{mlrun_api_ip}:{mlrun_api_port}\"\n",
    "print(f\"MLRUN_DBPATH: {os.environ['MLRUN_DBPATH']}\")"
   ]
  },
  {
   "cell_type": "code",
   "execution_count": 3,
   "metadata": {},
   "outputs": [],
   "source": [
    "import mlrun"
   ]
  },
  {
   "cell_type": "markdown",
   "metadata": {},
   "source": [
    "## 2. Create Project"
   ]
  },
  {
   "cell_type": "code",
   "execution_count": 4,
   "metadata": {},
   "outputs": [
    {
     "name": "stdout",
     "output_type": "stream",
     "text": [
      "> 2025-05-23 14:14:50,771 [info] Created and saved project: {\"context\":\"./\",\"from_template\":null,\"name\":\"hello-project\",\"overwrite\":false,\"save\":true}\n",
      "> 2025-05-23 14:14:50,772 [info] Project created successfully: {\"project_name\":\"hello-project\",\"stored_in_db\":true}\n"
     ]
    }
   ],
   "source": [
    "project = mlrun.get_or_create_project(\n",
    "    name='hello-project',\n",
    "    context='./',) "
   ]
  },
  {
   "cell_type": "markdown",
   "metadata": {},
   "source": [
    "## 3. Get Describe function from Hub"
   ]
  },
  {
   "cell_type": "code",
   "execution_count": 5,
   "metadata": {},
   "outputs": [
    {
     "data": {
      "text/plain": [
       "<mlrun.projects.project.MlrunProject at 0x792c385ede80>"
      ]
     },
     "execution_count": 5,
     "metadata": {},
     "output_type": "execute_result"
    }
   ],
   "source": [
    "project.set_function(\"hub://describe\", \"describe\")\n",
    "project.save()"
   ]
  },
  {
   "cell_type": "code",
   "execution_count": 6,
   "metadata": {},
   "outputs": [],
   "source": [
    "my_describe = project.get_function(\"describe\")"
   ]
  },
  {
   "cell_type": "code",
   "execution_count": 7,
   "metadata": {},
   "outputs": [
    {
     "name": "stdout",
     "output_type": "stream",
     "text": [
      "function: describe\n",
      "describe and visualizes dataset stats\n",
      "default handler: analyze\n",
      "entry points:\n",
      "  analyze: The function will output the following artifacts per\n",
      "column within the data frame (based on data types)\n",
      "If the data has more than 500,000 sample we\n",
      "sample randomly 500,000 samples:\n",
      "\n",
      "describe csv\n",
      "histograms\n",
      "scatter-2d\n",
      "violin chart\n",
      "correlation-matrix chart\n",
      "correlation-matrix csv\n",
      "imbalance pie chart\n",
      "imbalance-weights-vec csv\n",
      "    context(MLClientCtx)  - The function context\n",
      "    name(str)  - Key of dataset to database (\"dataset\" for default), default=dataset\n",
      "    table(Union[FeatureSet, DataItem])  - MLRun input pointing to pandas dataframe (csv/parquet file path) or FeatureSet as param, default=None\n",
      "    label_column(str)  - Ground truth column label, default=None\n",
      "    plots_dest(str)  - Destination folder of summary plots (relative to artifact_path) (\"plots\" for default), default=plots\n",
      "    random_state(int)  - When the table has more than 500,000 samples, we sample randomly 500,000 samples, default=1\n",
      "    problem_type(str)  - , default=classification\n",
      "    dask_key(str)  - Key of dataframe in dask client \"datasets\" attribute, default=dask_key\n",
      "    dask_function(str)  - Dask function url (db://..), default=None\n",
      "    dask_client  - Dask client object, default=None\n"
     ]
    }
   ],
   "source": [
    "my_describe.doc()"
   ]
  },
  {
   "cell_type": "markdown",
   "metadata": {},
   "source": [
    "## 4. Run the function"
   ]
  },
  {
   "cell_type": "code",
   "execution_count": 8,
   "metadata": {},
   "outputs": [
    {
     "name": "stdout",
     "output_type": "stream",
     "text": [
      "> 2025-05-23 14:14:51,158 [warning] it is recommended to use k8s secret (specify secret_name), specifying the aws_access_key/aws_secret_key directly is unsafe\n",
      "> 2025-05-23 14:14:51,170 [info] Storing function: {\"db\":\"http://192.168.1.184:30070\",\"name\":\"describe\",\"uid\":\"1111fa009e3d4af19c6ed7408753743b\"}\n",
      "> 2025-05-23 14:14:51,248 [info] Job is running in the background, pod: describe-zt268\n",
      "> 2025-05-23 12:14:56,355 [info] The data set is logged to the project under dataset name\n",
      "> 2025-05-23 12:14:56,413 [info] To track results use the CLI: {\"info_cmd\":\"mlrun get run 1111fa009e3d4af19c6ed7408753743b -p hello-project\",\"logs_cmd\":\"mlrun logs 1111fa009e3d4af19c6ed7408753743b -p hello-project\"}\n",
      "> 2025-05-23 12:14:56,413 [info] Run execution finished: {\"name\":\"describe\",\"status\":\"completed\"}\n"
     ]
    },
    {
     "data": {
      "text/html": [
       "<style>\n",
       ".dictlist {\n",
       "  background-color: #4EC64B;\n",
       "  text-align: center;\n",
       "  margin: 4px;\n",
       "  border-radius: 3px; padding: 0px 3px 1px 3px; display: inline-block;}\n",
       ".artifact {\n",
       "  cursor: pointer;\n",
       "  background-color: #4EC64B;\n",
       "  text-align: left;\n",
       "  margin: 4px; border-radius: 3px; padding: 0px 3px 1px 3px; display: inline-block;\n",
       "}\n",
       "div.block.hidden {\n",
       "  display: none;\n",
       "}\n",
       ".clickable {\n",
       "  cursor: pointer;\n",
       "}\n",
       ".ellipsis {\n",
       "  display: inline-block;\n",
       "  max-width: 60px;\n",
       "  white-space: nowrap;\n",
       "  overflow: hidden;\n",
       "  text-overflow: ellipsis;\n",
       "}\n",
       ".master-wrapper {\n",
       "  display: flex;\n",
       "  flex-flow: row nowrap;\n",
       "  justify-content: flex-start;\n",
       "  align-items: stretch;\n",
       "}\n",
       ".master-tbl {\n",
       "  flex: 3\n",
       "}\n",
       ".master-wrapper > div {\n",
       "  margin: 4px;\n",
       "  padding: 10px;\n",
       "}\n",
       "iframe.fileview {\n",
       "  border: 0 none;\n",
       "  height: 100%;\n",
       "  width: 100%;\n",
       "  white-space: pre-wrap;\n",
       "}\n",
       ".pane-header-title {\n",
       "  width: 80%;\n",
       "  font-weight: 500;\n",
       "}\n",
       ".pane-header {\n",
       "  line-height: 1;\n",
       "  background-color: #4EC64B;\n",
       "  padding: 3px;\n",
       "}\n",
       ".pane-header .close {\n",
       "  font-size: 20px;\n",
       "  font-weight: 700;\n",
       "  float: right;\n",
       "  margin-top: -5px;\n",
       "}\n",
       ".master-wrapper .right-pane {\n",
       "  border: 1px inset silver;\n",
       "  width: 40%;\n",
       "  min-height: 300px;\n",
       "  flex: 3\n",
       "  min-width: 500px;\n",
       "}\n",
       ".master-wrapper * {\n",
       "  box-sizing: border-box;\n",
       "}\n",
       "</style><script>\n",
       "function copyToClipboard(fld) {\n",
       "    if (document.queryCommandSupported && document.queryCommandSupported('copy')) {\n",
       "        var textarea = document.createElement('textarea');\n",
       "        textarea.textContent = fld.innerHTML;\n",
       "        textarea.style.position = 'fixed';\n",
       "        document.body.appendChild(textarea);\n",
       "        textarea.select();\n",
       "\n",
       "        try {\n",
       "            return document.execCommand('copy'); // Security exception may be thrown by some browsers.\n",
       "        } catch (ex) {\n",
       "\n",
       "        } finally {\n",
       "            document.body.removeChild(textarea);\n",
       "        }\n",
       "    }\n",
       "}\n",
       "function expandPanel(el) {\n",
       "  const panelName = \"#\" + el.getAttribute('paneName');\n",
       "\n",
       "  // Get the base URL of the current notebook\n",
       "  var baseUrl = window.location.origin;\n",
       "\n",
       "  // Construct the full URL\n",
       "  var fullUrl = new URL(el.title, baseUrl).href;\n",
       "\n",
       "  document.querySelector(panelName + \"-title\").innerHTML = fullUrl\n",
       "  iframe = document.querySelector(panelName + \"-body\");\n",
       "\n",
       "  const tblcss = `<style> body { font-family: Arial, Helvetica, sans-serif;}\n",
       "    #csv { margin-bottom: 15px; }\n",
       "    #csv table { border-collapse: collapse;}\n",
       "    #csv table td { padding: 4px 8px; border: 1px solid silver;} </style>`;\n",
       "\n",
       "  function csvToHtmlTable(str) {\n",
       "    return '<div id=\"csv\"><table><tr><td>' +  str.replace(/[\\n\\r]+$/g, '').replace(/[\\n\\r]+/g, '</td></tr><tr><td>')\n",
       "      .replace(/,/g, '</td><td>') + '</td></tr></table></div>';\n",
       "  }\n",
       "\n",
       "  function reqListener () {\n",
       "    if (fullUrl.endsWith(\".csv\")) {\n",
       "      iframe.setAttribute(\"srcdoc\", tblcss + csvToHtmlTable(this.responseText));\n",
       "    } else {\n",
       "      iframe.setAttribute(\"srcdoc\", this.responseText);\n",
       "    }\n",
       "    console.log(this.responseText);\n",
       "  }\n",
       "\n",
       "  const oReq = new XMLHttpRequest();\n",
       "  oReq.addEventListener(\"load\", reqListener);\n",
       "  oReq.open(\"GET\", fullUrl);\n",
       "  oReq.send();\n",
       "\n",
       "\n",
       "  //iframe.src = fullUrl;\n",
       "  const resultPane = document.querySelector(panelName + \"-pane\");\n",
       "  if (resultPane.classList.contains(\"hidden\")) {\n",
       "    resultPane.classList.remove(\"hidden\");\n",
       "  }\n",
       "}\n",
       "function closePanel(el) {\n",
       "  const panelName = \"#\" + el.getAttribute('paneName')\n",
       "  const resultPane = document.querySelector(panelName + \"-pane\");\n",
       "  if (!resultPane.classList.contains(\"hidden\")) {\n",
       "    resultPane.classList.add(\"hidden\");\n",
       "  }\n",
       "}\n",
       "\n",
       "</script>\n",
       "<div class=\"master-wrapper\">\n",
       "  <div class=\"block master-tbl\"><div>\n",
       "<style scoped>\n",
       "    .dataframe tbody tr th:only-of-type {\n",
       "        vertical-align: middle;\n",
       "    }\n",
       "\n",
       "    .dataframe tbody tr th {\n",
       "        vertical-align: top;\n",
       "    }\n",
       "\n",
       "    .dataframe thead th {\n",
       "        text-align: right;\n",
       "    }\n",
       "</style>\n",
       "<table border=\"1\" class=\"dataframe\">\n",
       "  <thead>\n",
       "    <tr style=\"text-align: right;\">\n",
       "      <th>project</th>\n",
       "      <th>uid</th>\n",
       "      <th>iter</th>\n",
       "      <th>start</th>\n",
       "      <th>state</th>\n",
       "      <th>kind</th>\n",
       "      <th>name</th>\n",
       "      <th>labels</th>\n",
       "      <th>inputs</th>\n",
       "      <th>parameters</th>\n",
       "      <th>results</th>\n",
       "      <th>artifacts</th>\n",
       "    </tr>\n",
       "  </thead>\n",
       "  <tbody>\n",
       "    <tr>\n",
       "      <td>hello-project</td>\n",
       "      <td><div title=\"1111fa009e3d4af19c6ed7408753743b\">...53743b</div></td>\n",
       "      <td>0</td>\n",
       "      <td>May 23 12:14:52</td>\n",
       "      <td>completed</td>\n",
       "      <td>run</td>\n",
       "      <td>describe</td>\n",
       "      <td><div class=\"dictlist\">kind=job</div><div class=\"dictlist\">owner=johnny</div><div class=\"dictlist\">mlrun/client_version=1.7.2</div><div class=\"dictlist\">mlrun/client_python_version=3.9.22</div><div class=\"dictlist\">host=describe-zt268</div></td>\n",
       "      <td><div title=\"https://s3.wasabisys.com/iguazio/data/iris/iris_dataset.csv\">table</div></td>\n",
       "      <td><div class=\"dictlist\">label_column=label</div></td>\n",
       "      <td></td>\n",
       "      <td><div title=\"s3://mlrun/projects/hello-project/artifacts/describe/0/describe-csv.csv\">describe-csv</div><div title=\"s3://mlrun/projects/hello-project/artifacts/describe/0/hist.html\">hist</div><div title=\"s3://mlrun/projects/hello-project/artifacts/describe/0/histograms.html\">histograms</div><div title=\"s3://mlrun/projects/hello-project/artifacts/describe/0/scatter-2d.html\">scatter-2d</div><div title=\"s3://mlrun/projects/hello-project/artifacts/describe/0/violin.html\">violin</div><div title=\"s3://mlrun/projects/hello-project/artifacts/describe/0/imbalance.html\">imbalance</div><div title=\"s3://mlrun/projects/hello-project/artifacts/describe/0/imbalance-weights-vec.csv\">imbalance-weights-vec</div><div title=\"s3://mlrun/projects/hello-project/artifacts/describe/0/correlation-matrix-csv.csv\">correlation-matrix-csv</div><div title=\"s3://mlrun/projects/hello-project/artifacts/describe/0/correlation.html\">correlation</div><div title=\"s3://mlrun/projects/hello-project/artifacts/describe/0/dataset.parquet\">dataset</div></td>\n",
       "    </tr>\n",
       "  </tbody>\n",
       "</table>\n",
       "</div></div>\n",
       "  <div id=\"resulta97eb7ed-pane\" class=\"right-pane block hidden\">\n",
       "    <div class=\"pane-header\">\n",
       "      <span id=\"resulta97eb7ed-title\" class=\"pane-header-title\">Title</span>\n",
       "      <span onclick=\"closePanel(this)\" paneName=\"resulta97eb7ed\" class=\"close clickable\">&times;</span>\n",
       "    </div>\n",
       "    <iframe class=\"fileview\" id=\"resulta97eb7ed-body\"></iframe>\n",
       "  </div>\n",
       "</div>\n"
      ],
      "text/plain": [
       "<IPython.core.display.HTML object>"
      ]
     },
     "metadata": {},
     "output_type": "display_data"
    },
    {
     "name": "stdout",
     "output_type": "stream",
     "text": [
      "\n"
     ]
    },
    {
     "data": {
      "text/html": [
       "<b> > to track results use the .show() or .logs() methods </b>"
      ],
      "text/plain": [
       "<IPython.core.display.HTML object>"
      ]
     },
     "metadata": {},
     "output_type": "display_data"
    },
    {
     "name": "stdout",
     "output_type": "stream",
     "text": [
      "> 2025-05-23 14:15:02,311 [info] Run execution finished: {\"name\":\"describe\",\"status\":\"completed\"}\n"
     ]
    }
   ],
   "source": [
    "run = my_describe.run(\n",
    "    name=\"describe\",\n",
    "    inputs={\"table\": \"https://s3.wasabisys.com/iguazio/data/iris/iris_dataset.csv\"},\n",
    "    params={\"label_column\": \"label\"},\n",
    ")"
   ]
  },
  {
   "cell_type": "code",
   "execution_count": 9,
   "metadata": {},
   "outputs": [
    {
     "name": "stdout",
     "output_type": "stream",
     "text": [
      "> 2025-05-23 14:15:04,229 [info] Started building image: .shambi/func-hello-project-describe:latest\n"
     ]
    },
    {
     "name": "stderr",
     "output_type": "stream",
     "text": [
      "The `overwrite_build_params` parameter default will change from 'False' to 'True' in 1.8.0.\n"
     ]
    },
    {
     "name": "stdout",
     "output_type": "stream",
     "text": [
      "\u001b[36mINFO\u001b[0m[0001] Retrieving image manifest mlrun/mlrun:1.7.2  \n",
      "\u001b[36mINFO\u001b[0m[0001] Retrieving image mlrun/mlrun:1.7.2 from registry index.docker.io \n",
      "\u001b[36mINFO\u001b[0m[0003] Built cross stage deps: map[]                \n",
      "\u001b[36mINFO\u001b[0m[0003] Retrieving image manifest mlrun/mlrun:1.7.2  \n",
      "\u001b[36mINFO\u001b[0m[0003] Returning cached image manifest              \n",
      "\u001b[36mINFO\u001b[0m[0003] Executing 0 build triggers                   \n",
      "\u001b[36mINFO\u001b[0m[0003] Building stage 'mlrun/mlrun:1.7.2' [idx: '0', base-idx: '-1'] \n",
      "\u001b[36mINFO\u001b[0m[0003] Skipping unpacking as no commands require it. \n",
      "\u001b[36mINFO\u001b[0m[0003] Pushing image to index.docker.io/shambi/func-hello-project-describe:latest \n",
      "\u001b[36mINFO\u001b[0m[0011] Pushed index.docker.io/shambi/func-hello-project-describe@sha256:3ddb8506edd11f080cd41309bfee2e8ad153395b910f60c00e2493addfe8ef49 \n"
     ]
    },
    {
     "data": {
      "text/plain": [
       "BuildStatus(ready=True, outputs={'image': '.shambi/func-hello-project-describe:latest'})"
      ]
     },
     "execution_count": 9,
     "metadata": {},
     "output_type": "execute_result"
    }
   ],
   "source": [
    "result = project.build_function(\n",
    "    \"describe\",\n",
    "    with_mlrun=False,\n",
    "    force_build=True,\n",
    "    skip_deployed=False,\n",
    "    overwrite_build_params=False,\n",
    "    )\n",
    "result"
   ]
  },
  {
   "cell_type": "code",
   "execution_count": 10,
   "metadata": {},
   "outputs": [
    {
     "data": {
      "text/plain": [
       "BuildStatus(ready=True, outputs={'image': '.shambi/func-hello-project-describe:latest'})"
      ]
     },
     "execution_count": 10,
     "metadata": {},
     "output_type": "execute_result"
    }
   ],
   "source": [
    "result"
   ]
  },
  {
   "cell_type": "code",
   "execution_count": 11,
   "metadata": {},
   "outputs": [
    {
     "name": "stdout",
     "output_type": "stream",
     "text": [
      "\u001b[0;31mSignature:\u001b[0m\n",
      "\u001b[0mproject\u001b[0m\u001b[0;34m.\u001b[0m\u001b[0mbuild_image\u001b[0m\u001b[0;34m(\u001b[0m\u001b[0;34m\u001b[0m\n",
      "\u001b[0;34m\u001b[0m    \u001b[0mimage\u001b[0m\u001b[0;34m:\u001b[0m \u001b[0mstr\u001b[0m \u001b[0;34m=\u001b[0m \u001b[0;32mNone\u001b[0m\u001b[0;34m,\u001b[0m\u001b[0;34m\u001b[0m\n",
      "\u001b[0;34m\u001b[0m    \u001b[0mset_as_default\u001b[0m\u001b[0;34m:\u001b[0m \u001b[0mbool\u001b[0m \u001b[0;34m=\u001b[0m \u001b[0;32mTrue\u001b[0m\u001b[0;34m,\u001b[0m\u001b[0;34m\u001b[0m\n",
      "\u001b[0;34m\u001b[0m    \u001b[0mwith_mlrun\u001b[0m\u001b[0;34m:\u001b[0m \u001b[0mbool\u001b[0m \u001b[0;34m=\u001b[0m \u001b[0;32mNone\u001b[0m\u001b[0;34m,\u001b[0m\u001b[0;34m\u001b[0m\n",
      "\u001b[0;34m\u001b[0m    \u001b[0mbase_image\u001b[0m\u001b[0;34m:\u001b[0m \u001b[0mstr\u001b[0m \u001b[0;34m=\u001b[0m \u001b[0;32mNone\u001b[0m\u001b[0;34m,\u001b[0m\u001b[0;34m\u001b[0m\n",
      "\u001b[0;34m\u001b[0m    \u001b[0mcommands\u001b[0m\u001b[0;34m:\u001b[0m \u001b[0mlist\u001b[0m \u001b[0;34m=\u001b[0m \u001b[0;32mNone\u001b[0m\u001b[0;34m,\u001b[0m\u001b[0;34m\u001b[0m\n",
      "\u001b[0;34m\u001b[0m    \u001b[0msecret_name\u001b[0m\u001b[0;34m:\u001b[0m \u001b[0mstr\u001b[0m \u001b[0;34m=\u001b[0m \u001b[0;32mNone\u001b[0m\u001b[0;34m,\u001b[0m\u001b[0;34m\u001b[0m\n",
      "\u001b[0;34m\u001b[0m    \u001b[0mrequirements\u001b[0m\u001b[0;34m:\u001b[0m \u001b[0mUnion\u001b[0m\u001b[0;34m[\u001b[0m\u001b[0mstr\u001b[0m\u001b[0;34m,\u001b[0m \u001b[0mlist\u001b[0m\u001b[0;34m[\u001b[0m\u001b[0mstr\u001b[0m\u001b[0;34m]\u001b[0m\u001b[0;34m]\u001b[0m \u001b[0;34m=\u001b[0m \u001b[0;32mNone\u001b[0m\u001b[0;34m,\u001b[0m\u001b[0;34m\u001b[0m\n",
      "\u001b[0;34m\u001b[0m    \u001b[0mmlrun_version_specifier\u001b[0m\u001b[0;34m:\u001b[0m \u001b[0mstr\u001b[0m \u001b[0;34m=\u001b[0m \u001b[0;32mNone\u001b[0m\u001b[0;34m,\u001b[0m\u001b[0;34m\u001b[0m\n",
      "\u001b[0;34m\u001b[0m    \u001b[0mbuilder_env\u001b[0m\u001b[0;34m:\u001b[0m \u001b[0mdict\u001b[0m \u001b[0;34m=\u001b[0m \u001b[0;32mNone\u001b[0m\u001b[0;34m,\u001b[0m\u001b[0;34m\u001b[0m\n",
      "\u001b[0;34m\u001b[0m    \u001b[0moverwrite_build_params\u001b[0m\u001b[0;34m:\u001b[0m \u001b[0mbool\u001b[0m \u001b[0;34m=\u001b[0m \u001b[0;32mFalse\u001b[0m\u001b[0;34m,\u001b[0m\u001b[0;34m\u001b[0m\n",
      "\u001b[0;34m\u001b[0m    \u001b[0mrequirements_file\u001b[0m\u001b[0;34m:\u001b[0m \u001b[0mstr\u001b[0m \u001b[0;34m=\u001b[0m \u001b[0;32mNone\u001b[0m\u001b[0;34m,\u001b[0m\u001b[0;34m\u001b[0m\n",
      "\u001b[0;34m\u001b[0m    \u001b[0mextra_args\u001b[0m\u001b[0;34m:\u001b[0m \u001b[0mstr\u001b[0m \u001b[0;34m=\u001b[0m \u001b[0;32mNone\u001b[0m\u001b[0;34m,\u001b[0m\u001b[0;34m\u001b[0m\n",
      "\u001b[0;34m\u001b[0m    \u001b[0mtarget_dir\u001b[0m\u001b[0;34m:\u001b[0m \u001b[0mstr\u001b[0m \u001b[0;34m=\u001b[0m \u001b[0;32mNone\u001b[0m\u001b[0;34m,\u001b[0m\u001b[0;34m\u001b[0m\n",
      "\u001b[0;34m\u001b[0m\u001b[0;34m)\u001b[0m \u001b[0;34m->\u001b[0m \u001b[0mUnion\u001b[0m\u001b[0;34m[\u001b[0m\u001b[0mmlrun\u001b[0m\u001b[0;34m.\u001b[0m\u001b[0mprojects\u001b[0m\u001b[0;34m.\u001b[0m\u001b[0moperations\u001b[0m\u001b[0;34m.\u001b[0m\u001b[0mBuildStatus\u001b[0m\u001b[0;34m,\u001b[0m \u001b[0mkfp\u001b[0m\u001b[0;34m.\u001b[0m\u001b[0mdsl\u001b[0m\u001b[0;34m.\u001b[0m\u001b[0m_container_op\u001b[0m\u001b[0;34m.\u001b[0m\u001b[0mContainerOp\u001b[0m\u001b[0;34m]\u001b[0m\u001b[0;34m\u001b[0m\u001b[0;34m\u001b[0m\u001b[0m\n",
      "\u001b[0;31mDocstring:\u001b[0m\n",
      "Builder docker image for the project, based on the project's build config. Parameters allow to override\n",
      "the build config.\n",
      "If the project has a source configured and pull_at_runtime is not configured, this source will be cloned to the\n",
      "image built. The `target_dir` parameter allows specifying the target path where the code will be extracted.\n",
      "\n",
      ":param image: target image name/path. If not specified the project's existing `default_image` name will be\n",
      "                used. If not set, the `mlconf.default_project_image_name` value will be used\n",
      ":param set_as_default: set `image` to be the project's default image (default False)\n",
      ":param with_mlrun:      add the current mlrun package to the container build\n",
      ":param base_image:      base image name/path (commands and source code will be added to it) defaults to\n",
      "                        mlrun.mlconf.default_base_image\n",
      ":param commands:        list of docker build (RUN) commands e.g. ['pip install pandas']\n",
      ":param secret_name:     k8s secret for accessing the docker registry\n",
      ":param requirements:    list of python packages, defaults to None\n",
      ":param requirements_file:  pip requirements file path, defaults to None\n",
      ":param mlrun_version_specifier:  which mlrun package version to include (if not current)\n",
      ":param builder_env:     Kaniko builder pod env vars dict (for config/credentials)\n",
      "    e.g. builder_env={\"GIT_TOKEN\": token}, does not work yet in KFP\n",
      ":param overwrite_build_params:  Overwrite existing build configuration (currently applies to\n",
      "    requirements and commands)\n",
      "    * False: The new params are merged with the existing\n",
      "    * True: The existing params are replaced by the new ones\n",
      ":param extra_args:  A string containing additional builder arguments in the format of command-line options,\n",
      "    e.g. extra_args=\"--skip-tls-verify --build-arg A=val\"\n",
      ":param target_dir: Path on the image where source code would be extracted (by default `/home/mlrun_code`)\n",
      "\u001b[0;31mFile:\u001b[0m      ~/swan/miniconda3/envs/local-mlrun/lib/python3.9/site-packages/mlrun/projects/project.py\n",
      "\u001b[0;31mType:\u001b[0m      method"
     ]
    }
   ],
   "source": [
    "?project.build_image"
   ]
  },
  {
   "cell_type": "code",
   "execution_count": 12,
   "metadata": {},
   "outputs": [
    {
     "data": {
      "text/plain": [
       "<mlrun.projects.project.MlrunProject at 0x792c385ede80>"
      ]
     },
     "execution_count": 12,
     "metadata": {},
     "output_type": "execute_result"
    }
   ],
   "source": [
    "project"
   ]
  },
  {
   "cell_type": "code",
   "execution_count": 13,
   "metadata": {},
   "outputs": [
    {
     "name": "stdout",
     "output_type": "stream",
     "text": [
      "> 2025-05-23 14:26:34,071 [info] Base image not specified, using default base image: {\"base_image\":\"mlrun/mlrun\"}\n",
      "> 2025-05-23 14:26:34,073 [warning] it is recommended to use k8s secret (specify secret_name), specifying the aws_access_key/aws_secret_key directly is unsafe\n",
      "> 2025-05-23 14:26:34,075 [info] Running build to add mlrun package, set with_mlrun=False to skip if its already in the image\n",
      "> 2025-05-23 14:26:34,138 [info] Started building image: .mlrun-project-image-hello-project\n"
     ]
    },
    {
     "name": "stderr",
     "output_type": "stream",
     "text": [
      "The `overwrite_build_params` parameter default will change from 'False' to 'True' in 1.8.0.\n"
     ]
    },
    {
     "name": "stdout",
     "output_type": "stream",
     "text": [
      "\u001b[36mINFO\u001b[0m[0001] Retrieving image manifest mlrun/mlrun:1.7.2  \n",
      "\u001b[36mINFO\u001b[0m[0001] Retrieving image mlrun/mlrun:1.7.2 from registry index.docker.io \n",
      "\u001b[36mINFO\u001b[0m[0003] Built cross stage deps: map[]                \n",
      "\u001b[36mINFO\u001b[0m[0003] Retrieving image manifest mlrun/mlrun:1.7.2  \n",
      "\u001b[36mINFO\u001b[0m[0003] Returning cached image manifest              \n",
      "\u001b[36mINFO\u001b[0m[0003] Executing 0 build triggers                   \n",
      "\u001b[36mINFO\u001b[0m[0003] Building stage 'mlrun/mlrun:1.7.2' [idx: '0', base-idx: '-1'] \n",
      "\u001b[36mINFO\u001b[0m[0003] Skipping unpacking as no commands require it. \n",
      "\u001b[36mINFO\u001b[0m[0003] Pushing image to index.docker.io/shambi/mlrun-project-image-hello-project \n",
      "\u001b[36mINFO\u001b[0m[0012] Pushed index.docker.io/shambi/mlrun-project-image-hello-project@sha256:fe5d843f9d179179b7f195466131438ece6bfe5dbedab42b70c5bd9a55826fb9 \n",
      "> 2025-05-23 14:26:54,454 [info] Function is being deleted: {\"function_name\":\"mlrun--project--image--builder\",\"project_name\":\"hello-project\"}\n",
      "> 2025-05-23 14:26:57,473 [info] Function deleted: {\"function_name\":\"mlrun--project--image--builder\",\"project_name\":\"hello-project\"}\n"
     ]
    },
    {
     "data": {
      "text/plain": [
       "BuildStatus(ready=True, outputs={'image': '.mlrun-project-image-hello-project'})"
      ]
     },
     "execution_count": 13,
     "metadata": {},
     "output_type": "execute_result"
    }
   ],
   "source": [
    "project.build_image(\n",
    "    target_dir='./',\n",
    "    with_mlrun=True)"
   ]
  }
 ],
 "metadata": {
  "kernelspec": {
   "display_name": "local-mlrun",
   "language": "python",
   "name": "python3"
  },
  "language_info": {
   "codemirror_mode": {
    "name": "ipython",
    "version": 3
   },
   "file_extension": ".py",
   "mimetype": "text/x-python",
   "name": "python",
   "nbconvert_exporter": "python",
   "pygments_lexer": "ipython3",
   "version": "3.11.12"
  }
 },
 "nbformat": 4,
 "nbformat_minor": 2
}
