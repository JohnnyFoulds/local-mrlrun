{
 "cells": [
  {
   "cell_type": "markdown",
   "id": "0fd95081",
   "metadata": {},
   "source": [
    "# 07-02 : Trino To Dataset\n",
    "\n",
    "Test Trino and MLRun integration."
   ]
  },
  {
   "cell_type": "code",
   "execution_count": 1,
   "id": "6c69d365",
   "metadata": {},
   "outputs": [],
   "source": [
    "import mlrun"
   ]
  },
  {
   "cell_type": "markdown",
   "id": "e78b54ca",
   "metadata": {},
   "source": [
    "## 1. Configuration"
   ]
  },
  {
   "cell_type": "code",
   "execution_count": 2,
   "id": "698e000f",
   "metadata": {},
   "outputs": [],
   "source": [
    "project_name = \"trino-demo\"\n",
    "function_path = \"../../functions/development\"\n",
    "\n",
    "query_file = \"queries/ingest.sql\"\n",
    "schema = \"lakehouse\"\n",
    "catalog = \"iceberg\"\n",
    "\n",
    "mlrun_image = \"registry-service.mlrun.svc.cluster.local/mlrun/mlrun:1.9.1\""
   ]
  },
  {
   "cell_type": "markdown",
   "id": "3e52df6a",
   "metadata": {},
   "source": [
    "## 2. Setup Project"
   ]
  },
  {
   "cell_type": "markdown",
   "id": "99325548",
   "metadata": {},
   "source": [
    "### 2.1 Load The Project"
   ]
  },
  {
   "cell_type": "code",
   "execution_count": 3,
   "id": "d0e4d42c",
   "metadata": {},
   "outputs": [
    {
     "name": "stdout",
     "output_type": "stream",
     "text": [
      "> 2025-08-22 00:22:48,413 [info] Project loaded successfully: {\"project_name\":\"trino-demo\"}\n",
      "Full project name: trino-demo\n"
     ]
    }
   ],
   "source": [
    "project = mlrun.get_or_create_project(\n",
    "    name=project_name,\n",
    "    user_project=False)\n",
    "\n",
    "# Display the current project name\n",
    "project_name = project.metadata.name\n",
    "print(f'Full project name: {project_name}')"
   ]
  },
  {
   "cell_type": "markdown",
   "id": "daad1bdc",
   "metadata": {},
   "source": [
    "### 2.2 Project Secrets"
   ]
  },
  {
   "cell_type": "code",
   "execution_count": 4,
   "id": "72ba7eac",
   "metadata": {},
   "outputs": [],
   "source": [
    "project.set_secrets({\n",
    "    \"TRINO_HOST\": \"dragon.lan\",\n",
    "    \"TRINO_PORT\": \"9191\",\n",
    "    \"TRINO_USER\": \"johnny\",\n",
    "})"
   ]
  },
  {
   "cell_type": "markdown",
   "id": "02f7f8d0",
   "metadata": {},
   "source": [
    "### 2.3 Prepare Project "
   ]
  },
  {
   "cell_type": "code",
   "execution_count": 5,
   "id": "da0c91f3",
   "metadata": {},
   "outputs": [],
   "source": [
    "# read the query file\n",
    "with open(query_file, \"r\") as f:\n",
    "    query = f.read()\n",
    "\n",
    "# add the query as an artifact\n",
    "query_artifact = project.log_artifact(\n",
    "    item=\"ingest-query\",\n",
    "    local_path=query_file,\n",
    "    format=\"sql\")"
   ]
  },
  {
   "cell_type": "markdown",
   "id": "9ed2e7a6",
   "metadata": {},
   "source": [
    "## 3. Generate Query"
   ]
  },
  {
   "cell_type": "code",
   "execution_count": 6,
   "id": "4e966de3",
   "metadata": {},
   "outputs": [],
   "source": [
    "# load the function\n",
    "generate_query = mlrun.code_to_function(\n",
    "    name=\"generate_query\",\n",
    "    filename=f\"{function_path}/sql/generate_query/generate_query.py\",\n",
    "    kind=\"job\",\n",
    "    image=mlrun_image,\n",
    "    handler=\"generate_query\",\n",
    "    requirements_file=f\"{function_path}/sql/generate_query/requirements.txt\")"
   ]
  },
  {
   "cell_type": "code",
   "execution_count": 7,
   "id": "7b9931ec",
   "metadata": {},
   "outputs": [
    {
     "name": "stdout",
     "output_type": "stream",
     "text": [
      "> 2025-08-22 00:22:48,601 [warning] It is recommended to use k8s secret (specify secret_name), specifying aws_access_key/aws_secret_key directly is unsafe.\n",
      "> 2025-08-22 00:22:48,610 [info] Storing function: {\"db\":\"http://dragon.local:30070\",\"name\":\"generate-query-generate-query\",\"uid\":\"f911f59333794ab4b7d1fc294c1e6e46\"}\n",
      "> 2025-08-22 00:22:48,697 [info] Job is running in the background, pod: generate-query-generate-query-5s585\n",
      "> 2025-08-21 22:22:50,597 [info] downloading s3://mlrun/projects/trino-demo/artifacts/ingest-query.sql to local temp file\n",
      "> 2025-08-21 22:22:50,601 [info] Loading SQL template from artifact\n",
      "> 2025-08-21 22:22:50,601 [info] Performing replacements in the SQL template\n",
      "> 2025-08-21 22:22:50,631 [info] To track results use the CLI: {\"info_cmd\":\"mlrun get run f911f59333794ab4b7d1fc294c1e6e46 -p trino-demo\",\"logs_cmd\":\"mlrun logs f911f59333794ab4b7d1fc294c1e6e46 -p trino-demo\"}\n",
      "> 2025-08-21 22:22:50,631 [info] Run execution finished: {\"name\":\"generate-query-generate-query\",\"status\":\"completed\"}\n"
     ]
    },
    {
     "data": {
      "text/html": [
       "<style>\n",
       ".dictlist {\n",
       "  background-color: #4EC64B;\n",
       "  text-align: center;\n",
       "  margin: 4px;\n",
       "  border-radius: 3px; padding: 0px 3px 1px 3px; display: inline-block;}\n",
       ".artifact {\n",
       "  cursor: pointer;\n",
       "  background-color: #4EC64B;\n",
       "  text-align: left;\n",
       "  margin: 4px; border-radius: 3px; padding: 0px 3px 1px 3px; display: inline-block;\n",
       "}\n",
       "div.block.hidden {\n",
       "  display: none;\n",
       "}\n",
       ".clickable {\n",
       "  cursor: pointer;\n",
       "}\n",
       ".ellipsis {\n",
       "  display: inline-block;\n",
       "  max-width: 60px;\n",
       "  white-space: nowrap;\n",
       "  overflow: hidden;\n",
       "  text-overflow: ellipsis;\n",
       "}\n",
       ".master-wrapper {\n",
       "  display: flex;\n",
       "  flex-flow: row nowrap;\n",
       "  justify-content: flex-start;\n",
       "  align-items: stretch;\n",
       "}\n",
       ".master-tbl {\n",
       "  flex: 3\n",
       "}\n",
       ".master-wrapper > div {\n",
       "  margin: 4px;\n",
       "  padding: 10px;\n",
       "}\n",
       "iframe.fileview {\n",
       "  border: 0 none;\n",
       "  height: 100%;\n",
       "  width: 100%;\n",
       "  white-space: pre-wrap;\n",
       "}\n",
       ".pane-header-title {\n",
       "  width: 80%;\n",
       "  font-weight: 500;\n",
       "}\n",
       ".pane-header {\n",
       "  line-height: 1;\n",
       "  background-color: #4EC64B;\n",
       "  padding: 3px;\n",
       "}\n",
       ".pane-header .close {\n",
       "  font-size: 20px;\n",
       "  font-weight: 700;\n",
       "  float: right;\n",
       "  margin-top: -5px;\n",
       "}\n",
       ".master-wrapper .right-pane {\n",
       "  border: 1px inset silver;\n",
       "  width: 40%;\n",
       "  min-height: 300px;\n",
       "  flex: 3\n",
       "  min-width: 500px;\n",
       "}\n",
       ".master-wrapper * {\n",
       "  box-sizing: border-box;\n",
       "}\n",
       "</style><script>\n",
       "function copyToClipboard(fld) {\n",
       "    if (document.queryCommandSupported && document.queryCommandSupported('copy')) {\n",
       "        var textarea = document.createElement('textarea');\n",
       "        textarea.textContent = fld.innerHTML;\n",
       "        textarea.style.position = 'fixed';\n",
       "        document.body.appendChild(textarea);\n",
       "        textarea.select();\n",
       "\n",
       "        try {\n",
       "            return document.execCommand('copy'); // Security exception may be thrown by some browsers.\n",
       "        } catch (ex) {\n",
       "\n",
       "        } finally {\n",
       "            document.body.removeChild(textarea);\n",
       "        }\n",
       "    }\n",
       "}\n",
       "function expandPanel(el) {\n",
       "  const panelName = \"#\" + el.getAttribute('paneName');\n",
       "\n",
       "  // Get the base URL of the current notebook\n",
       "  var baseUrl = window.location.origin;\n",
       "\n",
       "  // Construct the full URL\n",
       "  var fullUrl = new URL(el.title, baseUrl).href;\n",
       "\n",
       "  document.querySelector(panelName + \"-title\").innerHTML = fullUrl\n",
       "  iframe = document.querySelector(panelName + \"-body\");\n",
       "\n",
       "  const tblcss = `<style> body { font-family: Arial, Helvetica, sans-serif;}\n",
       "    #csv { margin-bottom: 15px; }\n",
       "    #csv table { border-collapse: collapse;}\n",
       "    #csv table td { padding: 4px 8px; border: 1px solid silver;} </style>`;\n",
       "\n",
       "  function csvToHtmlTable(str) {\n",
       "    return '<div id=\"csv\"><table><tr><td>' +  str.replace(/[\\n\\r]+$/g, '').replace(/[\\n\\r]+/g, '</td></tr><tr><td>')\n",
       "      .replace(/,/g, '</td><td>') + '</td></tr></table></div>';\n",
       "  }\n",
       "\n",
       "  function reqListener () {\n",
       "    if (fullUrl.endsWith(\".csv\")) {\n",
       "      iframe.setAttribute(\"srcdoc\", tblcss + csvToHtmlTable(this.responseText));\n",
       "    } else {\n",
       "      iframe.setAttribute(\"srcdoc\", this.responseText);\n",
       "    }\n",
       "    console.log(this.responseText);\n",
       "  }\n",
       "\n",
       "  const oReq = new XMLHttpRequest();\n",
       "  oReq.addEventListener(\"load\", reqListener);\n",
       "  oReq.open(\"GET\", fullUrl);\n",
       "  oReq.send();\n",
       "\n",
       "\n",
       "  //iframe.src = fullUrl;\n",
       "  const resultPane = document.querySelector(panelName + \"-pane\");\n",
       "  if (resultPane.classList.contains(\"hidden\")) {\n",
       "    resultPane.classList.remove(\"hidden\");\n",
       "  }\n",
       "}\n",
       "function closePanel(el) {\n",
       "  const panelName = \"#\" + el.getAttribute('paneName')\n",
       "  const resultPane = document.querySelector(panelName + \"-pane\");\n",
       "  if (!resultPane.classList.contains(\"hidden\")) {\n",
       "    resultPane.classList.add(\"hidden\");\n",
       "  }\n",
       "}\n",
       "\n",
       "</script>\n",
       "<div class=\"master-wrapper\">\n",
       "  <div class=\"block master-tbl\"><div>\n",
       "<style scoped>\n",
       "    .dataframe tbody tr th:only-of-type {\n",
       "        vertical-align: middle;\n",
       "    }\n",
       "\n",
       "    .dataframe tbody tr th {\n",
       "        vertical-align: top;\n",
       "    }\n",
       "\n",
       "    .dataframe thead th {\n",
       "        text-align: right;\n",
       "    }\n",
       "</style>\n",
       "<table border=\"1\" class=\"dataframe\">\n",
       "  <thead>\n",
       "    <tr style=\"text-align: right;\">\n",
       "      <th>project</th>\n",
       "      <th>uid</th>\n",
       "      <th>iter</th>\n",
       "      <th>start</th>\n",
       "      <th>end</th>\n",
       "      <th>state</th>\n",
       "      <th>kind</th>\n",
       "      <th>name</th>\n",
       "      <th>labels</th>\n",
       "      <th>inputs</th>\n",
       "      <th>parameters</th>\n",
       "      <th>results</th>\n",
       "    </tr>\n",
       "  </thead>\n",
       "  <tbody>\n",
       "    <tr>\n",
       "      <td>trino-demo</td>\n",
       "      <td><div title=\"f911f59333794ab4b7d1fc294c1e6e46\">...1e6e46</div></td>\n",
       "      <td>0</td>\n",
       "      <td>Aug 21 22:22:50</td>\n",
       "      <td>2025-08-21 22:22:50.625020+00:00</td>\n",
       "      <td>completed</td>\n",
       "      <td>run</td>\n",
       "      <td>generate-query-generate-query</td>\n",
       "      <td><div class=\"dictlist\">v3io_user=johannes</div><div class=\"dictlist\">kind=job</div><div class=\"dictlist\">owner=johannes</div><div class=\"dictlist\">mlrun/client_version=1.9.1</div><div class=\"dictlist\">mlrun/client_python_version=3.10.18</div><div class=\"dictlist\">host=generate-query-generate-query-5s585</div></td>\n",
       "      <td><div title=\"store://artifacts/trino-demo/ingest-query#0@59c21d24-9f8a-401a-ba04-d1ba89317351^9ef9c08c15ae6eb5dd4ebf31277251031e8b1871\">input_file</div></td>\n",
       "      <td><div class=\"dictlist\">replacements={'catalog': 'iceberg', 'schema': 'lakehouse', 'source_table': 'taxi_trips', 'filter_column': 'trip_start_timestamp', 'filter_start_value': '2023-06-01', 'target_column': 'total_fare'}</div></td>\n",
       "      <td><div class=\"dictlist\">sql=WITH filtered_data AS (\\n    SELECT\\n        *\\n    FROM\\n        \"iceberg\".\"lakehouse\".\"taxi_trips\"\\n    WHERE\\n        -- Trino uses CAST(... AS DATE) and the standard subtraction operator for intervals\\n        CAST(trip_start_timestamp AS DATE) BETWEEN\\n            (CAST('2023-06-01' AS DATE) - INTERVAL '3' MONTH) AND\\n            (CAST('2023-06-01' AS DATE) - INTERVAL '2' MONTH)\\n)\\n\\n, mean_time AS (\\n    SELECT\\n        -- Trino's equivalent of INT64 is BIGINT\\n        CAST(AVG(trip_seconds) AS BIGINT) AS avg_trip_seconds\\n    FROM\\n        filtered_data\\n)\\n\\nSELECT\\n    -- Function names for date/time extraction are slightly different\\n    CAST(day_of_week(trip_start_timestamp) AS DOUBLE) AS dayofweek, -- Note: Sunday=7 in Trino\\n    CAST(hour(trip_start_timestamp) AS DOUBLE) AS hourofday,\\n    \\n    -- Geospatial functions use a different syntax\\n    ST_Distance(\\n        to_spherical_geography(ST_Point(pickup_longitude, pickup_latitude)),\\n        to_spherical_geography(ST_Point(dropoff_longitude, dropoff_latitude))\\n    ) AS trip_distance,\\n    \\n    trip_miles,\\n    \\n    -- Trino's equivalent of FLOAT64 is DOUBLE\\n    CAST(\\n        CASE\\n            WHEN trip_seconds IS NULL THEN m.avg_trip_seconds\\n            WHEN trip_seconds <= 0 THEN m.avg_trip_seconds\\n            ELSE trip_seconds\\n        END AS DOUBLE\\n    ) AS trip_seconds,\\n    \\n    payment_type,\\n    company,\\n    \\n    -- Use double quotes for identifiers if needed, not backticks\\n    (fare + tips + tolls + extras) AS \"total_fare\"\\nFROM\\n    filtered_data AS t\\n-- Explicit CROSS JOIN is clearer than a comma\\nCROSS JOIN mean_time AS m\\nWHERE\\n    trip_miles > 0 AND fare > 0 AND fare < 1500\\n    -- The Jinja templating part does not need to change at all\\n    \\n        AND \"fare\" IS NOT NULL\\n    \\n        AND \"trip_start_timestamp\" IS NOT NULL\\n    \\n        AND \"pickup_longitude\" IS NOT NULL\\n    \\n        AND \"pickup_latitude\" IS NOT NULL\\n    \\n        AND \"dropoff_longitude\" IS NOT NULL\\n    \\n        AND \"dropoff_latitude\" IS NOT NULL\\n    \\n        AND \"payment_type\" IS NOT NULL\\n    \\n        AND \"company\" IS NOT NULL\\n    </div></td>\n",
       "    </tr>\n",
       "  </tbody>\n",
       "</table>\n",
       "</div></div>\n",
       "  <div id=\"result2c143b77-pane\" class=\"right-pane block hidden\">\n",
       "    <div class=\"pane-header\">\n",
       "      <span id=\"result2c143b77-title\" class=\"pane-header-title\">Title</span>\n",
       "      <span onclick=\"closePanel(this)\" paneName=\"result2c143b77\" class=\"close clickable\">&times;</span>\n",
       "    </div>\n",
       "    <iframe class=\"fileview\" id=\"result2c143b77-body\"></iframe>\n",
       "  </div>\n",
       "</div>\n"
      ],
      "text/plain": [
       "<IPython.core.display.HTML object>"
      ]
     },
     "metadata": {},
     "output_type": "display_data"
    },
    {
     "name": "stdout",
     "output_type": "stream",
     "text": [
      "\n"
     ]
    },
    {
     "data": {
      "text/html": [
       "<b> > to track results use the .show() or .logs() methods </b>"
      ],
      "text/plain": [
       "<IPython.core.display.HTML object>"
      ]
     },
     "metadata": {},
     "output_type": "display_data"
    },
    {
     "name": "stdout",
     "output_type": "stream",
     "text": [
      "> 2025-08-22 00:23:00,747 [info] Run execution finished: {\"name\":\"generate-query-generate-query\",\"status\":\"completed\"}\n"
     ]
    }
   ],
   "source": [
    "# generate the query\n",
    "ingest_query = generate_query.run(\n",
    "    inputs= {\n",
    "        \"input_file\": query_artifact.uri\n",
    "    },\n",
    "    params={\n",
    "        \"replacements\": {\n",
    "            \"catalog\": catalog,\n",
    "            \"schema\": schema,\n",
    "            \"source_table\": \"taxi_trips\",\n",
    "            \"filter_column\": \"trip_start_timestamp\",\n",
    "            \"filter_start_value\": \"2023-06-01\",\n",
    "            \"target_column\": \"total_fare\" \n",
    "        }\n",
    "    },\n",
    "    local=False,\n",
    "    auto_build=True\n",
    ").outputs[\"sql\"]"
   ]
  },
  {
   "cell_type": "markdown",
   "id": "33c0b3ac",
   "metadata": {},
   "source": [
    "## 4. Ingest Data"
   ]
  },
  {
   "cell_type": "code",
   "execution_count": 8,
   "id": "0b87e0c3",
   "metadata": {},
   "outputs": [],
   "source": [
    "# load the function\n",
    "query_to_dataset = mlrun.code_to_function(\n",
    "    name=\"query_to_dataset\",\n",
    "    filename=f\"{function_path}/trino/query_to_dataset/query_to_dataset.py\",\n",
    "    kind=\"job\",\n",
    "    image=mlrun_image,\n",
    "    handler=\"query_to_dataset\",\n",
    "    requirements_file=f\"{function_path}/trino/query_to_dataset/requirements.txt\"\n",
    ")"
   ]
  },
  {
   "cell_type": "code",
   "execution_count": 9,
   "id": "86f1a595",
   "metadata": {},
   "outputs": [
    {
     "name": "stdout",
     "output_type": "stream",
     "text": [
      "> 2025-08-22 00:23:00,776 [warning] It is recommended to use k8s secret (specify secret_name), specifying aws_access_key/aws_secret_key directly is unsafe.\n",
      "> 2025-08-22 00:23:00,791 [info] Storing function: {\"db\":\"http://dragon.local:30070\",\"name\":\"ingest\",\"uid\":\"74a0e8e769be4ec7a2552ceb6e59f696\"}\n",
      "> 2025-08-22 00:23:00,876 [info] Job is running in the background, pod: ingest-lglbs\n",
      "> 2025-08-21 22:23:02,609 [info] Connecting to Trino\n",
      "> 2025-08-21 22:23:02,610 [info] Executing SQL query\n",
      "> 2025-08-21 22:23:06,279 [info] Logging dataset\n",
      "> 2025-08-21 22:23:06,861 [info] To track results use the CLI: {\"info_cmd\":\"mlrun get run 74a0e8e769be4ec7a2552ceb6e59f696 -p trino-demo\",\"logs_cmd\":\"mlrun logs 74a0e8e769be4ec7a2552ceb6e59f696 -p trino-demo\"}\n",
      "> 2025-08-21 22:23:06,861 [info] Run execution finished: {\"name\":\"ingest\",\"status\":\"completed\"}\n"
     ]
    },
    {
     "data": {
      "text/html": [
       "<style>\n",
       ".dictlist {\n",
       "  background-color: #4EC64B;\n",
       "  text-align: center;\n",
       "  margin: 4px;\n",
       "  border-radius: 3px; padding: 0px 3px 1px 3px; display: inline-block;}\n",
       ".artifact {\n",
       "  cursor: pointer;\n",
       "  background-color: #4EC64B;\n",
       "  text-align: left;\n",
       "  margin: 4px; border-radius: 3px; padding: 0px 3px 1px 3px; display: inline-block;\n",
       "}\n",
       "div.block.hidden {\n",
       "  display: none;\n",
       "}\n",
       ".clickable {\n",
       "  cursor: pointer;\n",
       "}\n",
       ".ellipsis {\n",
       "  display: inline-block;\n",
       "  max-width: 60px;\n",
       "  white-space: nowrap;\n",
       "  overflow: hidden;\n",
       "  text-overflow: ellipsis;\n",
       "}\n",
       ".master-wrapper {\n",
       "  display: flex;\n",
       "  flex-flow: row nowrap;\n",
       "  justify-content: flex-start;\n",
       "  align-items: stretch;\n",
       "}\n",
       ".master-tbl {\n",
       "  flex: 3\n",
       "}\n",
       ".master-wrapper > div {\n",
       "  margin: 4px;\n",
       "  padding: 10px;\n",
       "}\n",
       "iframe.fileview {\n",
       "  border: 0 none;\n",
       "  height: 100%;\n",
       "  width: 100%;\n",
       "  white-space: pre-wrap;\n",
       "}\n",
       ".pane-header-title {\n",
       "  width: 80%;\n",
       "  font-weight: 500;\n",
       "}\n",
       ".pane-header {\n",
       "  line-height: 1;\n",
       "  background-color: #4EC64B;\n",
       "  padding: 3px;\n",
       "}\n",
       ".pane-header .close {\n",
       "  font-size: 20px;\n",
       "  font-weight: 700;\n",
       "  float: right;\n",
       "  margin-top: -5px;\n",
       "}\n",
       ".master-wrapper .right-pane {\n",
       "  border: 1px inset silver;\n",
       "  width: 40%;\n",
       "  min-height: 300px;\n",
       "  flex: 3\n",
       "  min-width: 500px;\n",
       "}\n",
       ".master-wrapper * {\n",
       "  box-sizing: border-box;\n",
       "}\n",
       "</style><script>\n",
       "function copyToClipboard(fld) {\n",
       "    if (document.queryCommandSupported && document.queryCommandSupported('copy')) {\n",
       "        var textarea = document.createElement('textarea');\n",
       "        textarea.textContent = fld.innerHTML;\n",
       "        textarea.style.position = 'fixed';\n",
       "        document.body.appendChild(textarea);\n",
       "        textarea.select();\n",
       "\n",
       "        try {\n",
       "            return document.execCommand('copy'); // Security exception may be thrown by some browsers.\n",
       "        } catch (ex) {\n",
       "\n",
       "        } finally {\n",
       "            document.body.removeChild(textarea);\n",
       "        }\n",
       "    }\n",
       "}\n",
       "function expandPanel(el) {\n",
       "  const panelName = \"#\" + el.getAttribute('paneName');\n",
       "\n",
       "  // Get the base URL of the current notebook\n",
       "  var baseUrl = window.location.origin;\n",
       "\n",
       "  // Construct the full URL\n",
       "  var fullUrl = new URL(el.title, baseUrl).href;\n",
       "\n",
       "  document.querySelector(panelName + \"-title\").innerHTML = fullUrl\n",
       "  iframe = document.querySelector(panelName + \"-body\");\n",
       "\n",
       "  const tblcss = `<style> body { font-family: Arial, Helvetica, sans-serif;}\n",
       "    #csv { margin-bottom: 15px; }\n",
       "    #csv table { border-collapse: collapse;}\n",
       "    #csv table td { padding: 4px 8px; border: 1px solid silver;} </style>`;\n",
       "\n",
       "  function csvToHtmlTable(str) {\n",
       "    return '<div id=\"csv\"><table><tr><td>' +  str.replace(/[\\n\\r]+$/g, '').replace(/[\\n\\r]+/g, '</td></tr><tr><td>')\n",
       "      .replace(/,/g, '</td><td>') + '</td></tr></table></div>';\n",
       "  }\n",
       "\n",
       "  function reqListener () {\n",
       "    if (fullUrl.endsWith(\".csv\")) {\n",
       "      iframe.setAttribute(\"srcdoc\", tblcss + csvToHtmlTable(this.responseText));\n",
       "    } else {\n",
       "      iframe.setAttribute(\"srcdoc\", this.responseText);\n",
       "    }\n",
       "    console.log(this.responseText);\n",
       "  }\n",
       "\n",
       "  const oReq = new XMLHttpRequest();\n",
       "  oReq.addEventListener(\"load\", reqListener);\n",
       "  oReq.open(\"GET\", fullUrl);\n",
       "  oReq.send();\n",
       "\n",
       "\n",
       "  //iframe.src = fullUrl;\n",
       "  const resultPane = document.querySelector(panelName + \"-pane\");\n",
       "  if (resultPane.classList.contains(\"hidden\")) {\n",
       "    resultPane.classList.remove(\"hidden\");\n",
       "  }\n",
       "}\n",
       "function closePanel(el) {\n",
       "  const panelName = \"#\" + el.getAttribute('paneName')\n",
       "  const resultPane = document.querySelector(panelName + \"-pane\");\n",
       "  if (!resultPane.classList.contains(\"hidden\")) {\n",
       "    resultPane.classList.add(\"hidden\");\n",
       "  }\n",
       "}\n",
       "\n",
       "</script>\n",
       "<div class=\"master-wrapper\">\n",
       "  <div class=\"block master-tbl\"><div>\n",
       "<style scoped>\n",
       "    .dataframe tbody tr th:only-of-type {\n",
       "        vertical-align: middle;\n",
       "    }\n",
       "\n",
       "    .dataframe tbody tr th {\n",
       "        vertical-align: top;\n",
       "    }\n",
       "\n",
       "    .dataframe thead th {\n",
       "        text-align: right;\n",
       "    }\n",
       "</style>\n",
       "<table border=\"1\" class=\"dataframe\">\n",
       "  <thead>\n",
       "    <tr style=\"text-align: right;\">\n",
       "      <th>project</th>\n",
       "      <th>uid</th>\n",
       "      <th>iter</th>\n",
       "      <th>start</th>\n",
       "      <th>end</th>\n",
       "      <th>state</th>\n",
       "      <th>kind</th>\n",
       "      <th>name</th>\n",
       "      <th>labels</th>\n",
       "      <th>inputs</th>\n",
       "      <th>parameters</th>\n",
       "      <th>results</th>\n",
       "      <th>artifacts</th>\n",
       "    </tr>\n",
       "  </thead>\n",
       "  <tbody>\n",
       "    <tr>\n",
       "      <td>trino-demo</td>\n",
       "      <td><div title=\"74a0e8e769be4ec7a2552ceb6e59f696\">...59f696</div></td>\n",
       "      <td>0</td>\n",
       "      <td>Aug 21 22:23:02</td>\n",
       "      <td>2025-08-21 22:23:06.854964+00:00</td>\n",
       "      <td>completed</td>\n",
       "      <td>run</td>\n",
       "      <td>ingest</td>\n",
       "      <td><div class=\"dictlist\">v3io_user=johannes</div><div class=\"dictlist\">kind=job</div><div class=\"dictlist\">owner=johannes</div><div class=\"dictlist\">mlrun/client_version=1.9.1</div><div class=\"dictlist\">mlrun/client_python_version=3.10.18</div><div class=\"dictlist\">host=ingest-lglbs</div></td>\n",
       "      <td></td>\n",
       "      <td><div class=\"dictlist\">query=WITH filtered_data AS (\\n    SELECT\\n        *\\n    FROM\\n        \"iceberg\".\"lakehouse\".\"taxi_trips\"\\n    WHERE\\n        -- Trino uses CAST(... AS DATE) and the standard subtraction operator for intervals\\n        CAST(trip_start_timestamp AS DATE) BETWEEN\\n            (CAST('2023-06-01' AS DATE) - INTERVAL '3' MONTH) AND\\n            (CAST('2023-06-01' AS DATE) - INTERVAL '2' MONTH)\\n)\\n\\n, mean_time AS (\\n    SELECT\\n        -- Trino's equivalent of INT64 is BIGINT\\n        CAST(AVG(trip_seconds) AS BIGINT) AS avg_trip_seconds\\n    FROM\\n        filtered_data\\n)\\n\\nSELECT\\n    -- Function names for date/time extraction are slightly different\\n    CAST(day_of_week(trip_start_timestamp) AS DOUBLE) AS dayofweek, -- Note: Sunday=7 in Trino\\n    CAST(hour(trip_start_timestamp) AS DOUBLE) AS hourofday,\\n    \\n    -- Geospatial functions use a different syntax\\n    ST_Distance(\\n        to_spherical_geography(ST_Point(pickup_longitude, pickup_latitude)),\\n        to_spherical_geography(ST_Point(dropoff_longitude, dropoff_latitude))\\n    ) AS trip_distance,\\n    \\n    trip_miles,\\n    \\n    -- Trino's equivalent of FLOAT64 is DOUBLE\\n    CAST(\\n        CASE\\n            WHEN trip_seconds IS NULL THEN m.avg_trip_seconds\\n            WHEN trip_seconds <= 0 THEN m.avg_trip_seconds\\n            ELSE trip_seconds\\n        END AS DOUBLE\\n    ) AS trip_seconds,\\n    \\n    payment_type,\\n    company,\\n    \\n    -- Use double quotes for identifiers if needed, not backticks\\n    (fare + tips + tolls + extras) AS \"total_fare\"\\nFROM\\n    filtered_data AS t\\n-- Explicit CROSS JOIN is clearer than a comma\\nCROSS JOIN mean_time AS m\\nWHERE\\n    trip_miles > 0 AND fare > 0 AND fare < 1500\\n    -- The Jinja templating part does not need to change at all\\n    \\n        AND \"fare\" IS NOT NULL\\n    \\n        AND \"trip_start_timestamp\" IS NOT NULL\\n    \\n        AND \"pickup_longitude\" IS NOT NULL\\n    \\n        AND \"pickup_latitude\" IS NOT NULL\\n    \\n        AND \"dropoff_longitude\" IS NOT NULL\\n    \\n        AND \"dropoff_latitude\" IS NOT NULL\\n    \\n        AND \"payment_type\" IS NOT NULL\\n    \\n        AND \"company\" IS NOT NULL\\n    </div><div class=\"dictlist\">schema=lakehouse</div><div class=\"dictlist\">catalog=iceberg</div><div class=\"dictlist\">dataset_name=train-source</div></td>\n",
       "      <td><div class=\"dictlist\">rows=473285</div></td>\n",
       "      <td><div title=\"s3://mlrun/projects/trino-demo/artifacts/ingest/0/train-source.parquet\">train-source</div></td>\n",
       "    </tr>\n",
       "  </tbody>\n",
       "</table>\n",
       "</div></div>\n",
       "  <div id=\"result3a52e9c3-pane\" class=\"right-pane block hidden\">\n",
       "    <div class=\"pane-header\">\n",
       "      <span id=\"result3a52e9c3-title\" class=\"pane-header-title\">Title</span>\n",
       "      <span onclick=\"closePanel(this)\" paneName=\"result3a52e9c3\" class=\"close clickable\">&times;</span>\n",
       "    </div>\n",
       "    <iframe class=\"fileview\" id=\"result3a52e9c3-body\"></iframe>\n",
       "  </div>\n",
       "</div>\n"
      ],
      "text/plain": [
       "<IPython.core.display.HTML object>"
      ]
     },
     "metadata": {},
     "output_type": "display_data"
    },
    {
     "name": "stdout",
     "output_type": "stream",
     "text": [
      "\n"
     ]
    },
    {
     "data": {
      "text/html": [
       "<b> > to track results use the .show() or .logs() methods </b>"
      ],
      "text/plain": [
       "<IPython.core.display.HTML object>"
      ]
     },
     "metadata": {},
     "output_type": "display_data"
    },
    {
     "name": "stdout",
     "output_type": "stream",
     "text": [
      "> 2025-08-22 00:23:11,914 [info] Run execution finished: {\"name\":\"ingest\",\"status\":\"completed\"}\n"
     ]
    }
   ],
   "source": [
    "# run the query\n",
    "dataset_uri = query_to_dataset.run(\n",
    "    name=\"ingest\",\n",
    "    params={\n",
    "        \"query\": ingest_query,\n",
    "        \"schema\": schema,\n",
    "        \"catalog\": catalog,\n",
    "        \"dataset_name\": \"train-source\",\n",
    "    },    \n",
    "    local=False,\n",
    "    auto_build=True\n",
    ").outputs[\"train-source\"]"
   ]
  },
  {
   "cell_type": "markdown",
   "id": "02ee4bae",
   "metadata": {},
   "source": [
    "## 5. Results"
   ]
  },
  {
   "cell_type": "code",
   "execution_count": 10,
   "id": "5b72221e",
   "metadata": {},
   "outputs": [
    {
     "name": "stdout",
     "output_type": "stream",
     "text": [
      "rows read: 473,285\n"
     ]
    },
    {
     "data": {
      "application/vnd.microsoft.datawrangler.viewer.v0+json": {
       "columns": [
        {
         "name": "index",
         "rawType": "int64",
         "type": "integer"
        },
        {
         "name": "dayofweek",
         "rawType": "float64",
         "type": "float"
        },
        {
         "name": "hourofday",
         "rawType": "float64",
         "type": "float"
        },
        {
         "name": "trip_distance",
         "rawType": "float64",
         "type": "float"
        },
        {
         "name": "trip_miles",
         "rawType": "float64",
         "type": "float"
        },
        {
         "name": "trip_seconds",
         "rawType": "float64",
         "type": "float"
        },
        {
         "name": "payment_type",
         "rawType": "object",
         "type": "string"
        },
        {
         "name": "company",
         "rawType": "object",
         "type": "string"
        },
        {
         "name": "total_fare",
         "rawType": "float64",
         "type": "float"
        }
       ],
       "ref": "5c8ebf73-aeb9-4400-8fb2-4c1d26fde7e4",
       "rows": [
        [
         "0",
         "5.0",
         "16.0",
         "21343.087544074806",
         "15.0",
         "3360.0",
         "Unknown",
         "Taxi Affiliation Services",
         "39.5"
        ],
        [
         "1",
         "5.0",
         "8.0",
         "21812.98359527924",
         "15.61",
         "1249.0",
         "Cash",
         "Flash Cab",
         "39.0"
        ],
        [
         "2",
         "5.0",
         "9.0",
         "15437.229430438178",
         "0.7",
         "1440.0",
         "Cash",
         "Taxi Affiliation Services",
         "32.0"
        ],
        [
         "3",
         "5.0",
         "16.0",
         "11425.401387654385",
         "7.1",
         "1140.0",
         "Unknown",
         "Taxi Affiliation Services",
         "19.5"
        ],
        [
         "4",
         "5.0",
         "10.0",
         "15228.66356083475",
         "12.23",
         "1620.0",
         "Prcard",
         "Flash Cab",
         "32.75"
        ]
       ],
       "shape": {
        "columns": 8,
        "rows": 5
       }
      },
      "text/html": [
       "<div>\n",
       "<style scoped>\n",
       "    .dataframe tbody tr th:only-of-type {\n",
       "        vertical-align: middle;\n",
       "    }\n",
       "\n",
       "    .dataframe tbody tr th {\n",
       "        vertical-align: top;\n",
       "    }\n",
       "\n",
       "    .dataframe thead th {\n",
       "        text-align: right;\n",
       "    }\n",
       "</style>\n",
       "<table border=\"1\" class=\"dataframe\">\n",
       "  <thead>\n",
       "    <tr style=\"text-align: right;\">\n",
       "      <th></th>\n",
       "      <th>dayofweek</th>\n",
       "      <th>hourofday</th>\n",
       "      <th>trip_distance</th>\n",
       "      <th>trip_miles</th>\n",
       "      <th>trip_seconds</th>\n",
       "      <th>payment_type</th>\n",
       "      <th>company</th>\n",
       "      <th>total_fare</th>\n",
       "    </tr>\n",
       "  </thead>\n",
       "  <tbody>\n",
       "    <tr>\n",
       "      <th>0</th>\n",
       "      <td>5.0</td>\n",
       "      <td>16.0</td>\n",
       "      <td>21343.087544</td>\n",
       "      <td>15.00</td>\n",
       "      <td>3360.0</td>\n",
       "      <td>Unknown</td>\n",
       "      <td>Taxi Affiliation Services</td>\n",
       "      <td>39.50</td>\n",
       "    </tr>\n",
       "    <tr>\n",
       "      <th>1</th>\n",
       "      <td>5.0</td>\n",
       "      <td>8.0</td>\n",
       "      <td>21812.983595</td>\n",
       "      <td>15.61</td>\n",
       "      <td>1249.0</td>\n",
       "      <td>Cash</td>\n",
       "      <td>Flash Cab</td>\n",
       "      <td>39.00</td>\n",
       "    </tr>\n",
       "    <tr>\n",
       "      <th>2</th>\n",
       "      <td>5.0</td>\n",
       "      <td>9.0</td>\n",
       "      <td>15437.229430</td>\n",
       "      <td>0.70</td>\n",
       "      <td>1440.0</td>\n",
       "      <td>Cash</td>\n",
       "      <td>Taxi Affiliation Services</td>\n",
       "      <td>32.00</td>\n",
       "    </tr>\n",
       "    <tr>\n",
       "      <th>3</th>\n",
       "      <td>5.0</td>\n",
       "      <td>16.0</td>\n",
       "      <td>11425.401388</td>\n",
       "      <td>7.10</td>\n",
       "      <td>1140.0</td>\n",
       "      <td>Unknown</td>\n",
       "      <td>Taxi Affiliation Services</td>\n",
       "      <td>19.50</td>\n",
       "    </tr>\n",
       "    <tr>\n",
       "      <th>4</th>\n",
       "      <td>5.0</td>\n",
       "      <td>10.0</td>\n",
       "      <td>15228.663561</td>\n",
       "      <td>12.23</td>\n",
       "      <td>1620.0</td>\n",
       "      <td>Prcard</td>\n",
       "      <td>Flash Cab</td>\n",
       "      <td>32.75</td>\n",
       "    </tr>\n",
       "  </tbody>\n",
       "</table>\n",
       "</div>"
      ],
      "text/plain": [
       "   dayofweek  hourofday  trip_distance  trip_miles  trip_seconds payment_type  \\\n",
       "0        5.0       16.0   21343.087544       15.00        3360.0      Unknown   \n",
       "1        5.0        8.0   21812.983595       15.61        1249.0         Cash   \n",
       "2        5.0        9.0   15437.229430        0.70        1440.0         Cash   \n",
       "3        5.0       16.0   11425.401388        7.10        1140.0      Unknown   \n",
       "4        5.0       10.0   15228.663561       12.23        1620.0       Prcard   \n",
       "\n",
       "                     company  total_fare  \n",
       "0  Taxi Affiliation Services       39.50  \n",
       "1                  Flash Cab       39.00  \n",
       "2  Taxi Affiliation Services       32.00  \n",
       "3  Taxi Affiliation Services       19.50  \n",
       "4                  Flash Cab       32.75  "
      ]
     },
     "metadata": {},
     "output_type": "display_data"
    }
   ],
   "source": [
    "# load the ingested dataset\n",
    "df_train = mlrun.get_dataitem(dataset_uri).as_df()\n",
    "\n",
    "print(f\"rows read: {df_train.shape[0]:,}\")\n",
    "display(df_train.head())"
   ]
  }
 ],
 "metadata": {
  "kernelspec": {
   "display_name": "local-mlrun",
   "language": "python",
   "name": "python3"
  },
  "language_info": {
   "codemirror_mode": {
    "name": "ipython",
    "version": 3
   },
   "file_extension": ".py",
   "mimetype": "text/x-python",
   "name": "python",
   "nbconvert_exporter": "python",
   "pygments_lexer": "ipython3",
   "version": "3.10.18"
  }
 },
 "nbformat": 4,
 "nbformat_minor": 5
}
