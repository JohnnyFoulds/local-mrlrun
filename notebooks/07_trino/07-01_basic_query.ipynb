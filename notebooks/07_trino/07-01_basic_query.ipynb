{
 "cells": [
  {
   "cell_type": "markdown",
   "id": "b5764de2",
   "metadata": {},
   "source": [
    "# 07-01 : Basic Trino Query\n",
    "\n",
    "Test using Trino without MLRun at this stage."
   ]
  },
  {
   "cell_type": "code",
   "execution_count": 1,
   "id": "0f4d5360",
   "metadata": {},
   "outputs": [],
   "source": [
    "import trino\n",
    "import pandas as pd\n",
    "from contextlib import closing"
   ]
  },
  {
   "cell_type": "markdown",
   "id": "90fe0453",
   "metadata": {},
   "source": [
    "## 1. Configuration"
   ]
  },
  {
   "cell_type": "code",
   "execution_count": 2,
   "id": "ff40ecde",
   "metadata": {},
   "outputs": [],
   "source": [
    "config = {\n",
    "    \"TRINO_HOST\": \"dragon.lan\",\n",
    "    \"TRINO_PORT\": \"9191\",\n",
    "    \"TRINO_USER\": \"johnny\",\n",
    "}"
   ]
  },
  {
   "cell_type": "markdown",
   "id": "700c095f",
   "metadata": {},
   "source": [
    "## 2. Establish the connection to Trino"
   ]
  },
  {
   "cell_type": "code",
   "execution_count": 3,
   "id": "38706300",
   "metadata": {},
   "outputs": [],
   "source": [
    "conn = trino.dbapi.connect(\n",
    "    host=config[\"TRINO_HOST\"],\n",
    "    port=config[\"TRINO_PORT\"],\n",
    "    user=config[\"TRINO_USER\"],\n",
    "    schema=\"lakehouse\",\n",
    "    catalog=\"iceberg\",\n",
    ")"
   ]
  },
  {
   "cell_type": "markdown",
   "id": "fd719008",
   "metadata": {},
   "source": [
    "## 3. Test Query Execution"
   ]
  },
  {
   "cell_type": "markdown",
   "id": "ba5a5217",
   "metadata": {},
   "source": [
    "### 3.1 Basic Query"
   ]
  },
  {
   "cell_type": "code",
   "execution_count": 4,
   "id": "419759e7",
   "metadata": {},
   "outputs": [],
   "source": [
    "query = \"SELECT * FROM lakehouse.taxi_trips LIMIT 10\""
   ]
  },
  {
   "cell_type": "code",
   "execution_count": 5,
   "id": "9e35c5bc",
   "metadata": {},
   "outputs": [
    {
     "data": {
      "application/vnd.microsoft.datawrangler.viewer.v0+json": {
       "columns": [
        {
         "name": "index",
         "rawType": "int64",
         "type": "integer"
        },
        {
         "name": "unique_key",
         "rawType": "object",
         "type": "string"
        },
        {
         "name": "taxi_id",
         "rawType": "object",
         "type": "string"
        },
        {
         "name": "trip_start_timestamp",
         "rawType": "datetime64[ns]",
         "type": "datetime"
        },
        {
         "name": "trip_end_timestamp",
         "rawType": "datetime64[ns]",
         "type": "datetime"
        },
        {
         "name": "trip_seconds",
         "rawType": "int64",
         "type": "integer"
        },
        {
         "name": "trip_miles",
         "rawType": "float64",
         "type": "float"
        },
        {
         "name": "pickup_census_tract",
         "rawType": "object",
         "type": "unknown"
        },
        {
         "name": "dropoff_census_tract",
         "rawType": "object",
         "type": "unknown"
        },
        {
         "name": "pickup_community_area",
         "rawType": "float64",
         "type": "float"
        },
        {
         "name": "dropoff_community_area",
         "rawType": "float64",
         "type": "float"
        },
        {
         "name": "fare",
         "rawType": "float64",
         "type": "float"
        },
        {
         "name": "tips",
         "rawType": "float64",
         "type": "float"
        },
        {
         "name": "tolls",
         "rawType": "float64",
         "type": "float"
        },
        {
         "name": "extras",
         "rawType": "float64",
         "type": "float"
        },
        {
         "name": "trip_total",
         "rawType": "float64",
         "type": "float"
        },
        {
         "name": "payment_type",
         "rawType": "object",
         "type": "string"
        },
        {
         "name": "company",
         "rawType": "object",
         "type": "string"
        },
        {
         "name": "pickup_latitude",
         "rawType": "float64",
         "type": "float"
        },
        {
         "name": "pickup_longitude",
         "rawType": "float64",
         "type": "float"
        },
        {
         "name": "pickup_location",
         "rawType": "object",
         "type": "unknown"
        },
        {
         "name": "dropoff_latitude",
         "rawType": "float64",
         "type": "float"
        },
        {
         "name": "dropoff_longitude",
         "rawType": "float64",
         "type": "float"
        },
        {
         "name": "dropoff_location",
         "rawType": "object",
         "type": "unknown"
        }
       ],
       "ref": "b9a82faf-8a25-46ab-9444-f6d37e35d46e",
       "rows": [
        [
         "0",
         "0fca59218b11688279d795c03c4d16f851f13fa0",
         "e2c349c7cbb608d552aa0b5814031943f13641ef9e50d86361d598aa3277fc35fabc76bd437f793774e6deaa6f2a0f29b8a87b0cf22b5a27b6c10f6f5ed614ae",
         "2023-01-01 00:00:00",
         "2023-01-01 00:15:00",
         "1037",
         "4.82",
         null,
         null,
         "6.0",
         "32.0",
         "15.75",
         "3.25",
         "0.0",
         "0.0",
         "19.5",
         "Credit Card",
         "Taxicab Insurance Agency Llc",
         "41.944226601",
         "-87.655998182",
         "POINT (-87.6559981815 41.9442266014)",
         "41.878865584",
         "-87.625192142",
         "POINT (-87.6251921424 41.8788655841)"
        ],
        [
         "1",
         "1e539d6e7501164c6b76b761c3152c235e206d59",
         "4ab7a7510c1ebcc9b2e3eaa7bdd6508dbea34da7986aca2d8478bb55d1eabf707cda06384ba05783521e50bd5c027c95e6feda8af5eb623f31aceb1c9cf7c6cf",
         "2023-01-01 00:00:00",
         "2023-01-01 00:15:00",
         "1341",
         "16.63",
         null,
         null,
         "76.0",
         "8.0",
         "41.5",
         "5.0",
         "0.0",
         "6.0",
         "53.0",
         "Credit Card",
         "Sun Taxi",
         "41.980264315",
         "-87.913624596",
         "POINT (-87.913624596 41.9802643146)",
         "41.899602111",
         "-87.633308037",
         "POINT (-87.6333080367 41.899602111)"
        ],
        [
         "2",
         "79d2eff4b65d9bb126c12ded2f76c67f07c328ab",
         "f6e15e1e93c7648c1ffb637834e78905aca64ba09e2f4640f873a1406759c36150ab39c963c9642559e649fa2462db3a6a944349e69cea5eda4dd0b03c2b9718",
         "2023-01-11 14:15:00",
         "2023-01-11 14:30:00",
         "1167",
         "7.99",
         null,
         null,
         null,
         null,
         "23.0",
         "0.0",
         "0.0",
         "0.0",
         "23.0",
         "Cash",
         "Flash Cab",
         null,
         null,
         null,
         null,
         null,
         null
        ],
        [
         "3",
         "79d3b3527ba03b3b487a220d3592fb3c92d78aaf",
         "121e6b6064d993f2f1bc475ffd6392987c431f18e99c307e3da44c3b130bbb07e29413ad792dc339227b20a60bbc6af2fd8f4a4ad7d9468d9c732a1626da7dc9",
         "2023-01-23 21:00:00",
         "2023-01-23 21:15:00",
         "240",
         "0.7",
         null,
         null,
         null,
         null,
         "5.25",
         "2.0",
         "0.0",
         "0.0",
         "7.25",
         "Credit Card",
         "Top Cab Affiliation",
         null,
         null,
         null,
         null,
         null,
         null
        ],
        [
         "4",
         "79f38d1640cc5636fca1aa533474879e5f5d8b95",
         "92aa59b10af01f1beaa1a0ad435c030f2efc4107fbaeb06ada4158f6e9e67c60252e857bd5af23e65f98365b97c902a6f195685380fb91ce8465fb1ee6cca204",
         "2023-01-08 15:15:00",
         "2023-01-08 15:30:00",
         "1171",
         "14.55",
         null,
         null,
         null,
         null,
         "37.0",
         "12.6",
         "0.0",
         "25.5",
         "75.6",
         "Credit Card",
         "City Service",
         null,
         null,
         null,
         null,
         null,
         null
        ]
       ],
       "shape": {
        "columns": 23,
        "rows": 5
       }
      },
      "text/html": [
       "<div>\n",
       "<style scoped>\n",
       "    .dataframe tbody tr th:only-of-type {\n",
       "        vertical-align: middle;\n",
       "    }\n",
       "\n",
       "    .dataframe tbody tr th {\n",
       "        vertical-align: top;\n",
       "    }\n",
       "\n",
       "    .dataframe thead th {\n",
       "        text-align: right;\n",
       "    }\n",
       "</style>\n",
       "<table border=\"1\" class=\"dataframe\">\n",
       "  <thead>\n",
       "    <tr style=\"text-align: right;\">\n",
       "      <th></th>\n",
       "      <th>unique_key</th>\n",
       "      <th>taxi_id</th>\n",
       "      <th>trip_start_timestamp</th>\n",
       "      <th>trip_end_timestamp</th>\n",
       "      <th>trip_seconds</th>\n",
       "      <th>trip_miles</th>\n",
       "      <th>pickup_census_tract</th>\n",
       "      <th>dropoff_census_tract</th>\n",
       "      <th>pickup_community_area</th>\n",
       "      <th>dropoff_community_area</th>\n",
       "      <th>...</th>\n",
       "      <th>extras</th>\n",
       "      <th>trip_total</th>\n",
       "      <th>payment_type</th>\n",
       "      <th>company</th>\n",
       "      <th>pickup_latitude</th>\n",
       "      <th>pickup_longitude</th>\n",
       "      <th>pickup_location</th>\n",
       "      <th>dropoff_latitude</th>\n",
       "      <th>dropoff_longitude</th>\n",
       "      <th>dropoff_location</th>\n",
       "    </tr>\n",
       "  </thead>\n",
       "  <tbody>\n",
       "    <tr>\n",
       "      <th>0</th>\n",
       "      <td>0fca59218b11688279d795c03c4d16f851f13fa0</td>\n",
       "      <td>e2c349c7cbb608d552aa0b5814031943f13641ef9e50d8...</td>\n",
       "      <td>2023-01-01 00:00:00</td>\n",
       "      <td>2023-01-01 00:15:00</td>\n",
       "      <td>1037</td>\n",
       "      <td>4.82</td>\n",
       "      <td>None</td>\n",
       "      <td>None</td>\n",
       "      <td>6.0</td>\n",
       "      <td>32.0</td>\n",
       "      <td>...</td>\n",
       "      <td>0.0</td>\n",
       "      <td>19.50</td>\n",
       "      <td>Credit Card</td>\n",
       "      <td>Taxicab Insurance Agency Llc</td>\n",
       "      <td>41.944227</td>\n",
       "      <td>-87.655998</td>\n",
       "      <td>POINT (-87.6559981815 41.9442266014)</td>\n",
       "      <td>41.878866</td>\n",
       "      <td>-87.625192</td>\n",
       "      <td>POINT (-87.6251921424 41.8788655841)</td>\n",
       "    </tr>\n",
       "    <tr>\n",
       "      <th>1</th>\n",
       "      <td>1e539d6e7501164c6b76b761c3152c235e206d59</td>\n",
       "      <td>4ab7a7510c1ebcc9b2e3eaa7bdd6508dbea34da7986aca...</td>\n",
       "      <td>2023-01-01 00:00:00</td>\n",
       "      <td>2023-01-01 00:15:00</td>\n",
       "      <td>1341</td>\n",
       "      <td>16.63</td>\n",
       "      <td>None</td>\n",
       "      <td>None</td>\n",
       "      <td>76.0</td>\n",
       "      <td>8.0</td>\n",
       "      <td>...</td>\n",
       "      <td>6.0</td>\n",
       "      <td>53.00</td>\n",
       "      <td>Credit Card</td>\n",
       "      <td>Sun Taxi</td>\n",
       "      <td>41.980264</td>\n",
       "      <td>-87.913625</td>\n",
       "      <td>POINT (-87.913624596 41.9802643146)</td>\n",
       "      <td>41.899602</td>\n",
       "      <td>-87.633308</td>\n",
       "      <td>POINT (-87.6333080367 41.899602111)</td>\n",
       "    </tr>\n",
       "    <tr>\n",
       "      <th>2</th>\n",
       "      <td>79d2eff4b65d9bb126c12ded2f76c67f07c328ab</td>\n",
       "      <td>f6e15e1e93c7648c1ffb637834e78905aca64ba09e2f46...</td>\n",
       "      <td>2023-01-11 14:15:00</td>\n",
       "      <td>2023-01-11 14:30:00</td>\n",
       "      <td>1167</td>\n",
       "      <td>7.99</td>\n",
       "      <td>None</td>\n",
       "      <td>None</td>\n",
       "      <td>NaN</td>\n",
       "      <td>NaN</td>\n",
       "      <td>...</td>\n",
       "      <td>0.0</td>\n",
       "      <td>23.00</td>\n",
       "      <td>Cash</td>\n",
       "      <td>Flash Cab</td>\n",
       "      <td>NaN</td>\n",
       "      <td>NaN</td>\n",
       "      <td>None</td>\n",
       "      <td>NaN</td>\n",
       "      <td>NaN</td>\n",
       "      <td>None</td>\n",
       "    </tr>\n",
       "    <tr>\n",
       "      <th>3</th>\n",
       "      <td>79d3b3527ba03b3b487a220d3592fb3c92d78aaf</td>\n",
       "      <td>121e6b6064d993f2f1bc475ffd6392987c431f18e99c30...</td>\n",
       "      <td>2023-01-23 21:00:00</td>\n",
       "      <td>2023-01-23 21:15:00</td>\n",
       "      <td>240</td>\n",
       "      <td>0.70</td>\n",
       "      <td>None</td>\n",
       "      <td>None</td>\n",
       "      <td>NaN</td>\n",
       "      <td>NaN</td>\n",
       "      <td>...</td>\n",
       "      <td>0.0</td>\n",
       "      <td>7.25</td>\n",
       "      <td>Credit Card</td>\n",
       "      <td>Top Cab Affiliation</td>\n",
       "      <td>NaN</td>\n",
       "      <td>NaN</td>\n",
       "      <td>None</td>\n",
       "      <td>NaN</td>\n",
       "      <td>NaN</td>\n",
       "      <td>None</td>\n",
       "    </tr>\n",
       "    <tr>\n",
       "      <th>4</th>\n",
       "      <td>79f38d1640cc5636fca1aa533474879e5f5d8b95</td>\n",
       "      <td>92aa59b10af01f1beaa1a0ad435c030f2efc4107fbaeb0...</td>\n",
       "      <td>2023-01-08 15:15:00</td>\n",
       "      <td>2023-01-08 15:30:00</td>\n",
       "      <td>1171</td>\n",
       "      <td>14.55</td>\n",
       "      <td>None</td>\n",
       "      <td>None</td>\n",
       "      <td>NaN</td>\n",
       "      <td>NaN</td>\n",
       "      <td>...</td>\n",
       "      <td>25.5</td>\n",
       "      <td>75.60</td>\n",
       "      <td>Credit Card</td>\n",
       "      <td>City Service</td>\n",
       "      <td>NaN</td>\n",
       "      <td>NaN</td>\n",
       "      <td>None</td>\n",
       "      <td>NaN</td>\n",
       "      <td>NaN</td>\n",
       "      <td>None</td>\n",
       "    </tr>\n",
       "  </tbody>\n",
       "</table>\n",
       "<p>5 rows × 23 columns</p>\n",
       "</div>"
      ],
      "text/plain": [
       "                                 unique_key  \\\n",
       "0  0fca59218b11688279d795c03c4d16f851f13fa0   \n",
       "1  1e539d6e7501164c6b76b761c3152c235e206d59   \n",
       "2  79d2eff4b65d9bb126c12ded2f76c67f07c328ab   \n",
       "3  79d3b3527ba03b3b487a220d3592fb3c92d78aaf   \n",
       "4  79f38d1640cc5636fca1aa533474879e5f5d8b95   \n",
       "\n",
       "                                             taxi_id trip_start_timestamp  \\\n",
       "0  e2c349c7cbb608d552aa0b5814031943f13641ef9e50d8...  2023-01-01 00:00:00   \n",
       "1  4ab7a7510c1ebcc9b2e3eaa7bdd6508dbea34da7986aca...  2023-01-01 00:00:00   \n",
       "2  f6e15e1e93c7648c1ffb637834e78905aca64ba09e2f46...  2023-01-11 14:15:00   \n",
       "3  121e6b6064d993f2f1bc475ffd6392987c431f18e99c30...  2023-01-23 21:00:00   \n",
       "4  92aa59b10af01f1beaa1a0ad435c030f2efc4107fbaeb0...  2023-01-08 15:15:00   \n",
       "\n",
       "   trip_end_timestamp  trip_seconds  trip_miles pickup_census_tract  \\\n",
       "0 2023-01-01 00:15:00          1037        4.82                None   \n",
       "1 2023-01-01 00:15:00          1341       16.63                None   \n",
       "2 2023-01-11 14:30:00          1167        7.99                None   \n",
       "3 2023-01-23 21:15:00           240        0.70                None   \n",
       "4 2023-01-08 15:30:00          1171       14.55                None   \n",
       "\n",
       "  dropoff_census_tract  pickup_community_area  dropoff_community_area  ...  \\\n",
       "0                 None                    6.0                    32.0  ...   \n",
       "1                 None                   76.0                     8.0  ...   \n",
       "2                 None                    NaN                     NaN  ...   \n",
       "3                 None                    NaN                     NaN  ...   \n",
       "4                 None                    NaN                     NaN  ...   \n",
       "\n",
       "   extras  trip_total  payment_type                       company  \\\n",
       "0     0.0       19.50   Credit Card  Taxicab Insurance Agency Llc   \n",
       "1     6.0       53.00   Credit Card                      Sun Taxi   \n",
       "2     0.0       23.00          Cash                     Flash Cab   \n",
       "3     0.0        7.25   Credit Card           Top Cab Affiliation   \n",
       "4    25.5       75.60   Credit Card                  City Service   \n",
       "\n",
       "   pickup_latitude pickup_longitude                       pickup_location  \\\n",
       "0        41.944227       -87.655998  POINT (-87.6559981815 41.9442266014)   \n",
       "1        41.980264       -87.913625   POINT (-87.913624596 41.9802643146)   \n",
       "2              NaN              NaN                                  None   \n",
       "3              NaN              NaN                                  None   \n",
       "4              NaN              NaN                                  None   \n",
       "\n",
       "   dropoff_latitude  dropoff_longitude                      dropoff_location  \n",
       "0         41.878866         -87.625192  POINT (-87.6251921424 41.8788655841)  \n",
       "1         41.899602         -87.633308   POINT (-87.6333080367 41.899602111)  \n",
       "2               NaN                NaN                                  None  \n",
       "3               NaN                NaN                                  None  \n",
       "4               NaN                NaN                                  None  \n",
       "\n",
       "[5 rows x 23 columns]"
      ]
     },
     "execution_count": 5,
     "metadata": {},
     "output_type": "execute_result"
    }
   ],
   "source": [
    "# Execute the query and fetch the data into a pandas DataFrame\n",
    "with closing(conn.cursor()) as cur:\n",
    "    cur.execute(query)\n",
    "    rows = cur.fetchall()\n",
    "    columns = [desc[0] for desc in cur.description]\n",
    "    df = pd.DataFrame(rows, columns=columns)\n",
    "\n",
    "df.head()"
   ]
  }
 ],
 "metadata": {
  "kernelspec": {
   "display_name": "Python 3",
   "language": "python",
   "name": "python3"
  },
  "language_info": {
   "codemirror_mode": {
    "name": "ipython",
    "version": 3
   },
   "file_extension": ".py",
   "mimetype": "text/x-python",
   "name": "python",
   "nbconvert_exporter": "python",
   "pygments_lexer": "ipython3",
   "version": "3.10.18"
  }
 },
 "nbformat": 4,
 "nbformat_minor": 5
}
