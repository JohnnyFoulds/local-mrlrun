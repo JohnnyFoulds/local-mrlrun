{
 "cells": [
  {
   "cell_type": "markdown",
   "metadata": {},
   "source": [
    "# 01-02 : Docker Run\n",
    "\n",
    "Attempt to run only the function in a docker container. MLRun will still be running only in the local environment."
   ]
  },
  {
   "cell_type": "code",
   "execution_count": 1,
   "metadata": {},
   "outputs": [],
   "source": [
    "import os"
   ]
  },
  {
   "cell_type": "code",
   "execution_count": 2,
   "metadata": {},
   "outputs": [],
   "source": [
    "import logging\n",
    "\n",
    "# configure log format\n",
    "logging.basicConfig(\n",
    "    level=logging.INFO,\n",
    "    format='%(asctime)s %(levelname)s [%(name)s] %(message)s',\n",
    "    datefmt='%Y-%m-%d %H:%M:%S'\n",
    ")\n",
    "\n",
    "# get the logger\n",
    "logger = logging.getLogger(__name__)"
   ]
  },
  {
   "cell_type": "code",
   "execution_count": 3,
   "metadata": {},
   "outputs": [],
   "source": [
    "import mlrun\n",
    "\n",
    "#mlrun.set_environment(api_path=\"http://localhost:8080\")"
   ]
  },
  {
   "cell_type": "markdown",
   "metadata": {},
   "source": [
    "## 1. Configuration"
   ]
  },
  {
   "cell_type": "code",
   "execution_count": 4,
   "metadata": {},
   "outputs": [
    {
     "name": "stderr",
     "output_type": "stream",
     "text": [
      "2025-05-08 14:50:31 INFO [__main__] MLRUN_DBPATH set to: http://localhost:8080\n",
      "2025-05-08 14:50:31 INFO [__main__] MLRUN_ARTIFACT_PATH set to: /home/johnny/swan/code/local-mrlrun/notebooks/01_basic_tests/artifacts\n"
     ]
    }
   ],
   "source": [
    "# set to run locally\n",
    "MLRUN_LOCAL = False \n",
    "\n",
    "# set the artifact path to the local directory\n",
    "MLRUN_ARTIFACT_PATH = os.path.abspath(\"artifacts\")\n",
    "os.makedirs(MLRUN_ARTIFACT_PATH, exist_ok=True)\n",
    "\n",
    "# set the docker image to use\n",
    "MLRUN_DOCKER_IMAGE = \"mlrun/mlrun\"\n",
    "\n",
    "# the path to the local sqlite database\n",
    "MLRUN_SQLITE_DB_DIR = os.path.abspath(\".\") # Assuming mlrun.db is in the parent directory\n",
    "os.makedirs(MLRUN_SQLITE_DB_DIR, exist_ok=True)\n",
    "MLRUN_SQLITE_DB_FILE = os.path.join(MLRUN_SQLITE_DB_DIR, \"mlrun.db\")\n",
    "MLRUN_DB_CONNECTION_STRING = f\"sqlite:///{MLRUN_SQLITE_DB_FILE}\"\n",
    "\n",
    "#os.environ[\"MLRUN_DBPATH\"] = MLRUN_DB_CONNECTION_STRING\n",
    "os.environ[\"MLRUN_DBPATH\"] = \"sqlite:///horse_shit.db\"\n",
    "os.environ[\"MLRUN_DBPATH\"] = \"http://localhost:8080\"\n",
    "os.environ[\"MLRUN_ARTIFACT_PATH\"] = MLRUN_ARTIFACT_PATH\n",
    "\n",
    "logger.info(f\"MLRUN_DBPATH set to: {os.environ['MLRUN_DBPATH']}\")\n",
    "logger.info(f\"MLRUN_ARTIFACT_PATH set to: {os.environ['MLRUN_ARTIFACT_PATH']}\")"
   ]
  },
  {
   "cell_type": "markdown",
   "metadata": {},
   "source": [
    "## 1. Set Project"
   ]
  },
  {
   "cell_type": "code",
   "execution_count": 5,
   "metadata": {},
   "outputs": [],
   "source": [
    "import mlrun"
   ]
  },
  {
   "cell_type": "code",
   "execution_count": 6,
   "metadata": {},
   "outputs": [
    {
     "name": "stdout",
     "output_type": "stream",
     "text": [
      "> 2025-05-08 14:50:31,258 [warning] Could not detect path to API server, not connected to API server!\n",
      "> 2025-05-08 14:50:31,259 [warning] MLRUN_DBPATH is misconfigured. Set this environment variable to the URL of the API server in order to connect\n",
      "> 2025-05-08 14:50:31,259 [warning] Could not detect path to API server, not connected to API server!\n",
      "> 2025-05-08 14:50:31,259 [warning] MLRUN_DBPATH is misconfigured. Set this environment variable to the URL of the API server in order to connect\n",
      "> 2025-05-08 14:50:31,260 [info] Loading project from path: {\"path\":\"./\",\"project_name\":\"basic-tests\",\"user_project\":false}\n",
      "> 2025-05-08 14:50:31,275 [warning] Could not detect path to API server, not connected to API server!\n",
      "> 2025-05-08 14:50:31,276 [warning] MLRUN_DBPATH is misconfigured. Set this environment variable to the URL of the API server in order to connect\n",
      "> 2025-05-08 14:50:31,277 [info] Project loaded successfully: {\"path\":\"./\",\"project_name\":\"basic-tests\",\"stored_in_db\":true}\n",
      "> 2025-05-08 14:50:31,278 [warning] Could not detect path to API server, not connected to API server!\n",
      "> 2025-05-08 14:50:31,278 [warning] MLRUN_DBPATH is misconfigured. Set this environment variable to the URL of the API server in order to connect\n"
     ]
    },
    {
     "data": {
      "text/plain": [
       "<mlrun.projects.project.MlrunProject at 0x7f4d8a981fa0>"
      ]
     },
     "execution_count": 6,
     "metadata": {},
     "output_type": "execute_result"
    }
   ],
   "source": [
    "project = mlrun.get_or_create_project(\n",
    "    name='basic-tests',\n",
    "    context='./',) \n",
    "\n",
    "# set the artifact path to the local directory\n",
    "project.artifact_path = MLRUN_ARTIFACT_PATH\n",
    "project.save()"
   ]
  },
  {
   "cell_type": "markdown",
   "metadata": {},
   "source": [
    "## 2. Create Function"
   ]
  },
  {
   "cell_type": "markdown",
   "metadata": {},
   "source": [
    "### 2.1 Create Function Code File"
   ]
  },
  {
   "cell_type": "code",
   "execution_count": 7,
   "metadata": {},
   "outputs": [
    {
     "name": "stdout",
     "output_type": "stream",
     "text": [
      "Overwriting hello_world.py\n"
     ]
    }
   ],
   "source": [
    "%%writefile hello_world.py\n",
    "\n",
    "import mlrun\n",
    "\n",
    "# get the logger\n",
    "import logging\n",
    "logger = logging.getLogger(__name__)\n",
    "\n",
    "def handler(context: mlrun.MLClientCtx = None):\n",
    "    logger.info(\"Hello world\")\n",
    "\n",
    "    context.log_result(\"hello\", \"world\")"
   ]
  },
  {
   "cell_type": "markdown",
   "metadata": {},
   "source": [
    "### 2.2 Create Project Function"
   ]
  },
  {
   "cell_type": "code",
   "execution_count": 8,
   "metadata": {},
   "outputs": [
    {
     "name": "stdout",
     "output_type": "stream",
     "text": [
      "> 2025-05-08 14:50:31,309 [warning] Could not detect path to API server, not connected to API server!\n",
      "> 2025-05-08 14:50:31,310 [warning] MLRUN_DBPATH is misconfigured. Set this environment variable to the URL of the API server in order to connect\n"
     ]
    },
    {
     "data": {
      "text/plain": [
       "'db://basic-tests/hello-world'"
      ]
     },
     "execution_count": 8,
     "metadata": {},
     "output_type": "execute_result"
    }
   ],
   "source": [
    "hello_world = mlrun.code_to_function(\n",
    "    name='hello-world',\n",
    "    project='basic-tests',\n",
    "    filename='hello_world.py',\n",
    "    handler='handler',\n",
    "    kind='job',\n",
    "    image=MLRUN_DOCKER_IMAGE,\n",
    "    description='Hello world function',\n",
    ")\n",
    "hello_world.save()"
   ]
  },
  {
   "cell_type": "markdown",
   "metadata": {},
   "source": [
    "## 3. Run Function"
   ]
  },
  {
   "cell_type": "code",
   "execution_count": 9,
   "metadata": {},
   "outputs": [
    {
     "name": "stdout",
     "output_type": "stream",
     "text": [
      "> 2025-05-08 14:50:31,318 [warning] Artifact output path is local while no volume mount is specified. Artifacts would not be visible via UI.: {\"output_path\":\"/home/johnny/swan/code/local-mrlrun/notebooks/01_basic_tests/artifacts\"}\n",
      "> 2025-05-08 14:50:31,318 [info] Storing function: {\"db\":\"./\",\"name\":\"hello-world-handler\",\"uid\":\"8591b6fb92dd457b9ae28d23326f9359\"}\n",
      "> 2025-05-08 14:50:31,319 [warning] Could not detect path to API server, not connected to API server!\n",
      "> 2025-05-08 14:50:31,320 [warning] MLRUN_DBPATH is misconfigured. Set this environment variable to the URL of the API server in order to connect\n",
      "> 2025-05-08 14:50:31,320 [warning] Could not detect path to API server, not connected to API server!\n",
      "> 2025-05-08 14:50:31,320 [warning] MLRUN_DBPATH is misconfigured. Set this environment variable to the URL of the API server in order to connect\n",
      "> 2025-05-08 14:50:31,320 [error] Failed remote run: {\"error\":\"'NopDB' object has no attribute 'submit_job'\"}\n",
      "> 2025-05-08 14:50:31,321 [warning] Could not detect path to API server, not connected to API server!\n",
      "> 2025-05-08 14:50:31,321 [warning] MLRUN_DBPATH is misconfigured. Set this environment variable to the URL of the API server in order to connect\n",
      "> 2025-05-08 14:50:31,321 [warning] Could not detect path to API server, not connected to API server!\n",
      "> 2025-05-08 14:50:31,322 [warning] MLRUN_DBPATH is misconfigured. Set this environment variable to the URL of the API server in order to connect\n"
     ]
    },
    {
     "data": {
      "text/html": [
       "<style>\n",
       ".dictlist {\n",
       "  background-color: #4EC64B;\n",
       "  text-align: center;\n",
       "  margin: 4px;\n",
       "  border-radius: 3px; padding: 0px 3px 1px 3px; display: inline-block;}\n",
       ".artifact {\n",
       "  cursor: pointer;\n",
       "  background-color: #4EC64B;\n",
       "  text-align: left;\n",
       "  margin: 4px; border-radius: 3px; padding: 0px 3px 1px 3px; display: inline-block;\n",
       "}\n",
       "div.block.hidden {\n",
       "  display: none;\n",
       "}\n",
       ".clickable {\n",
       "  cursor: pointer;\n",
       "}\n",
       ".ellipsis {\n",
       "  display: inline-block;\n",
       "  max-width: 60px;\n",
       "  white-space: nowrap;\n",
       "  overflow: hidden;\n",
       "  text-overflow: ellipsis;\n",
       "}\n",
       ".master-wrapper {\n",
       "  display: flex;\n",
       "  flex-flow: row nowrap;\n",
       "  justify-content: flex-start;\n",
       "  align-items: stretch;\n",
       "}\n",
       ".master-tbl {\n",
       "  flex: 3\n",
       "}\n",
       ".master-wrapper > div {\n",
       "  margin: 4px;\n",
       "  padding: 10px;\n",
       "}\n",
       "iframe.fileview {\n",
       "  border: 0 none;\n",
       "  height: 100%;\n",
       "  width: 100%;\n",
       "  white-space: pre-wrap;\n",
       "}\n",
       ".pane-header-title {\n",
       "  width: 80%;\n",
       "  font-weight: 500;\n",
       "}\n",
       ".pane-header {\n",
       "  line-height: 1;\n",
       "  background-color: #4EC64B;\n",
       "  padding: 3px;\n",
       "}\n",
       ".pane-header .close {\n",
       "  font-size: 20px;\n",
       "  font-weight: 700;\n",
       "  float: right;\n",
       "  margin-top: -5px;\n",
       "}\n",
       ".master-wrapper .right-pane {\n",
       "  border: 1px inset silver;\n",
       "  width: 40%;\n",
       "  min-height: 300px;\n",
       "  flex: 3\n",
       "  min-width: 500px;\n",
       "}\n",
       ".master-wrapper * {\n",
       "  box-sizing: border-box;\n",
       "}\n",
       "</style><script>\n",
       "function copyToClipboard(fld) {\n",
       "    if (document.queryCommandSupported && document.queryCommandSupported('copy')) {\n",
       "        var textarea = document.createElement('textarea');\n",
       "        textarea.textContent = fld.innerHTML;\n",
       "        textarea.style.position = 'fixed';\n",
       "        document.body.appendChild(textarea);\n",
       "        textarea.select();\n",
       "\n",
       "        try {\n",
       "            return document.execCommand('copy'); // Security exception may be thrown by some browsers.\n",
       "        } catch (ex) {\n",
       "\n",
       "        } finally {\n",
       "            document.body.removeChild(textarea);\n",
       "        }\n",
       "    }\n",
       "}\n",
       "function expandPanel(el) {\n",
       "  const panelName = \"#\" + el.getAttribute('paneName');\n",
       "\n",
       "  // Get the base URL of the current notebook\n",
       "  var baseUrl = window.location.origin;\n",
       "\n",
       "  // Construct the full URL\n",
       "  var fullUrl = new URL(el.title, baseUrl).href;\n",
       "\n",
       "  document.querySelector(panelName + \"-title\").innerHTML = fullUrl\n",
       "  iframe = document.querySelector(panelName + \"-body\");\n",
       "\n",
       "  const tblcss = `<style> body { font-family: Arial, Helvetica, sans-serif;}\n",
       "    #csv { margin-bottom: 15px; }\n",
       "    #csv table { border-collapse: collapse;}\n",
       "    #csv table td { padding: 4px 8px; border: 1px solid silver;} </style>`;\n",
       "\n",
       "  function csvToHtmlTable(str) {\n",
       "    return '<div id=\"csv\"><table><tr><td>' +  str.replace(/[\\n\\r]+$/g, '').replace(/[\\n\\r]+/g, '</td></tr><tr><td>')\n",
       "      .replace(/,/g, '</td><td>') + '</td></tr></table></div>';\n",
       "  }\n",
       "\n",
       "  function reqListener () {\n",
       "    if (fullUrl.endsWith(\".csv\")) {\n",
       "      iframe.setAttribute(\"srcdoc\", tblcss + csvToHtmlTable(this.responseText));\n",
       "    } else {\n",
       "      iframe.setAttribute(\"srcdoc\", this.responseText);\n",
       "    }\n",
       "    console.log(this.responseText);\n",
       "  }\n",
       "\n",
       "  const oReq = new XMLHttpRequest();\n",
       "  oReq.addEventListener(\"load\", reqListener);\n",
       "  oReq.open(\"GET\", fullUrl);\n",
       "  oReq.send();\n",
       "\n",
       "\n",
       "  //iframe.src = fullUrl;\n",
       "  const resultPane = document.querySelector(panelName + \"-pane\");\n",
       "  if (resultPane.classList.contains(\"hidden\")) {\n",
       "    resultPane.classList.remove(\"hidden\");\n",
       "  }\n",
       "}\n",
       "function closePanel(el) {\n",
       "  const panelName = \"#\" + el.getAttribute('paneName')\n",
       "  const resultPane = document.querySelector(panelName + \"-pane\");\n",
       "  if (!resultPane.classList.contains(\"hidden\")) {\n",
       "    resultPane.classList.add(\"hidden\");\n",
       "  }\n",
       "}\n",
       "\n",
       "</script>\n",
       "<div class=\"master-wrapper\">\n",
       "  <div class=\"block master-tbl\"><div>\n",
       "<style scoped>\n",
       "    .dataframe tbody tr th:only-of-type {\n",
       "        vertical-align: middle;\n",
       "    }\n",
       "\n",
       "    .dataframe tbody tr th {\n",
       "        vertical-align: top;\n",
       "    }\n",
       "\n",
       "    .dataframe thead th {\n",
       "        text-align: right;\n",
       "    }\n",
       "</style>\n",
       "<table border=\"1\" class=\"dataframe\">\n",
       "  <thead>\n",
       "    <tr style=\"text-align: right;\">\n",
       "      <th>project</th>\n",
       "      <th>uid</th>\n",
       "      <th>iter</th>\n",
       "      <th>start</th>\n",
       "      <th>state</th>\n",
       "      <th>kind</th>\n",
       "      <th>name</th>\n",
       "      <th>labels</th>\n",
       "      <th>inputs</th>\n",
       "      <th>parameters</th>\n",
       "      <th>results</th>\n",
       "    </tr>\n",
       "  </thead>\n",
       "  <tbody>\n",
       "    <tr>\n",
       "      <td>basic-tests</td>\n",
       "      <td><div title=\"8591b6fb92dd457b9ae28d23326f9359\">...6f9359</div></td>\n",
       "      <td>0</td>\n",
       "      <td></td>\n",
       "      <td>created</td>\n",
       "      <td></td>\n",
       "      <td>hello-world-handler</td>\n",
       "      <td><div class=\"dictlist\">kind=job</div><div class=\"dictlist\">owner=johnny</div></td>\n",
       "      <td></td>\n",
       "      <td></td>\n",
       "      <td></td>\n",
       "    </tr>\n",
       "  </tbody>\n",
       "</table>\n",
       "</div></div>\n",
       "  <div id=\"result8cf880e4-pane\" class=\"right-pane block hidden\">\n",
       "    <div class=\"pane-header\">\n",
       "      <span id=\"result8cf880e4-title\" class=\"pane-header-title\">Title</span>\n",
       "      <span onclick=\"closePanel(this)\" paneName=\"result8cf880e4\" class=\"close clickable\">&times;</span>\n",
       "    </div>\n",
       "    <iframe class=\"fileview\" id=\"result8cf880e4-body\"></iframe>\n",
       "  </div>\n",
       "</div>\n"
      ],
      "text/plain": [
       "<IPython.core.display.HTML object>"
      ]
     },
     "metadata": {},
     "output_type": "display_data"
    },
    {
     "name": "stdout",
     "output_type": "stream",
     "text": [
      "\n"
     ]
    },
    {
     "data": {
      "text/html": [
       "<b> > to track results use the .show() or .logs() methods </b>"
      ],
      "text/plain": [
       "<IPython.core.display.HTML object>"
      ]
     },
     "metadata": {},
     "output_type": "display_data"
    },
    {
     "name": "stdout",
     "output_type": "stream",
     "text": [
      "> 2025-05-08 14:50:31,335 [info] Run execution finished: {\"name\":\"hello-world-handler\",\"status\":\"created\"}\n"
     ]
    }
   ],
   "source": [
    "run = hello_world.run(function=hello_world,\n",
    "                      handler='handler',\n",
    "                      local=MLRUN_LOCAL,\n",
    "                      image=\"mlrun/mlrun\",\n",
    "                      watch=True)"
   ]
  },
  {
   "cell_type": "code",
   "execution_count": 10,
   "metadata": {},
   "outputs": [
    {
     "name": "stderr",
     "output_type": "stream",
     "text": [
      "2025-05-08 14:50:31 INFO [__main__] Run ID: 8591b6fb92dd457b9ae28d23326f9359\n",
      "2025-05-08 14:50:31 INFO [__main__] Run state: created\n",
      "2025-05-08 14:50:31 INFO [__main__] Run results: None\n"
     ]
    }
   ],
   "source": [
    "# get the run results\n",
    "logger.info(f\"Run ID: {run.metadata.uid}\")\n",
    "logger.info(f\"Run state: {run.status.state}\")\n",
    "logger.info(f\"Run results: {run.status.results}\")"
   ]
  }
 ],
 "metadata": {
  "kernelspec": {
   "display_name": "local-mlrun",
   "language": "python",
   "name": "python3"
  },
  "language_info": {
   "codemirror_mode": {
    "name": "ipython",
    "version": 3
   },
   "file_extension": ".py",
   "mimetype": "text/x-python",
   "name": "python",
   "nbconvert_exporter": "python",
   "pygments_lexer": "ipython3",
   "version": "3.11.12"
  }
 },
 "nbformat": 4,
 "nbformat_minor": 2
}
