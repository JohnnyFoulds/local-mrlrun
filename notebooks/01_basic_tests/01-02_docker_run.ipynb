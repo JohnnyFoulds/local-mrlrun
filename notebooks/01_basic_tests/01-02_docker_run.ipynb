{
 "cells": [
  {
   "cell_type": "markdown",
   "metadata": {},
   "source": [
    "# 01-02 : Docker Run\n",
    "\n",
    "Attempt to run only the function in a docker container. MLRun will still be running only in the local environment."
   ]
  },
  {
   "cell_type": "code",
   "execution_count": 52,
   "metadata": {},
   "outputs": [],
   "source": [
    "import os\n",
    "\n",
    "import mlrun"
   ]
  },
  {
   "cell_type": "code",
   "execution_count": 53,
   "metadata": {},
   "outputs": [],
   "source": [
    "import logging\n",
    "\n",
    "# configure log format\n",
    "logging.basicConfig(\n",
    "    level=logging.INFO,\n",
    "    format='%(asctime)s %(levelname)s [%(name)s] %(message)s',\n",
    "    datefmt='%Y-%m-%d %H:%M:%S'\n",
    ")\n",
    "\n",
    "# get the logger\n",
    "logger = logging.getLogger(__name__)"
   ]
  },
  {
   "cell_type": "markdown",
   "metadata": {},
   "source": [
    "## 1. Configuration"
   ]
  },
  {
   "cell_type": "code",
   "execution_count": 54,
   "metadata": {},
   "outputs": [],
   "source": [
    "# set to run locally\n",
    "MLRUN_LOCAL = False \n",
    "\n",
    "# set the artifact path to the local directory\n",
    "MLRUN_ARTIFACT_PATH = os.path.abspath(\"../artifacts\")\n",
    "\n",
    "# set the docker image to use\n",
    "MLRUN_DOCKER_IMAGE = \"mlrun/mlrun\""
   ]
  },
  {
   "cell_type": "markdown",
   "metadata": {},
   "source": [
    "## 1. Set Project"
   ]
  },
  {
   "cell_type": "code",
   "execution_count": 55,
   "metadata": {},
   "outputs": [
    {
     "name": "stdout",
     "output_type": "stream",
     "text": [
      "> 2025-05-07 14:33:53,848 [warning] Could not detect path to API server, not connected to API server!\n",
      "> 2025-05-07 14:33:53,849 [warning] MLRUN_DBPATH is misconfigured. Set this environment variable to the URL of the API server in order to connect\n",
      "> 2025-05-07 14:33:53,849 [info] Loading project from path: {\"path\":\"./\",\"project_name\":\"basic-tests\",\"user_project\":false}\n",
      "> 2025-05-07 14:33:53,880 [warning] Could not detect path to API server, not connected to API server!\n",
      "> 2025-05-07 14:33:53,881 [warning] MLRUN_DBPATH is misconfigured. Set this environment variable to the URL of the API server in order to connect\n",
      "> 2025-05-07 14:33:53,881 [info] Project loaded successfully: {\"path\":\"./\",\"project_name\":\"basic-tests\",\"stored_in_db\":true}\n",
      "> 2025-05-07 14:33:53,883 [warning] Could not detect path to API server, not connected to API server!\n",
      "> 2025-05-07 14:33:53,883 [warning] MLRUN_DBPATH is misconfigured. Set this environment variable to the URL of the API server in order to connect\n"
     ]
    },
    {
     "data": {
      "text/plain": [
       "<mlrun.projects.project.MlrunProject at 0x176403550>"
      ]
     },
     "execution_count": 55,
     "metadata": {},
     "output_type": "execute_result"
    }
   ],
   "source": [
    "project = mlrun.get_or_create_project(\n",
    "    name='basic-tests',\n",
    "    context='./',) \n",
    "\n",
    "# set the artifact path to the local directory\n",
    "project.artifact_path = MLRUN_ARTIFACT_PATH\n",
    "project.save()"
   ]
  },
  {
   "cell_type": "markdown",
   "metadata": {},
   "source": [
    "## 2. Create Function"
   ]
  },
  {
   "cell_type": "markdown",
   "metadata": {},
   "source": [
    "### 2.1 Create Function Code File"
   ]
  },
  {
   "cell_type": "code",
   "execution_count": 56,
   "metadata": {},
   "outputs": [
    {
     "name": "stdout",
     "output_type": "stream",
     "text": [
      "Overwriting hello_world.py\n"
     ]
    }
   ],
   "source": [
    "%%writefile hello_world.py\n",
    "\n",
    "import mlrun\n",
    "\n",
    "# get the logger\n",
    "import logging\n",
    "logger = logging.getLogger(__name__)\n",
    "\n",
    "def handler(context: mlrun.MLClientCtx = None):\n",
    "    logger.info(\"Hello world\")\n",
    "\n",
    "    context.log_result(\"hello\", \"world\")"
   ]
  },
  {
   "cell_type": "markdown",
   "metadata": {},
   "source": [
    "### 2.2 Create Project Function"
   ]
  },
  {
   "cell_type": "code",
   "execution_count": 57,
   "metadata": {},
   "outputs": [
    {
     "name": "stdout",
     "output_type": "stream",
     "text": [
      "\u001b[0;31mSignature:\u001b[0m\n",
      "\u001b[0mmlrun\u001b[0m\u001b[0;34m.\u001b[0m\u001b[0mcode_to_function\u001b[0m\u001b[0;34m(\u001b[0m\u001b[0;34m\u001b[0m\n",
      "\u001b[0;34m\u001b[0m    \u001b[0mname\u001b[0m\u001b[0;34m:\u001b[0m \u001b[0mOptional\u001b[0m\u001b[0;34m[\u001b[0m\u001b[0mstr\u001b[0m\u001b[0;34m]\u001b[0m \u001b[0;34m=\u001b[0m \u001b[0;34m''\u001b[0m\u001b[0;34m,\u001b[0m\u001b[0;34m\u001b[0m\n",
      "\u001b[0;34m\u001b[0m    \u001b[0mproject\u001b[0m\u001b[0;34m:\u001b[0m \u001b[0mOptional\u001b[0m\u001b[0;34m[\u001b[0m\u001b[0mstr\u001b[0m\u001b[0;34m]\u001b[0m \u001b[0;34m=\u001b[0m \u001b[0;34m''\u001b[0m\u001b[0;34m,\u001b[0m\u001b[0;34m\u001b[0m\n",
      "\u001b[0;34m\u001b[0m    \u001b[0mtag\u001b[0m\u001b[0;34m:\u001b[0m \u001b[0mOptional\u001b[0m\u001b[0;34m[\u001b[0m\u001b[0mstr\u001b[0m\u001b[0;34m]\u001b[0m \u001b[0;34m=\u001b[0m \u001b[0;34m''\u001b[0m\u001b[0;34m,\u001b[0m\u001b[0;34m\u001b[0m\n",
      "\u001b[0;34m\u001b[0m    \u001b[0mfilename\u001b[0m\u001b[0;34m:\u001b[0m \u001b[0mOptional\u001b[0m\u001b[0;34m[\u001b[0m\u001b[0mstr\u001b[0m\u001b[0;34m]\u001b[0m \u001b[0;34m=\u001b[0m \u001b[0;34m''\u001b[0m\u001b[0;34m,\u001b[0m\u001b[0;34m\u001b[0m\n",
      "\u001b[0;34m\u001b[0m    \u001b[0mhandler\u001b[0m\u001b[0;34m:\u001b[0m \u001b[0mOptional\u001b[0m\u001b[0;34m[\u001b[0m\u001b[0mstr\u001b[0m\u001b[0;34m]\u001b[0m \u001b[0;34m=\u001b[0m \u001b[0;34m''\u001b[0m\u001b[0;34m,\u001b[0m\u001b[0;34m\u001b[0m\n",
      "\u001b[0;34m\u001b[0m    \u001b[0mkind\u001b[0m\u001b[0;34m:\u001b[0m \u001b[0mOptional\u001b[0m\u001b[0;34m[\u001b[0m\u001b[0mstr\u001b[0m\u001b[0;34m]\u001b[0m \u001b[0;34m=\u001b[0m \u001b[0;34m''\u001b[0m\u001b[0;34m,\u001b[0m\u001b[0;34m\u001b[0m\n",
      "\u001b[0;34m\u001b[0m    \u001b[0mimage\u001b[0m\u001b[0;34m:\u001b[0m \u001b[0mOptional\u001b[0m\u001b[0;34m[\u001b[0m\u001b[0mstr\u001b[0m\u001b[0;34m]\u001b[0m \u001b[0;34m=\u001b[0m \u001b[0;32mNone\u001b[0m\u001b[0;34m,\u001b[0m\u001b[0;34m\u001b[0m\n",
      "\u001b[0;34m\u001b[0m    \u001b[0mcode_output\u001b[0m\u001b[0;34m:\u001b[0m \u001b[0mOptional\u001b[0m\u001b[0;34m[\u001b[0m\u001b[0mstr\u001b[0m\u001b[0;34m]\u001b[0m \u001b[0;34m=\u001b[0m \u001b[0;34m''\u001b[0m\u001b[0;34m,\u001b[0m\u001b[0;34m\u001b[0m\n",
      "\u001b[0;34m\u001b[0m    \u001b[0membed_code\u001b[0m\u001b[0;34m:\u001b[0m \u001b[0mbool\u001b[0m \u001b[0;34m=\u001b[0m \u001b[0;32mTrue\u001b[0m\u001b[0;34m,\u001b[0m\u001b[0;34m\u001b[0m\n",
      "\u001b[0;34m\u001b[0m    \u001b[0mdescription\u001b[0m\u001b[0;34m:\u001b[0m \u001b[0mOptional\u001b[0m\u001b[0;34m[\u001b[0m\u001b[0mstr\u001b[0m\u001b[0;34m]\u001b[0m \u001b[0;34m=\u001b[0m \u001b[0;34m''\u001b[0m\u001b[0;34m,\u001b[0m\u001b[0;34m\u001b[0m\n",
      "\u001b[0;34m\u001b[0m    \u001b[0mrequirements\u001b[0m\u001b[0;34m:\u001b[0m \u001b[0mUnion\u001b[0m\u001b[0;34m[\u001b[0m\u001b[0mstr\u001b[0m\u001b[0;34m,\u001b[0m \u001b[0mlist\u001b[0m\u001b[0;34m[\u001b[0m\u001b[0mstr\u001b[0m\u001b[0;34m]\u001b[0m\u001b[0;34m,\u001b[0m \u001b[0mNoneType\u001b[0m\u001b[0;34m]\u001b[0m \u001b[0;34m=\u001b[0m \u001b[0;32mNone\u001b[0m\u001b[0;34m,\u001b[0m\u001b[0;34m\u001b[0m\n",
      "\u001b[0;34m\u001b[0m    \u001b[0mcategories\u001b[0m\u001b[0;34m:\u001b[0m \u001b[0mOptional\u001b[0m\u001b[0;34m[\u001b[0m\u001b[0mlist\u001b[0m\u001b[0;34m[\u001b[0m\u001b[0mstr\u001b[0m\u001b[0;34m]\u001b[0m\u001b[0;34m]\u001b[0m \u001b[0;34m=\u001b[0m \u001b[0;32mNone\u001b[0m\u001b[0;34m,\u001b[0m\u001b[0;34m\u001b[0m\n",
      "\u001b[0;34m\u001b[0m    \u001b[0mlabels\u001b[0m\u001b[0;34m:\u001b[0m \u001b[0mOptional\u001b[0m\u001b[0;34m[\u001b[0m\u001b[0mdict\u001b[0m\u001b[0;34m[\u001b[0m\u001b[0mstr\u001b[0m\u001b[0;34m,\u001b[0m \u001b[0mstr\u001b[0m\u001b[0;34m]\u001b[0m\u001b[0;34m]\u001b[0m \u001b[0;34m=\u001b[0m \u001b[0;32mNone\u001b[0m\u001b[0;34m,\u001b[0m\u001b[0;34m\u001b[0m\n",
      "\u001b[0;34m\u001b[0m    \u001b[0mwith_doc\u001b[0m\u001b[0;34m:\u001b[0m \u001b[0mOptional\u001b[0m\u001b[0;34m[\u001b[0m\u001b[0mbool\u001b[0m\u001b[0;34m]\u001b[0m \u001b[0;34m=\u001b[0m \u001b[0;32mTrue\u001b[0m\u001b[0;34m,\u001b[0m\u001b[0;34m\u001b[0m\n",
      "\u001b[0;34m\u001b[0m    \u001b[0mignored_tags\u001b[0m\u001b[0;34m:\u001b[0m \u001b[0mOptional\u001b[0m\u001b[0;34m[\u001b[0m\u001b[0mstr\u001b[0m\u001b[0;34m]\u001b[0m \u001b[0;34m=\u001b[0m \u001b[0;32mNone\u001b[0m\u001b[0;34m,\u001b[0m\u001b[0;34m\u001b[0m\n",
      "\u001b[0;34m\u001b[0m    \u001b[0mrequirements_file\u001b[0m\u001b[0;34m:\u001b[0m \u001b[0mOptional\u001b[0m\u001b[0;34m[\u001b[0m\u001b[0mstr\u001b[0m\u001b[0;34m]\u001b[0m \u001b[0;34m=\u001b[0m \u001b[0;34m''\u001b[0m\u001b[0;34m,\u001b[0m\u001b[0;34m\u001b[0m\n",
      "\u001b[0;34m\u001b[0m\u001b[0;34m)\u001b[0m \u001b[0;34m->\u001b[0m \u001b[0mUnion\u001b[0m\u001b[0;34m[\u001b[0m\u001b[0mmlrun\u001b[0m\u001b[0;34m.\u001b[0m\u001b[0mruntimes\u001b[0m\u001b[0;34m.\u001b[0m\u001b[0mmpijob\u001b[0m\u001b[0;34m.\u001b[0m\u001b[0mv1\u001b[0m\u001b[0;34m.\u001b[0m\u001b[0mMpiRuntimeV1\u001b[0m\u001b[0;34m,\u001b[0m \u001b[0mmlrun\u001b[0m\u001b[0;34m.\u001b[0m\u001b[0mruntimes\u001b[0m\u001b[0;34m.\u001b[0m\u001b[0mnuclio\u001b[0m\u001b[0;34m.\u001b[0m\u001b[0mfunction\u001b[0m\u001b[0;34m.\u001b[0m\u001b[0mRemoteRuntime\u001b[0m\u001b[0;34m,\u001b[0m \u001b[0mmlrun\u001b[0m\u001b[0;34m.\u001b[0m\u001b[0mruntimes\u001b[0m\u001b[0;34m.\u001b[0m\u001b[0mnuclio\u001b[0m\u001b[0;34m.\u001b[0m\u001b[0mserving\u001b[0m\u001b[0;34m.\u001b[0m\u001b[0mServingRuntime\u001b[0m\u001b[0;34m,\u001b[0m \u001b[0mmlrun\u001b[0m\u001b[0;34m.\u001b[0m\u001b[0mruntimes\u001b[0m\u001b[0;34m.\u001b[0m\u001b[0mdaskjob\u001b[0m\u001b[0;34m.\u001b[0m\u001b[0mDaskCluster\u001b[0m\u001b[0;34m,\u001b[0m \u001b[0mmlrun\u001b[0m\u001b[0;34m.\u001b[0m\u001b[0mruntimes\u001b[0m\u001b[0;34m.\u001b[0m\u001b[0mkubejob\u001b[0m\u001b[0;34m.\u001b[0m\u001b[0mKubejobRuntime\u001b[0m\u001b[0;34m,\u001b[0m \u001b[0mmlrun\u001b[0m\u001b[0;34m.\u001b[0m\u001b[0mruntimes\u001b[0m\u001b[0;34m.\u001b[0m\u001b[0mlocal\u001b[0m\u001b[0;34m.\u001b[0m\u001b[0mLocalRuntime\u001b[0m\u001b[0;34m,\u001b[0m \u001b[0mmlrun\u001b[0m\u001b[0;34m.\u001b[0m\u001b[0mruntimes\u001b[0m\u001b[0;34m.\u001b[0m\u001b[0msparkjob\u001b[0m\u001b[0;34m.\u001b[0m\u001b[0mspark3job\u001b[0m\u001b[0;34m.\u001b[0m\u001b[0mSpark3Runtime\u001b[0m\u001b[0;34m,\u001b[0m \u001b[0mmlrun\u001b[0m\u001b[0;34m.\u001b[0m\u001b[0mruntimes\u001b[0m\u001b[0;34m.\u001b[0m\u001b[0mremotesparkjob\u001b[0m\u001b[0;34m.\u001b[0m\u001b[0mRemoteSparkRuntime\u001b[0m\u001b[0;34m,\u001b[0m \u001b[0mmlrun\u001b[0m\u001b[0;34m.\u001b[0m\u001b[0mruntimes\u001b[0m\u001b[0;34m.\u001b[0m\u001b[0mdatabricks_job\u001b[0m\u001b[0;34m.\u001b[0m\u001b[0mdatabricks_runtime\u001b[0m\u001b[0;34m.\u001b[0m\u001b[0mDatabricksRuntime\u001b[0m\u001b[0;34m,\u001b[0m \u001b[0mmlrun\u001b[0m\u001b[0;34m.\u001b[0m\u001b[0mruntimes\u001b[0m\u001b[0;34m.\u001b[0m\u001b[0mnuclio\u001b[0m\u001b[0;34m.\u001b[0m\u001b[0mapplication\u001b[0m\u001b[0;34m.\u001b[0m\u001b[0mapplication\u001b[0m\u001b[0;34m.\u001b[0m\u001b[0mApplicationRuntime\u001b[0m\u001b[0;34m]\u001b[0m\u001b[0;34m\u001b[0m\u001b[0;34m\u001b[0m\u001b[0m\n",
      "\u001b[0;31mDocstring:\u001b[0m\n",
      "Convenience function to insert code and configure an mlrun runtime.\n",
      "\n",
      "Easiest way to construct a runtime type object. Provides the most often\n",
      "used configuration options for all runtimes as parameters.\n",
      "\n",
      "Instantiated runtimes are considered 'functions' in mlrun, but they are\n",
      "anything from nuclio functions to generic kubernetes pods to spark jobs.\n",
      "Functions are meant to be focused, and as such limited in scope and size.\n",
      "Typically, a function can be expressed in a single python module with\n",
      "added support from custom docker images and commands for the environment.\n",
      "The returned runtime object can be further configured if more\n",
      "customization is required.\n",
      "\n",
      "One of the most important parameters is 'kind'. This is what is used to\n",
      "specify the chosen runtimes. The options are:\n",
      "\n",
      "- local: execute a local python or shell script\n",
      "- job: insert the code into a Kubernetes pod and execute it\n",
      "- nuclio: insert the code into a real-time serverless nuclio function\n",
      "- serving: insert code into orchestrated nuclio function(s) forming a DAG\n",
      "- dask: run the specified python code / script as Dask Distributed job\n",
      "- mpijob: run distributed Horovod jobs over the MPI job operator\n",
      "- spark: run distributed Spark job using Spark Kubernetes Operator\n",
      "- remote-spark: run distributed Spark job on remote Spark service\n",
      "- databricks: run code on Databricks cluster (python scripts, Spark etc.)\n",
      "- application: run a long living application (e.g. a web server, UI, etc.)\n",
      "\n",
      "Learn more about :doc:`../../concepts/functions-overview`\n",
      "\n",
      ":param name:         function name, typically best to use hyphen-case\n",
      ":param project:      project used to namespace the function, defaults to 'default'\n",
      ":param tag:          function tag to track multiple versions of the same function, defaults to 'latest'\n",
      ":param filename:     path to .py/.ipynb file, defaults to current jupyter notebook\n",
      ":param handler:      The default function handler to call for the job or nuclio function, in batch functions\n",
      "                     (job, mpijob, ..) the handler can also be specified in the `.run()` command, when not specified\n",
      "                     the entire file will be executed (as main).\n",
      "                     for nuclio functions the handler is in the form of module:function, defaults to 'main:handler'\n",
      ":param kind:         function runtime type string - nuclio, job, etc. (see docstring for all options)\n",
      ":param image:        base docker image to use for building the function container, defaults to None\n",
      ":param code_output:  specify '.' to generate python module from the current jupyter notebook\n",
      ":param embed_code:   indicates whether or not to inject the code directly into the function runtime spec,\n",
      "                     defaults to True\n",
      ":param description:  short function description, defaults to ''\n",
      ":param requirements: a list of python packages\n",
      ":param requirements_file: path to a python requirements file\n",
      ":param categories:   list of categories for mlrun Function Hub, defaults to None\n",
      ":param labels:       name/value pairs dict to tag the function with useful metadata, defaults to None\n",
      ":param with_doc:     indicates whether to document the function parameters, defaults to True\n",
      ":param ignored_tags: notebook cells to ignore when converting notebooks to py code (separated by ';')\n",
      "\n",
      ":return:\n",
      "    pre-configured function object from a mlrun runtime class\n",
      "\n",
      "example::\n",
      "\n",
      "    import mlrun\n",
      "\n",
      "    # create job function object from notebook code and add doc/metadata\n",
      "    fn = mlrun.code_to_function(\n",
      "        \"file_utils\",\n",
      "        kind=\"job\",\n",
      "        handler=\"open_archive\",\n",
      "        image=\"mlrun/mlrun\",\n",
      "        description=\"this function opens a zip archive into a local/mounted folder\",\n",
      "        categories=[\"fileutils\"],\n",
      "        labels={\"author\": \"me\"},\n",
      "    )\n",
      "\n",
      "example::\n",
      "\n",
      "    import mlrun\n",
      "    from pathlib import Path\n",
      "\n",
      "    # create file\n",
      "    Path(\"mover.py\").touch()\n",
      "\n",
      "    # create nuclio function object from python module call mover.py\n",
      "    fn = mlrun.code_to_function(\n",
      "        \"nuclio-mover\",\n",
      "        kind=\"nuclio\",\n",
      "        filename=\"mover.py\",\n",
      "        image=\"python:3.9\",\n",
      "        description=\"this function moves files from one system to another\",\n",
      "        requirements=[\"pandas\"],\n",
      "        labels={\"author\": \"me\"},\n",
      "    )\n",
      "\u001b[0;31mFile:\u001b[0m      /opt/homebrew/Caskroom/miniconda/base/envs/local-mlrun/lib/python3.11/site-packages/mlrun/run.py\n",
      "\u001b[0;31mType:\u001b[0m      function"
     ]
    }
   ],
   "source": [
    "?mlrun.code_to_function"
   ]
  },
  {
   "cell_type": "code",
   "execution_count": 58,
   "metadata": {},
   "outputs": [
    {
     "name": "stdout",
     "output_type": "stream",
     "text": [
      "> 2025-05-07 14:33:53,942 [warning] Could not detect path to API server, not connected to API server!\n",
      "> 2025-05-07 14:33:53,943 [warning] MLRUN_DBPATH is misconfigured. Set this environment variable to the URL of the API server in order to connect\n"
     ]
    },
    {
     "data": {
      "text/plain": [
       "'db://basic-tests/hello-world'"
      ]
     },
     "execution_count": 58,
     "metadata": {},
     "output_type": "execute_result"
    }
   ],
   "source": [
    "hello_world = mlrun.code_to_function(\n",
    "    name='hello-world',\n",
    "    project='basic-tests',\n",
    "    filename='hello_world.py',\n",
    "    handler='handler',\n",
    "    kind='job',\n",
    "    image=MLRUN_DOCKER_IMAGE,\n",
    "    description='Hello world function',\n",
    ")\n",
    "hello_world.save()"
   ]
  },
  {
   "cell_type": "markdown",
   "metadata": {},
   "source": [
    "## 3. Run Function"
   ]
  },
  {
   "cell_type": "code",
   "execution_count": 59,
   "metadata": {},
   "outputs": [
    {
     "name": "stdout",
     "output_type": "stream",
     "text": [
      "> 2025-05-07 14:33:53,953 [warning] Artifact output path is local while no volume mount is specified. Artifacts would not be visible via UI.: {\"output_path\":\"/Users/foulds/code/local-mrlrun/notebooks/artifacts\"}\n",
      "> 2025-05-07 14:33:53,954 [info] Storing function: {\"db\":\"./\",\"name\":\"hello-world-handler\",\"uid\":\"b35c58ea350d4bbf8808f39acdb09fa3\"}\n",
      "> 2025-05-07 14:33:53,956 [warning] Could not detect path to API server, not connected to API server!\n",
      "> 2025-05-07 14:33:53,956 [warning] MLRUN_DBPATH is misconfigured. Set this environment variable to the URL of the API server in order to connect\n",
      "> 2025-05-07 14:33:53,957 [warning] Could not detect path to API server, not connected to API server!\n",
      "> 2025-05-07 14:33:53,957 [warning] MLRUN_DBPATH is misconfigured. Set this environment variable to the URL of the API server in order to connect\n",
      "> 2025-05-07 14:33:53,957 [error] Failed remote run: {\"error\":\"'NopDB' object has no attribute 'submit_job'\"}\n",
      "> 2025-05-07 14:33:53,958 [warning] Could not detect path to API server, not connected to API server!\n",
      "> 2025-05-07 14:33:53,958 [warning] MLRUN_DBPATH is misconfigured. Set this environment variable to the URL of the API server in order to connect\n",
      "> 2025-05-07 14:33:53,958 [warning] Could not detect path to API server, not connected to API server!\n",
      "> 2025-05-07 14:33:53,958 [warning] MLRUN_DBPATH is misconfigured. Set this environment variable to the URL of the API server in order to connect\n"
     ]
    },
    {
     "data": {
      "text/html": [
       "<style>\n",
       ".dictlist {\n",
       "  background-color: #4EC64B;\n",
       "  text-align: center;\n",
       "  margin: 4px;\n",
       "  border-radius: 3px; padding: 0px 3px 1px 3px; display: inline-block;}\n",
       ".artifact {\n",
       "  cursor: pointer;\n",
       "  background-color: #4EC64B;\n",
       "  text-align: left;\n",
       "  margin: 4px; border-radius: 3px; padding: 0px 3px 1px 3px; display: inline-block;\n",
       "}\n",
       "div.block.hidden {\n",
       "  display: none;\n",
       "}\n",
       ".clickable {\n",
       "  cursor: pointer;\n",
       "}\n",
       ".ellipsis {\n",
       "  display: inline-block;\n",
       "  max-width: 60px;\n",
       "  white-space: nowrap;\n",
       "  overflow: hidden;\n",
       "  text-overflow: ellipsis;\n",
       "}\n",
       ".master-wrapper {\n",
       "  display: flex;\n",
       "  flex-flow: row nowrap;\n",
       "  justify-content: flex-start;\n",
       "  align-items: stretch;\n",
       "}\n",
       ".master-tbl {\n",
       "  flex: 3\n",
       "}\n",
       ".master-wrapper > div {\n",
       "  margin: 4px;\n",
       "  padding: 10px;\n",
       "}\n",
       "iframe.fileview {\n",
       "  border: 0 none;\n",
       "  height: 100%;\n",
       "  width: 100%;\n",
       "  white-space: pre-wrap;\n",
       "}\n",
       ".pane-header-title {\n",
       "  width: 80%;\n",
       "  font-weight: 500;\n",
       "}\n",
       ".pane-header {\n",
       "  line-height: 1;\n",
       "  background-color: #4EC64B;\n",
       "  padding: 3px;\n",
       "}\n",
       ".pane-header .close {\n",
       "  font-size: 20px;\n",
       "  font-weight: 700;\n",
       "  float: right;\n",
       "  margin-top: -5px;\n",
       "}\n",
       ".master-wrapper .right-pane {\n",
       "  border: 1px inset silver;\n",
       "  width: 40%;\n",
       "  min-height: 300px;\n",
       "  flex: 3\n",
       "  min-width: 500px;\n",
       "}\n",
       ".master-wrapper * {\n",
       "  box-sizing: border-box;\n",
       "}\n",
       "</style><script>\n",
       "function copyToClipboard(fld) {\n",
       "    if (document.queryCommandSupported && document.queryCommandSupported('copy')) {\n",
       "        var textarea = document.createElement('textarea');\n",
       "        textarea.textContent = fld.innerHTML;\n",
       "        textarea.style.position = 'fixed';\n",
       "        document.body.appendChild(textarea);\n",
       "        textarea.select();\n",
       "\n",
       "        try {\n",
       "            return document.execCommand('copy'); // Security exception may be thrown by some browsers.\n",
       "        } catch (ex) {\n",
       "\n",
       "        } finally {\n",
       "            document.body.removeChild(textarea);\n",
       "        }\n",
       "    }\n",
       "}\n",
       "function expandPanel(el) {\n",
       "  const panelName = \"#\" + el.getAttribute('paneName');\n",
       "\n",
       "  // Get the base URL of the current notebook\n",
       "  var baseUrl = window.location.origin;\n",
       "\n",
       "  // Construct the full URL\n",
       "  var fullUrl = new URL(el.title, baseUrl).href;\n",
       "\n",
       "  document.querySelector(panelName + \"-title\").innerHTML = fullUrl\n",
       "  iframe = document.querySelector(panelName + \"-body\");\n",
       "\n",
       "  const tblcss = `<style> body { font-family: Arial, Helvetica, sans-serif;}\n",
       "    #csv { margin-bottom: 15px; }\n",
       "    #csv table { border-collapse: collapse;}\n",
       "    #csv table td { padding: 4px 8px; border: 1px solid silver;} </style>`;\n",
       "\n",
       "  function csvToHtmlTable(str) {\n",
       "    return '<div id=\"csv\"><table><tr><td>' +  str.replace(/[\\n\\r]+$/g, '').replace(/[\\n\\r]+/g, '</td></tr><tr><td>')\n",
       "      .replace(/,/g, '</td><td>') + '</td></tr></table></div>';\n",
       "  }\n",
       "\n",
       "  function reqListener () {\n",
       "    if (fullUrl.endsWith(\".csv\")) {\n",
       "      iframe.setAttribute(\"srcdoc\", tblcss + csvToHtmlTable(this.responseText));\n",
       "    } else {\n",
       "      iframe.setAttribute(\"srcdoc\", this.responseText);\n",
       "    }\n",
       "    console.log(this.responseText);\n",
       "  }\n",
       "\n",
       "  const oReq = new XMLHttpRequest();\n",
       "  oReq.addEventListener(\"load\", reqListener);\n",
       "  oReq.open(\"GET\", fullUrl);\n",
       "  oReq.send();\n",
       "\n",
       "\n",
       "  //iframe.src = fullUrl;\n",
       "  const resultPane = document.querySelector(panelName + \"-pane\");\n",
       "  if (resultPane.classList.contains(\"hidden\")) {\n",
       "    resultPane.classList.remove(\"hidden\");\n",
       "  }\n",
       "}\n",
       "function closePanel(el) {\n",
       "  const panelName = \"#\" + el.getAttribute('paneName')\n",
       "  const resultPane = document.querySelector(panelName + \"-pane\");\n",
       "  if (!resultPane.classList.contains(\"hidden\")) {\n",
       "    resultPane.classList.add(\"hidden\");\n",
       "  }\n",
       "}\n",
       "\n",
       "</script>\n",
       "<div class=\"master-wrapper\">\n",
       "  <div class=\"block master-tbl\"><div>\n",
       "<style scoped>\n",
       "    .dataframe tbody tr th:only-of-type {\n",
       "        vertical-align: middle;\n",
       "    }\n",
       "\n",
       "    .dataframe tbody tr th {\n",
       "        vertical-align: top;\n",
       "    }\n",
       "\n",
       "    .dataframe thead th {\n",
       "        text-align: right;\n",
       "    }\n",
       "</style>\n",
       "<table border=\"1\" class=\"dataframe\">\n",
       "  <thead>\n",
       "    <tr style=\"text-align: right;\">\n",
       "      <th>project</th>\n",
       "      <th>uid</th>\n",
       "      <th>iter</th>\n",
       "      <th>start</th>\n",
       "      <th>end</th>\n",
       "      <th>state</th>\n",
       "      <th>kind</th>\n",
       "      <th>name</th>\n",
       "      <th>labels</th>\n",
       "      <th>inputs</th>\n",
       "      <th>parameters</th>\n",
       "      <th>results</th>\n",
       "    </tr>\n",
       "  </thead>\n",
       "  <tbody>\n",
       "    <tr>\n",
       "      <td>basic-tests</td>\n",
       "      <td><div title=\"b35c58ea350d4bbf8808f39acdb09fa3\">...b09fa3</div></td>\n",
       "      <td>0</td>\n",
       "      <td></td>\n",
       "      <td>NaT</td>\n",
       "      <td>created</td>\n",
       "      <td></td>\n",
       "      <td>hello-world-handler</td>\n",
       "      <td><div class=\"dictlist\">kind=job</div><div class=\"dictlist\">owner=foulds</div></td>\n",
       "      <td></td>\n",
       "      <td></td>\n",
       "      <td></td>\n",
       "    </tr>\n",
       "  </tbody>\n",
       "</table>\n",
       "</div></div>\n",
       "  <div id=\"result7cbc3bd7-pane\" class=\"right-pane block hidden\">\n",
       "    <div class=\"pane-header\">\n",
       "      <span id=\"result7cbc3bd7-title\" class=\"pane-header-title\">Title</span>\n",
       "      <span onclick=\"closePanel(this)\" paneName=\"result7cbc3bd7\" class=\"close clickable\">&times;</span>\n",
       "    </div>\n",
       "    <iframe class=\"fileview\" id=\"result7cbc3bd7-body\"></iframe>\n",
       "  </div>\n",
       "</div>\n"
      ],
      "text/plain": [
       "<IPython.core.display.HTML object>"
      ]
     },
     "metadata": {},
     "output_type": "display_data"
    },
    {
     "name": "stdout",
     "output_type": "stream",
     "text": [
      "\n"
     ]
    },
    {
     "data": {
      "text/html": [
       "<b> > to track results use the .show() or .logs() methods </b>"
      ],
      "text/plain": [
       "<IPython.core.display.HTML object>"
      ]
     },
     "metadata": {},
     "output_type": "display_data"
    },
    {
     "name": "stdout",
     "output_type": "stream",
     "text": [
      "> 2025-05-07 14:33:54,111 [info] Run execution finished: {\"name\":\"hello-world-handler\",\"status\":\"created\"}\n"
     ]
    }
   ],
   "source": [
    "run = hello_world.run(function=hello_world,\n",
    "                      handler='handler',\n",
    "                      local=MLRUN_LOCAL)"
   ]
  },
  {
   "cell_type": "code",
   "execution_count": 60,
   "metadata": {},
   "outputs": [
    {
     "name": "stderr",
     "output_type": "stream",
     "text": [
      "2025-05-07 14:33:54 INFO [__main__] Run ID: b35c58ea350d4bbf8808f39acdb09fa3\n",
      "2025-05-07 14:33:54 INFO [__main__] Run state: created\n",
      "2025-05-07 14:33:54 INFO [__main__] Run results: None\n"
     ]
    }
   ],
   "source": [
    "# get the run results\n",
    "logger.info(f\"Run ID: {run.metadata.uid}\")\n",
    "logger.info(f\"Run state: {run.status.state}\")\n",
    "logger.info(f\"Run results: {run.status.results}\")"
   ]
  }
 ],
 "metadata": {
  "kernelspec": {
   "display_name": "local-mlrun",
   "language": "python",
   "name": "python3"
  },
  "language_info": {
   "codemirror_mode": {
    "name": "ipython",
    "version": 3
   },
   "file_extension": ".py",
   "mimetype": "text/x-python",
   "name": "python",
   "nbconvert_exporter": "python",
   "pygments_lexer": "ipython3",
   "version": "3.11.12"
  }
 },
 "nbformat": 4,
 "nbformat_minor": 2
}
