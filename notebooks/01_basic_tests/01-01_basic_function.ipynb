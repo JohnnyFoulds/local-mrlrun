{
 "cells": [
  {
   "cell_type": "markdown",
   "metadata": {},
   "source": [
    "# 01-01 : Basic Function Test\n",
    "\n",
    "Test creating the most basic function directly in the notebook and running it locally."
   ]
  },
  {
   "cell_type": "code",
   "execution_count": null,
   "metadata": {},
   "outputs": [],
   "source": [
    "import os\n",
    "\n",
    "import mlrun"
   ]
  },
  {
   "cell_type": "code",
   "execution_count": null,
   "metadata": {},
   "outputs": [],
   "source": [
    "import logging\n",
    "\n",
    "# configure log format\n",
    "logging.basicConfig(\n",
    "    level=logging.INFO,\n",
    "    format='%(asctime)s %(levelname)s [%(name)s] %(message)s',\n",
    "    datefmt='%Y-%m-%d %H:%M:%S'\n",
    ")\n",
    "\n",
    "# get the logger\n",
    "logger = logging.getLogger(__name__)"
   ]
  },
  {
   "cell_type": "markdown",
   "metadata": {},
   "source": [
    "## 1. Configuration"
   ]
  },
  {
   "cell_type": "code",
   "execution_count": null,
   "metadata": {},
   "outputs": [],
   "source": [
    "# set to run locally\n",
    "MLRUN_LOCAL = True \n",
    "\n",
    "# set the artifact path to the local directory\n",
    "MLRUN_ARTIFACT_PATH = os.path.abspath(\"../artifacts\")"
   ]
  },
  {
   "cell_type": "markdown",
   "metadata": {},
   "source": [
    "## 1. Set Project"
   ]
  },
  {
   "cell_type": "code",
   "execution_count": null,
   "metadata": {},
   "outputs": [],
   "source": [
    "project = mlrun.get_or_create_project(\n",
    "    name='basic-tests',\n",
    "    context='./',) \n",
    "\n",
    "# set the artifact path to the local directory\n",
    "project.artifact_path = MLRUN_ARTIFACT_PATH\n",
    "project.save()"
   ]
  },
  {
   "cell_type": "markdown",
   "metadata": {},
   "source": [
    "## 2. Create Function"
   ]
  },
  {
   "cell_type": "markdown",
   "metadata": {},
   "source": [
    "### 2.1 Create Function Code File"
   ]
  },
  {
   "cell_type": "code",
   "execution_count": null,
   "metadata": {},
   "outputs": [],
   "source": [
    "%%writefile hello_world.py\n",
    "\n",
    "import mlrun\n",
    "\n",
    "# get the logger\n",
    "import logging\n",
    "logger = logging.getLogger(__name__)\n",
    "\n",
    "def handler(context: mlrun.MLClientCtx = None):\n",
    "    logger.info(\"Hello world\")\n",
    "\n",
    "    context.log_result(\"hello\", \"world\")"
   ]
  },
  {
   "cell_type": "markdown",
   "metadata": {},
   "source": [
    "### 2.2 Create Project Function"
   ]
  },
  {
   "cell_type": "code",
   "execution_count": null,
   "metadata": {},
   "outputs": [],
   "source": [
    "hello_world = mlrun.code_to_function(\n",
    "    name='hello-world',\n",
    "    project='basic-tests',\n",
    "    filename='hello_world.py',\n",
    "    handler='handler',\n",
    "    kind='job',\n",
    "    description='Hello world function',\n",
    ")\n",
    "hello_world.save()"
   ]
  },
  {
   "cell_type": "markdown",
   "metadata": {},
   "source": [
    "## 3. Run Function"
   ]
  },
  {
   "cell_type": "code",
   "execution_count": null,
   "metadata": {},
   "outputs": [],
   "source": [
    "run = hello_world.run(function=hello_world,\n",
    "                      handler='handler',\n",
    "                      local=MLRUN_LOCAL)"
   ]
  },
  {
   "cell_type": "code",
   "execution_count": null,
   "metadata": {},
   "outputs": [],
   "source": [
    "# get the run results\n",
    "logger.info(f\"Run ID: {run.metadata.uid}\")\n",
    "logger.info(f\"Run state: {run.status.state}\")\n",
    "logger.info(f\"Run results: {run.status.results}\")"
   ]
  }
 ],
 "metadata": {
  "kernelspec": {
   "display_name": "local-mlrun",
   "language": "python",
   "name": "python3"
  },
  "language_info": {
   "codemirror_mode": {
    "name": "ipython",
    "version": 3
   },
   "file_extension": ".py",
   "mimetype": "text/x-python",
   "name": "python",
   "nbconvert_exporter": "python",
   "pygments_lexer": "ipython3",
   "version": "3.11.12"
  }
 },
 "nbformat": 4,
 "nbformat_minor": 2
}
