{
 "cells": [
  {
   "cell_type": "markdown",
   "id": "f211c84a",
   "metadata": {},
   "source": [
    "# query_to_dataset"
   ]
  },
  {
   "cell_type": "code",
   "execution_count": 1,
   "id": "95869827",
   "metadata": {},
   "outputs": [],
   "source": [
    "import mlrun\n",
    "from os import environ"
   ]
  },
  {
   "cell_type": "markdown",
   "id": "2155b0d0",
   "metadata": {},
   "source": [
    "## 1. Configuration"
   ]
  },
  {
   "cell_type": "code",
   "execution_count": 2,
   "id": "1b2df691",
   "metadata": {},
   "outputs": [],
   "source": [
    "project_name = \"debug\"\n",
    "image = \"registry-service.mlrun.svc.cluster.local/mlrun/mlrun:1.9.1\"\n",
    "\n",
    "query_file = \"sample.sql\"\n",
    "schema = \"lakehouse\"\n",
    "catalog = \"iceberg\"\n",
    "\n",
    "tag = \"0.0.1\""
   ]
  },
  {
   "cell_type": "code",
   "execution_count": 3,
   "id": "11c57a47",
   "metadata": {},
   "outputs": [
    {
     "name": "stdout",
     "output_type": "stream",
     "text": [
      "> 2025-08-21 16:42:43,182 [info] Project loaded successfully: {\"project_name\":\"debug-johannes\"}\n"
     ]
    }
   ],
   "source": [
    "# get the debug project\n",
    "project = mlrun.get_or_create_project(\n",
    "    name=project_name,\n",
    "    context=\"./\",\n",
    "    user_project=True\n",
    ")"
   ]
  },
  {
   "cell_type": "code",
   "execution_count": 4,
   "id": "8f1d1b66",
   "metadata": {},
   "outputs": [],
   "source": [
    "# load sample query\n",
    "with open(query_file, \"r\") as f:\n",
    "    query = f.read()"
   ]
  },
  {
   "cell_type": "markdown",
   "id": "22962791",
   "metadata": {},
   "source": [
    "## 1.1 Project Secrets"
   ]
  },
  {
   "cell_type": "code",
   "execution_count": 5,
   "id": "23af79f5",
   "metadata": {},
   "outputs": [],
   "source": [
    "# set secrets for trino access\n",
    "# project.set_secrets({\n",
    "#     \"TRINO_HOST\": \"dragon.lan\",\n",
    "#     \"TRINO_PORT\": \"9191\",\n",
    "#     \"TRINO_USER\": \"johnny\",\n",
    "# })\n",
    "\n",
    "environ[\"TRINO_HOST\"] = \"dragon.lan\"\n",
    "environ[\"TRINO_PORT\"] = \"9191\"\n",
    "environ[\"TRINO_USER\"] = \"johnny\""
   ]
  },
  {
   "cell_type": "markdown",
   "id": "3094480c",
   "metadata": {},
   "source": [
    "## 2. Run Locally"
   ]
  },
  {
   "cell_type": "code",
   "execution_count": 6,
   "id": "2c6cac87",
   "metadata": {},
   "outputs": [],
   "source": [
    "function = mlrun.code_to_function(\n",
    "    name=\"query_to_dataset\",\n",
    "    filename=\"query_to_dataset.py\",\n",
    "    kind=\"job\",\n",
    "    image=image,\n",
    "    handler=\"query_to_dataset\",\n",
    "    requirements_file=\"requirements.txt\"\n",
    ")"
   ]
  },
  {
   "cell_type": "code",
   "execution_count": 7,
   "id": "ebd88061",
   "metadata": {},
   "outputs": [
    {
     "name": "stdout",
     "output_type": "stream",
     "text": [
      "> 2025-08-21 16:42:43,203 [warning] It is recommended to use k8s secret (specify secret_name), specifying aws_access_key/aws_secret_key directly is unsafe.\n",
      "> 2025-08-21 16:42:43,208 [info] Storing function: {\"db\":\"http://dragon.local:30070\",\"name\":\"example\",\"uid\":\"095b7a53fea84b9687aa483021c187a4\"}\n",
      "> 2025-08-21 16:42:43,260 [info] Connecting to Trino\n",
      "> 2025-08-21 16:42:43,262 [info] Executing SQL query\n",
      "> 2025-08-21 16:42:57,426 [info] Logging dataset\n"
     ]
    },
    {
     "data": {
      "text/html": [
       "<style>\n",
       ".dictlist {\n",
       "  background-color: #4EC64B;\n",
       "  text-align: center;\n",
       "  margin: 4px;\n",
       "  border-radius: 3px; padding: 0px 3px 1px 3px; display: inline-block;}\n",
       ".artifact {\n",
       "  cursor: pointer;\n",
       "  background-color: #4EC64B;\n",
       "  text-align: left;\n",
       "  margin: 4px; border-radius: 3px; padding: 0px 3px 1px 3px; display: inline-block;\n",
       "}\n",
       "div.block.hidden {\n",
       "  display: none;\n",
       "}\n",
       ".clickable {\n",
       "  cursor: pointer;\n",
       "}\n",
       ".ellipsis {\n",
       "  display: inline-block;\n",
       "  max-width: 60px;\n",
       "  white-space: nowrap;\n",
       "  overflow: hidden;\n",
       "  text-overflow: ellipsis;\n",
       "}\n",
       ".master-wrapper {\n",
       "  display: flex;\n",
       "  flex-flow: row nowrap;\n",
       "  justify-content: flex-start;\n",
       "  align-items: stretch;\n",
       "}\n",
       ".master-tbl {\n",
       "  flex: 3\n",
       "}\n",
       ".master-wrapper > div {\n",
       "  margin: 4px;\n",
       "  padding: 10px;\n",
       "}\n",
       "iframe.fileview {\n",
       "  border: 0 none;\n",
       "  height: 100%;\n",
       "  width: 100%;\n",
       "  white-space: pre-wrap;\n",
       "}\n",
       ".pane-header-title {\n",
       "  width: 80%;\n",
       "  font-weight: 500;\n",
       "}\n",
       ".pane-header {\n",
       "  line-height: 1;\n",
       "  background-color: #4EC64B;\n",
       "  padding: 3px;\n",
       "}\n",
       ".pane-header .close {\n",
       "  font-size: 20px;\n",
       "  font-weight: 700;\n",
       "  float: right;\n",
       "  margin-top: -5px;\n",
       "}\n",
       ".master-wrapper .right-pane {\n",
       "  border: 1px inset silver;\n",
       "  width: 40%;\n",
       "  min-height: 300px;\n",
       "  flex: 3\n",
       "  min-width: 500px;\n",
       "}\n",
       ".master-wrapper * {\n",
       "  box-sizing: border-box;\n",
       "}\n",
       "</style><script>\n",
       "function copyToClipboard(fld) {\n",
       "    if (document.queryCommandSupported && document.queryCommandSupported('copy')) {\n",
       "        var textarea = document.createElement('textarea');\n",
       "        textarea.textContent = fld.innerHTML;\n",
       "        textarea.style.position = 'fixed';\n",
       "        document.body.appendChild(textarea);\n",
       "        textarea.select();\n",
       "\n",
       "        try {\n",
       "            return document.execCommand('copy'); // Security exception may be thrown by some browsers.\n",
       "        } catch (ex) {\n",
       "\n",
       "        } finally {\n",
       "            document.body.removeChild(textarea);\n",
       "        }\n",
       "    }\n",
       "}\n",
       "function expandPanel(el) {\n",
       "  const panelName = \"#\" + el.getAttribute('paneName');\n",
       "\n",
       "  // Get the base URL of the current notebook\n",
       "  var baseUrl = window.location.origin;\n",
       "\n",
       "  // Construct the full URL\n",
       "  var fullUrl = new URL(el.title, baseUrl).href;\n",
       "\n",
       "  document.querySelector(panelName + \"-title\").innerHTML = fullUrl\n",
       "  iframe = document.querySelector(panelName + \"-body\");\n",
       "\n",
       "  const tblcss = `<style> body { font-family: Arial, Helvetica, sans-serif;}\n",
       "    #csv { margin-bottom: 15px; }\n",
       "    #csv table { border-collapse: collapse;}\n",
       "    #csv table td { padding: 4px 8px; border: 1px solid silver;} </style>`;\n",
       "\n",
       "  function csvToHtmlTable(str) {\n",
       "    return '<div id=\"csv\"><table><tr><td>' +  str.replace(/[\\n\\r]+$/g, '').replace(/[\\n\\r]+/g, '</td></tr><tr><td>')\n",
       "      .replace(/,/g, '</td><td>') + '</td></tr></table></div>';\n",
       "  }\n",
       "\n",
       "  function reqListener () {\n",
       "    if (fullUrl.endsWith(\".csv\")) {\n",
       "      iframe.setAttribute(\"srcdoc\", tblcss + csvToHtmlTable(this.responseText));\n",
       "    } else {\n",
       "      iframe.setAttribute(\"srcdoc\", this.responseText);\n",
       "    }\n",
       "    console.log(this.responseText);\n",
       "  }\n",
       "\n",
       "  const oReq = new XMLHttpRequest();\n",
       "  oReq.addEventListener(\"load\", reqListener);\n",
       "  oReq.open(\"GET\", fullUrl);\n",
       "  oReq.send();\n",
       "\n",
       "\n",
       "  //iframe.src = fullUrl;\n",
       "  const resultPane = document.querySelector(panelName + \"-pane\");\n",
       "  if (resultPane.classList.contains(\"hidden\")) {\n",
       "    resultPane.classList.remove(\"hidden\");\n",
       "  }\n",
       "}\n",
       "function closePanel(el) {\n",
       "  const panelName = \"#\" + el.getAttribute('paneName')\n",
       "  const resultPane = document.querySelector(panelName + \"-pane\");\n",
       "  if (!resultPane.classList.contains(\"hidden\")) {\n",
       "    resultPane.classList.add(\"hidden\");\n",
       "  }\n",
       "}\n",
       "\n",
       "</script>\n",
       "<div class=\"master-wrapper\">\n",
       "  <div class=\"block master-tbl\"><div>\n",
       "<style scoped>\n",
       "    .dataframe tbody tr th:only-of-type {\n",
       "        vertical-align: middle;\n",
       "    }\n",
       "\n",
       "    .dataframe tbody tr th {\n",
       "        vertical-align: top;\n",
       "    }\n",
       "\n",
       "    .dataframe thead th {\n",
       "        text-align: right;\n",
       "    }\n",
       "</style>\n",
       "<table border=\"1\" class=\"dataframe\">\n",
       "  <thead>\n",
       "    <tr style=\"text-align: right;\">\n",
       "      <th>project</th>\n",
       "      <th>uid</th>\n",
       "      <th>iter</th>\n",
       "      <th>start</th>\n",
       "      <th>end</th>\n",
       "      <th>state</th>\n",
       "      <th>kind</th>\n",
       "      <th>name</th>\n",
       "      <th>labels</th>\n",
       "      <th>inputs</th>\n",
       "      <th>parameters</th>\n",
       "      <th>results</th>\n",
       "      <th>artifact_uris</th>\n",
       "    </tr>\n",
       "  </thead>\n",
       "  <tbody>\n",
       "    <tr>\n",
       "      <td>debug-johannes</td>\n",
       "      <td><div title=\"095b7a53fea84b9687aa483021c187a4\">...c187a4</div></td>\n",
       "      <td>0</td>\n",
       "      <td>Aug 21 14:42:43</td>\n",
       "      <td>NaT</td>\n",
       "      <td>completed</td>\n",
       "      <td>run</td>\n",
       "      <td>example</td>\n",
       "      <td><div class=\"dictlist\">v3io_user=johannes</div><div class=\"dictlist\">kind=local</div><div class=\"dictlist\">owner=johannes</div><div class=\"dictlist\">host=dragon</div></td>\n",
       "      <td></td>\n",
       "      <td><div class=\"dictlist\">query=SELECT\\n    *\\nFROM\\n    \"iceberg\".\"lakehouse\".\"taxi_trips\"\\nWHERE\\n    CAST(trip_start_timestamp AS DATE) BETWEEN\\n        (CAST('2023-05-01' AS DATE) - INTERVAL '3' MONTH) AND\\n        (CAST('2023-05-01' AS DATE) - INTERVAL '2' MONTH)</div><div class=\"dictlist\">schema=lakehouse</div><div class=\"dictlist\">catalog=iceberg</div><div class=\"dictlist\">dataset_name=sample-dataset</div><div class=\"dictlist\">table_name=sample_table</div><div class=\"dictlist\">tag=0.0.1</div></td>\n",
       "      <td><div class=\"dictlist\">rows=465977</div></td>\n",
       "      <td><div class=\"dictlist\">sample-dataset=store://datasets/debug-johannes/example_sample-dataset#0:0.0.1@095b7a53fea84b9687aa483021c187a4^353a0b3e7db61586947b4d871d155051425bf1c7</div></td>\n",
       "    </tr>\n",
       "  </tbody>\n",
       "</table>\n",
       "</div></div>\n",
       "  <div id=\"result9a0b0067-pane\" class=\"right-pane block hidden\">\n",
       "    <div class=\"pane-header\">\n",
       "      <span id=\"result9a0b0067-title\" class=\"pane-header-title\">Title</span>\n",
       "      <span onclick=\"closePanel(this)\" paneName=\"result9a0b0067\" class=\"close clickable\">&times;</span>\n",
       "    </div>\n",
       "    <iframe class=\"fileview\" id=\"result9a0b0067-body\"></iframe>\n",
       "  </div>\n",
       "</div>\n"
      ],
      "text/plain": [
       "<IPython.core.display.HTML object>"
      ]
     },
     "metadata": {},
     "output_type": "display_data"
    },
    {
     "name": "stdout",
     "output_type": "stream",
     "text": [
      "\n"
     ]
    },
    {
     "data": {
      "text/html": [
       "<b> > to track results use the .show() or .logs() methods </b>"
      ],
      "text/plain": [
       "<IPython.core.display.HTML object>"
      ]
     },
     "metadata": {},
     "output_type": "display_data"
    },
    {
     "name": "stdout",
     "output_type": "stream",
     "text": [
      "> 2025-08-21 16:42:58,817 [info] Run execution finished: {\"name\":\"example\",\"status\":\"completed\"}\n"
     ]
    }
   ],
   "source": [
    "result = function.run(\n",
    "    name=\"example\",\n",
    "    params={\n",
    "        \"query\": query,\n",
    "        \"schema\": schema,\n",
    "        \"catalog\": catalog,\n",
    "        \"dataset_name\": \"sample-dataset\",\n",
    "        \"table_name\": \"sample_table\",\n",
    "        \"tag\": tag\n",
    "    },\n",
    "    tag=tag,\n",
    "    local=True,\n",
    "    auto_build=False\n",
    ")"
   ]
  },
  {
   "cell_type": "code",
   "execution_count": 8,
   "id": "c452ea58",
   "metadata": {},
   "outputs": [
    {
     "name": "stdout",
     "output_type": "stream",
     "text": [
      "store://datasets/debug-johannes/example_sample-dataset:0.0.1@095b7a53fea84b9687aa483021c187a4^353a0b3e7db61586947b4d871d155051425bf1c7\n"
     ]
    }
   ],
   "source": [
    "print(result.outputs[\"sample-dataset\"])"
   ]
  }
 ],
 "metadata": {
  "kernelspec": {
   "display_name": "local-mlrun",
   "language": "python",
   "name": "python3"
  },
  "language_info": {
   "codemirror_mode": {
    "name": "ipython",
    "version": 3
   },
   "file_extension": ".py",
   "mimetype": "text/x-python",
   "name": "python",
   "nbconvert_exporter": "python",
   "pygments_lexer": "ipython3",
   "version": "3.10.18"
  }
 },
 "nbformat": 4,
 "nbformat_minor": 5
}
