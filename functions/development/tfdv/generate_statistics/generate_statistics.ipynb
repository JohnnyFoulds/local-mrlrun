{
 "cells": [
  {
   "cell_type": "markdown",
   "id": "f6f84ee7",
   "metadata": {},
   "source": [
    "# generate_statistics"
   ]
  }
 ],
 "metadata": {
  "kernelspec": {
   "display_name": "mlrun-tfv",
   "language": "python",
   "name": "python3"
  },
  "language_info": {
   "name": "python",
   "version": "3.10.18"
  }
 },
 "nbformat": 4,
 "nbformat_minor": 5
}
