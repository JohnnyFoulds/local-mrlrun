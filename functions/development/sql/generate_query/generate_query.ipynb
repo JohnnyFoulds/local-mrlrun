{
 "cells": [
  {
   "cell_type": "markdown",
   "id": "a2f326f8",
   "metadata": {},
   "source": [
    "# generate_query"
   ]
  },
  {
   "cell_type": "code",
   "execution_count": 1,
   "id": "4d3b31c6",
   "metadata": {},
   "outputs": [],
   "source": [
    "import mlrun"
   ]
  },
  {
   "cell_type": "markdown",
   "id": "9fdaf750",
   "metadata": {},
   "source": [
    "## 1. Configuration"
   ]
  },
  {
   "cell_type": "code",
   "execution_count": 2,
   "id": "b6c4260f",
   "metadata": {},
   "outputs": [],
   "source": [
    "project_name = \"debug\"\n",
    "image = \"dragon:30500/mlrun/mlrun:1.9.1\"\n",
    "sample_file = \"sample.sql\""
   ]
  },
  {
   "cell_type": "code",
   "execution_count": 3,
   "id": "9e012e71",
   "metadata": {},
   "outputs": [
    {
     "name": "stdout",
     "output_type": "stream",
     "text": [
      "> 2025-08-21 13:49:35,718 [info] Created and saved project: {\"context\":\"./\",\"from_template\":null,\"name\":\"debug-johannes\",\"overwrite\":false,\"save\":true}\n",
      "> 2025-08-21 13:49:35,718 [info] Project created successfully: {\"project_name\":\"debug-johannes\",\"stored_in_db\":true}\n"
     ]
    }
   ],
   "source": [
    "# get the debug project\n",
    "project = mlrun.get_or_create_project(\n",
    "    name=project_name,\n",
    "    context=\"./\",\n",
    "    user_project=True\n",
    ")"
   ]
  },
  {
   "cell_type": "code",
   "execution_count": 4,
   "id": "b4cc2988",
   "metadata": {},
   "outputs": [
    {
     "data": {
      "text/plain": [
       "<mlrun.artifacts.base.Artifact at 0x7df6d4380b20>"
      ]
     },
     "execution_count": 4,
     "metadata": {},
     "output_type": "execute_result"
    }
   ],
   "source": [
    "# log the artifact\n",
    "project.log_artifact(\n",
    "    item=\"sample-sql\",\n",
    "    local_path=sample_file,\n",
    "    format=\"sql\",\n",
    "    labels={ \"Purpose\": \"debug\" }\n",
    ")"
   ]
  },
  {
   "cell_type": "code",
   "execution_count": 5,
   "id": "74e2cec7",
   "metadata": {},
   "outputs": [],
   "source": [
    "sql_artifact = project.get_artifact(\"sample-sql\")"
   ]
  },
  {
   "cell_type": "markdown",
   "id": "de6b1bf1",
   "metadata": {},
   "source": [
    "## 2. Run Locally"
   ]
  },
  {
   "cell_type": "code",
   "execution_count": 6,
   "id": "00668dd8",
   "metadata": {},
   "outputs": [],
   "source": [
    "function = mlrun.code_to_function(\n",
    "    name=\"generate_query\",\n",
    "    filename=\"generate_query.py\",\n",
    "    kind=\"job\",\n",
    "    image=image,\n",
    "    handler=\"generate_query\",\n",
    "    requirements_file=\"requirements.txt\"\n",
    ")"
   ]
  },
  {
   "cell_type": "code",
   "execution_count": 7,
   "id": "51b4092c",
   "metadata": {},
   "outputs": [
    {
     "name": "stdout",
     "output_type": "stream",
     "text": [
      "> 2025-08-21 13:49:35,834 [warning] It is recommended to use k8s secret (specify secret_name), specifying aws_access_key/aws_secret_key directly is unsafe.\n",
      "> 2025-08-21 13:49:35,839 [info] Storing function: {\"db\":\"http://dragon.local:30070\",\"name\":\"generate-query-generate-query\",\"uid\":\"182394fed9ae4f008ef5beef7e345901\"}\n",
      "> 2025-08-21 13:49:35,924 [info] downloading s3://mlrun/projects/debug-johannes/artifacts/sample-sql.sql to local temp file\n",
      "> 2025-08-21 13:49:35,997 [info] Loading SQL template from artifact\n",
      "> 2025-08-21 13:49:35,998 [info] Performing replacements in the SQL template\n"
     ]
    },
    {
     "data": {
      "text/html": [
       "<style>\n",
       ".dictlist {\n",
       "  background-color: #4EC64B;\n",
       "  text-align: center;\n",
       "  margin: 4px;\n",
       "  border-radius: 3px; padding: 0px 3px 1px 3px; display: inline-block;}\n",
       ".artifact {\n",
       "  cursor: pointer;\n",
       "  background-color: #4EC64B;\n",
       "  text-align: left;\n",
       "  margin: 4px; border-radius: 3px; padding: 0px 3px 1px 3px; display: inline-block;\n",
       "}\n",
       "div.block.hidden {\n",
       "  display: none;\n",
       "}\n",
       ".clickable {\n",
       "  cursor: pointer;\n",
       "}\n",
       ".ellipsis {\n",
       "  display: inline-block;\n",
       "  max-width: 60px;\n",
       "  white-space: nowrap;\n",
       "  overflow: hidden;\n",
       "  text-overflow: ellipsis;\n",
       "}\n",
       ".master-wrapper {\n",
       "  display: flex;\n",
       "  flex-flow: row nowrap;\n",
       "  justify-content: flex-start;\n",
       "  align-items: stretch;\n",
       "}\n",
       ".master-tbl {\n",
       "  flex: 3\n",
       "}\n",
       ".master-wrapper > div {\n",
       "  margin: 4px;\n",
       "  padding: 10px;\n",
       "}\n",
       "iframe.fileview {\n",
       "  border: 0 none;\n",
       "  height: 100%;\n",
       "  width: 100%;\n",
       "  white-space: pre-wrap;\n",
       "}\n",
       ".pane-header-title {\n",
       "  width: 80%;\n",
       "  font-weight: 500;\n",
       "}\n",
       ".pane-header {\n",
       "  line-height: 1;\n",
       "  background-color: #4EC64B;\n",
       "  padding: 3px;\n",
       "}\n",
       ".pane-header .close {\n",
       "  font-size: 20px;\n",
       "  font-weight: 700;\n",
       "  float: right;\n",
       "  margin-top: -5px;\n",
       "}\n",
       ".master-wrapper .right-pane {\n",
       "  border: 1px inset silver;\n",
       "  width: 40%;\n",
       "  min-height: 300px;\n",
       "  flex: 3\n",
       "  min-width: 500px;\n",
       "}\n",
       ".master-wrapper * {\n",
       "  box-sizing: border-box;\n",
       "}\n",
       "</style><script>\n",
       "function copyToClipboard(fld) {\n",
       "    if (document.queryCommandSupported && document.queryCommandSupported('copy')) {\n",
       "        var textarea = document.createElement('textarea');\n",
       "        textarea.textContent = fld.innerHTML;\n",
       "        textarea.style.position = 'fixed';\n",
       "        document.body.appendChild(textarea);\n",
       "        textarea.select();\n",
       "\n",
       "        try {\n",
       "            return document.execCommand('copy'); // Security exception may be thrown by some browsers.\n",
       "        } catch (ex) {\n",
       "\n",
       "        } finally {\n",
       "            document.body.removeChild(textarea);\n",
       "        }\n",
       "    }\n",
       "}\n",
       "function expandPanel(el) {\n",
       "  const panelName = \"#\" + el.getAttribute('paneName');\n",
       "\n",
       "  // Get the base URL of the current notebook\n",
       "  var baseUrl = window.location.origin;\n",
       "\n",
       "  // Construct the full URL\n",
       "  var fullUrl = new URL(el.title, baseUrl).href;\n",
       "\n",
       "  document.querySelector(panelName + \"-title\").innerHTML = fullUrl\n",
       "  iframe = document.querySelector(panelName + \"-body\");\n",
       "\n",
       "  const tblcss = `<style> body { font-family: Arial, Helvetica, sans-serif;}\n",
       "    #csv { margin-bottom: 15px; }\n",
       "    #csv table { border-collapse: collapse;}\n",
       "    #csv table td { padding: 4px 8px; border: 1px solid silver;} </style>`;\n",
       "\n",
       "  function csvToHtmlTable(str) {\n",
       "    return '<div id=\"csv\"><table><tr><td>' +  str.replace(/[\\n\\r]+$/g, '').replace(/[\\n\\r]+/g, '</td></tr><tr><td>')\n",
       "      .replace(/,/g, '</td><td>') + '</td></tr></table></div>';\n",
       "  }\n",
       "\n",
       "  function reqListener () {\n",
       "    if (fullUrl.endsWith(\".csv\")) {\n",
       "      iframe.setAttribute(\"srcdoc\", tblcss + csvToHtmlTable(this.responseText));\n",
       "    } else {\n",
       "      iframe.setAttribute(\"srcdoc\", this.responseText);\n",
       "    }\n",
       "    console.log(this.responseText);\n",
       "  }\n",
       "\n",
       "  const oReq = new XMLHttpRequest();\n",
       "  oReq.addEventListener(\"load\", reqListener);\n",
       "  oReq.open(\"GET\", fullUrl);\n",
       "  oReq.send();\n",
       "\n",
       "\n",
       "  //iframe.src = fullUrl;\n",
       "  const resultPane = document.querySelector(panelName + \"-pane\");\n",
       "  if (resultPane.classList.contains(\"hidden\")) {\n",
       "    resultPane.classList.remove(\"hidden\");\n",
       "  }\n",
       "}\n",
       "function closePanel(el) {\n",
       "  const panelName = \"#\" + el.getAttribute('paneName')\n",
       "  const resultPane = document.querySelector(panelName + \"-pane\");\n",
       "  if (!resultPane.classList.contains(\"hidden\")) {\n",
       "    resultPane.classList.add(\"hidden\");\n",
       "  }\n",
       "}\n",
       "\n",
       "</script>\n",
       "<div class=\"master-wrapper\">\n",
       "  <div class=\"block master-tbl\"><div>\n",
       "<style scoped>\n",
       "    .dataframe tbody tr th:only-of-type {\n",
       "        vertical-align: middle;\n",
       "    }\n",
       "\n",
       "    .dataframe tbody tr th {\n",
       "        vertical-align: top;\n",
       "    }\n",
       "\n",
       "    .dataframe thead th {\n",
       "        text-align: right;\n",
       "    }\n",
       "</style>\n",
       "<table border=\"1\" class=\"dataframe\">\n",
       "  <thead>\n",
       "    <tr style=\"text-align: right;\">\n",
       "      <th>project</th>\n",
       "      <th>uid</th>\n",
       "      <th>iter</th>\n",
       "      <th>start</th>\n",
       "      <th>end</th>\n",
       "      <th>state</th>\n",
       "      <th>kind</th>\n",
       "      <th>name</th>\n",
       "      <th>labels</th>\n",
       "      <th>inputs</th>\n",
       "      <th>parameters</th>\n",
       "      <th>results</th>\n",
       "    </tr>\n",
       "  </thead>\n",
       "  <tbody>\n",
       "    <tr>\n",
       "      <td>debug-johannes</td>\n",
       "      <td><div title=\"182394fed9ae4f008ef5beef7e345901\">...345901</div></td>\n",
       "      <td>0</td>\n",
       "      <td>Aug 21 11:49:35</td>\n",
       "      <td>NaT</td>\n",
       "      <td>completed</td>\n",
       "      <td>run</td>\n",
       "      <td>generate-query-generate-query</td>\n",
       "      <td><div class=\"dictlist\">v3io_user=johannes</div><div class=\"dictlist\">kind=local</div><div class=\"dictlist\">owner=johannes</div><div class=\"dictlist\">host=dragon</div></td>\n",
       "      <td><div title=\"store://artifacts/debug-johannes/sample-sql#0:latest@fded797a-e52c-48d7-92da-493ea76678ce^710667496a7dd6f2b14c0ccf8f4a0d33a31e42cd\">input_file</div></td>\n",
       "      <td><div class=\"dictlist\">replacements={'catalog': 'iceberg', 'schema': 'lakehouse', 'source_table': 'taxi_trips', 'filter_column': 'trip_start_timestamp', 'filter_start_value': '2023-05-01'}</div></td>\n",
       "      <td><div class=\"dictlist\">sql=SELECT\\n    *\\nFROM\\n    \"iceberg\".\"lakehouse\".\"taxi_trips\"\\nWHERE\\n    CAST(trip_start_timestamp AS DATE) BETWEEN\\n        (CAST('2023-05-01' AS DATE) - INTERVAL '3' MONTH) AND\\n        (CAST('2023-05-01' AS DATE) - INTERVAL '2' MONTH)</div></td>\n",
       "    </tr>\n",
       "  </tbody>\n",
       "</table>\n",
       "</div></div>\n",
       "  <div id=\"result813d3770-pane\" class=\"right-pane block hidden\">\n",
       "    <div class=\"pane-header\">\n",
       "      <span id=\"result813d3770-title\" class=\"pane-header-title\">Title</span>\n",
       "      <span onclick=\"closePanel(this)\" paneName=\"result813d3770\" class=\"close clickable\">&times;</span>\n",
       "    </div>\n",
       "    <iframe class=\"fileview\" id=\"result813d3770-body\"></iframe>\n",
       "  </div>\n",
       "</div>\n"
      ],
      "text/plain": [
       "<IPython.core.display.HTML object>"
      ]
     },
     "metadata": {},
     "output_type": "display_data"
    },
    {
     "name": "stdout",
     "output_type": "stream",
     "text": [
      "\n"
     ]
    },
    {
     "data": {
      "text/html": [
       "<b> > to track results use the .show() or .logs() methods </b>"
      ],
      "text/plain": [
       "<IPython.core.display.HTML object>"
      ]
     },
     "metadata": {},
     "output_type": "display_data"
    },
    {
     "name": "stdout",
     "output_type": "stream",
     "text": [
      "> 2025-08-21 13:49:36,039 [info] Run execution finished: {\"name\":\"generate-query-generate-query\",\"status\":\"completed\"}\n"
     ]
    }
   ],
   "source": [
    "result = function.run(\n",
    "    inputs= {\n",
    "        \"input_file\": sql_artifact.uri\n",
    "    },\n",
    "    params={\n",
    "        \"replacements\": {\n",
    "            \"catalog\": \"iceberg\",\n",
    "            \"schema\": \"lakehouse\",\n",
    "            \"source_table\": \"taxi_trips\",\n",
    "            \"filter_column\": \"trip_start_timestamp\",\n",
    "            \"filter_start_value\": \"2023-05-01\"\n",
    "        }\n",
    "    },\n",
    "    local=True\n",
    ")"
   ]
  },
  {
   "cell_type": "code",
   "execution_count": 8,
   "id": "c1993069",
   "metadata": {},
   "outputs": [
    {
     "name": "stdout",
     "output_type": "stream",
     "text": [
      "SELECT\n",
      "    *\n",
      "FROM\n",
      "    \"iceberg\".\"lakehouse\".\"taxi_trips\"\n",
      "WHERE\n",
      "    CAST(trip_start_timestamp AS DATE) BETWEEN\n",
      "        (CAST('2023-05-01' AS DATE) - INTERVAL '3' MONTH) AND\n",
      "        (CAST('2023-05-01' AS DATE) - INTERVAL '2' MONTH)\n"
     ]
    }
   ],
   "source": [
    "print(result.outputs[\"sql\"])"
   ]
  }
 ],
 "metadata": {
  "kernelspec": {
   "display_name": "local-mlrun",
   "language": "python",
   "name": "python3"
  },
  "language_info": {
   "codemirror_mode": {
    "name": "ipython",
    "version": 3
   },
   "file_extension": ".py",
   "mimetype": "text/x-python",
   "name": "python",
   "nbconvert_exporter": "python",
   "pygments_lexer": "ipython3",
   "version": "3.11.12"
  }
 },
 "nbformat": 4,
 "nbformat_minor": 5
}
